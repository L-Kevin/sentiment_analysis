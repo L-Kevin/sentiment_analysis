{
 "cells": [
  {
   "cell_type": "markdown",
   "id": "51fa8f59",
   "metadata": {},
   "source": [
    "# MODELING"
   ]
  },
  {
   "cell_type": "code",
   "execution_count": 1,
   "id": "bb138713",
   "metadata": {},
   "outputs": [],
   "source": [
    "# Imports\n",
    "import numpy as np, pandas as pd, matplotlib.pyplot as plt, seaborn as sns\n",
    "import re\n",
    "import pickle\n",
    "\n",
    "# NLP import\n",
    "from bs4 import BeautifulSoup\n",
    "from nltk.tokenize import word_tokenize\n",
    "from nltk.stem import WordNetLemmatizer, SnowballStemmer\n",
    "from nltk.corpus import stopwords\n",
    "from sklearn.feature_extraction.text import CountVectorizer, TfidfVectorizer\n",
    "from gensim.models import Word2Vec\n",
    "\n",
    "# Modeling Evaluation\n",
    "from sklearn.model_selection import train_test_split, cross_val_score, GridSearchCV\n",
    "from sklearn.metrics import confusion_matrix, accuracy_score, precision_score, recall_score, f1_score, roc_auc_score, classification_report\n",
    "\n",
    "# Pipeline\n",
    "from sklearn.pipeline import Pipeline\n",
    "\n",
    "# Machine Learning\n",
    "from sklearn.naive_bayes import MultinomialNB, BernoulliNB, GaussianNB\n",
    "from sklearn.tree import DecisionTreeClassifier \n",
    "from sklearn.ensemble import RandomForestClassifier, AdaBoostClassifier\n",
    "from sklearn.neighbors import KNeighborsClassifier\n",
    "from sklearn.linear_model import LogisticRegression\n",
    "from sklearn.svm import SVC\n",
    "from xgboost import XGBClassifier\n",
    "from sklearn.multiclass import OneVsRestClassifier"
   ]
  },
  {
   "cell_type": "code",
   "execution_count": 8,
   "id": "f67ef653",
   "metadata": {},
   "outputs": [
    {
     "data": {
      "text/html": [
       "<div>\n",
       "<style scoped>\n",
       "    .dataframe tbody tr th:only-of-type {\n",
       "        vertical-align: middle;\n",
       "    }\n",
       "\n",
       "    .dataframe tbody tr th {\n",
       "        vertical-align: top;\n",
       "    }\n",
       "\n",
       "    .dataframe thead th {\n",
       "        text-align: right;\n",
       "    }\n",
       "</style>\n",
       "<table border=\"1\" class=\"dataframe\">\n",
       "  <thead>\n",
       "    <tr style=\"text-align: right;\">\n",
       "      <th></th>\n",
       "      <th>positive</th>\n",
       "      <th>text</th>\n",
       "    </tr>\n",
       "  </thead>\n",
       "  <tbody>\n",
       "    <tr>\n",
       "      <th>0</th>\n",
       "      <td>1</td>\n",
       "      <td>bromwell high is a cartoon comedy it ran at th...</td>\n",
       "    </tr>\n",
       "    <tr>\n",
       "      <th>1</th>\n",
       "      <td>1</td>\n",
       "      <td>homelessness or houselessness as george carlin...</td>\n",
       "    </tr>\n",
       "    <tr>\n",
       "      <th>2</th>\n",
       "      <td>1</td>\n",
       "      <td>brilliant over acting by lesley ann warren bes...</td>\n",
       "    </tr>\n",
       "    <tr>\n",
       "      <th>3</th>\n",
       "      <td>1</td>\n",
       "      <td>this is easily the most underrated film inn th...</td>\n",
       "    </tr>\n",
       "    <tr>\n",
       "      <th>4</th>\n",
       "      <td>1</td>\n",
       "      <td>this is NOTthe typical mel brooks film it was ...</td>\n",
       "    </tr>\n",
       "  </tbody>\n",
       "</table>\n",
       "</div>"
      ],
      "text/plain": [
       "   positive                                               text\n",
       "0         1  bromwell high is a cartoon comedy it ran at th...\n",
       "1         1  homelessness or houselessness as george carlin...\n",
       "2         1  brilliant over acting by lesley ann warren bes...\n",
       "3         1  this is easily the most underrated film inn th...\n",
       "4         1  this is NOTthe typical mel brooks film it was ..."
      ]
     },
     "execution_count": 8,
     "metadata": {},
     "output_type": "execute_result"
    }
   ],
   "source": [
    "df = pd.read_csv('../datasets/train_cleaned.csv')\n",
    "\n",
    "df.head()"
   ]
  },
  {
   "cell_type": "code",
   "execution_count": 9,
   "id": "3364c3a1",
   "metadata": {},
   "outputs": [],
   "source": [
    "np.random.seed(42)"
   ]
  },
  {
   "cell_type": "code",
   "execution_count": 17,
   "id": "aa2824d7",
   "metadata": {},
   "outputs": [],
   "source": [
    "# Classification score and confusion matrix \n",
    "def evaluation(actual, pred, title = 'Confusion Matrix'):\n",
    "    cm = confusion_matrix(actual, pred)\n",
    "    precision = precision_score(actual, pred)\n",
    "    recall = recall_score(actual, pred)\n",
    "    accuracy = accuracy_score(actual, pred)\n",
    "    f1 = f1_score(actual, pred)\n",
    "    roc_auc = roc_auc_score(actual, pred)\n",
    "    \n",
    "    print('TEST:')\n",
    "    print('Accuracy: ', accuracy)\n",
    "    print('\\nRecall: ', recall)\n",
    "    print('Precision: ', precision)\n",
    "    print('F1: ', f1)\n",
    "    print('ROC_AUC: ', roc_auc)\n",
    "    \n",
    "    sns.heatmap(cm, cmap= 'cividis', annot=True, fmt='g', annot_kws={'size':20},\n",
    "                vmin=0, vmax=len(actual))\n",
    "    plt.xlabel('predicted', fontsize=18)\n",
    "    plt.ylabel('actual', fontsize=18)\n",
    "    plt.title(title, fontsize=18)\n",
    "    \n",
    "    plt.show();"
   ]
  },
  {
   "cell_type": "code",
   "execution_count": 11,
   "id": "a3ee128a",
   "metadata": {},
   "outputs": [],
   "source": [
    "# Pipeline method (also calls the evalation() method within)\n",
    "def pipe(vectorizer, model):\n",
    "    #Pipeline vectorizer + estimator\n",
    "    pipe = Pipeline([\n",
    "        ('vec', vectorizer),\n",
    "        ('model', model)\n",
    "    ])\n",
    "    \n",
    "    pipe.fit(X_train, y_train)\n",
    "    \n",
    "    train_score = pipe.score(X_train,y_train)\n",
    "    pred = pipe.predict(X_test) \n",
    "\n",
    "    print('TRAINING:')\n",
    "    print(f'Accuracy: {train_score}')\n",
    "    print()\n",
    "    evaluation(y_test, pred) # output values"
   ]
  },
  {
   "cell_type": "code",
   "execution_count": 12,
   "id": "e01adb0a",
   "metadata": {},
   "outputs": [],
   "source": [
    "# Feature and Target defined\n",
    "y = df['positive']\n",
    "X = df['text']\n",
    "\n",
    "# Train-test split\n",
    "X_train, X_test, y_train, y_test = train_test_split(X,\n",
    "                                                    y,\n",
    "                                                    test_size=0.2,\n",
    "                                                    stratify=y,\n",
    "                                                    random_state=42)"
   ]
  },
  {
   "cell_type": "markdown",
   "id": "f8d8e067",
   "metadata": {},
   "source": [
    "### PRELIMINARY MODEL COMPARISONS -- ACCURACY"
   ]
  },
  {
   "cell_type": "code",
   "execution_count": 7,
   "id": "aa57b6d4",
   "metadata": {},
   "outputs": [
    {
     "name": "stdout",
     "output_type": "stream",
     "text": [
      "(TFIDF) DEFAULT SCORE COMPARISON\n",
      "Logistic Regression: 0.8894500000000001\n",
      "KNN: 0.6014\n",
      "BernoulliNB: 0.8492000000000001\n",
      "MultinomialNB: 0.8689500000000001\n",
      "Random Forest: 0.85625\n",
      "AdaBoosting: 0.80135\n",
      "XGBoost: 0.8481500000000001\n"
     ]
    }
   ],
   "source": [
    "# Dictionary of all models for iteration\n",
    "models = {\n",
    "    'Logistic Regression':LogisticRegression(solver='liblinear'),\n",
    "    'KNN':KNeighborsClassifier(),\n",
    "    'BernoulliNB': BernoulliNB(),\n",
    "    'MultinomialNB': MultinomialNB(),\n",
    "    'Random Forest': RandomForestClassifier(random_state=42, n_jobs=-1),\n",
    "#     'SVC': SVC(random_state=42),\n",
    "    'AdaBoosting': AdaBoostClassifier(random_state=42),\n",
    "    'XGBoost': XGBClassifier(random_state=42, n_jobs=-1, use_label_encoder=False, eval_metric='logloss'),\n",
    "#     'OneVsRest': OneVsRestClassifier(n_jobs=-1)\n",
    "}\n",
    "\n",
    "# Iteration to generate 5-fold cross-valuation scores for each default model\n",
    "print('(TFIDF) DEFAULT SCORE COMPARISON')\n",
    "for name, model in models.items():\n",
    "    pipe = Pipeline([\n",
    "        ('vec', TfidfVectorizer(stop_words='english')),\n",
    "        ('model', model)\n",
    "    ])\n",
    "    \n",
    "    cv_score = cross_val_score(pipe, X_train, y_train, cv=5, n_jobs=-1).mean()\n",
    "    print(f'{name}: {cv_score}')\n",
    "    \n",
    "    \n",
    "    \n",
    "# (TFIDF) DEFAULT SCORE COMPARISON\n",
    "# Logistic Regression: 0.8894500000000001\n",
    "# KNN: 0.6014\n",
    "# BernoulliNB: 0.8492000000000001\n",
    "# MultinomialNB: 0.8689500000000001\n",
    "# Random Forest: 0.85625\n",
    "# AdaBoosting: 0.80135\n",
    "# XGBoost: 0.8481500000000001"
   ]
  },
  {
   "cell_type": "code",
   "execution_count": 8,
   "id": "f9c6b1b4",
   "metadata": {},
   "outputs": [
    {
     "name": "stdout",
     "output_type": "stream",
     "text": [
      "(COUNT) DEFAULT SCORE COMPARISON\n",
      "Logistic Regression: 0.8784000000000001\n",
      "KNN: 0.5847999999999999\n",
      "BernoulliNB: 0.8492000000000001\n",
      "MultinomialNB: 0.8606499999999999\n",
      "Random Forest: 0.85815\n",
      "AdaBoosting: 0.79885\n",
      "XGBoost: 0.8548500000000001\n"
     ]
    }
   ],
   "source": [
    "print('(COUNT) DEFAULT SCORE COMPARISON')\n",
    "for name, model in models.items():\n",
    "    pipe = Pipeline([\n",
    "        ('vec', CountVectorizer(stop_words='english')),\n",
    "        ('model', model)\n",
    "    ])\n",
    "    \n",
    "    cv_score = cross_val_score(pipe, X_train, y_train, cv=5, n_jobs=-1).mean()\n",
    "    print(f'{name}: {cv_score}')\n",
    "    \n",
    "    \n",
    "    \n",
    "# (COUNT) DEFAULT SCORE COMPARISON\n",
    "# Logistic Regression: 0.8784000000000001\n",
    "# KNN: 0.5847999999999999\n",
    "# BernoulliNB: 0.8492000000000001\n",
    "# MultinomialNB: 0.8606499999999999\n",
    "# Random Forest: 0.85815\n",
    "# AdaBoosting: 0.79885\n",
    "# XGBoost: 0.8548500000000001"
   ]
  },
  {
   "cell_type": "markdown",
   "id": "f028de9d",
   "metadata": {},
   "source": [
    "## Logistic Regression + TfidVectorizer has the best accuracy:\n",
    "- 0.8894500000000001\n",
    "- We'll take a look at ROC_AUC as well as separability performance is very important for accurate sentiment analysis"
   ]
  },
  {
   "cell_type": "markdown",
   "id": "83579385",
   "metadata": {},
   "source": [
    "### PRELIMINARY MODEL COMPARISONS -- AREA UNDER ROC"
   ]
  },
  {
   "cell_type": "code",
   "execution_count": 9,
   "id": "3c9c3234",
   "metadata": {},
   "outputs": [
    {
     "name": "stdout",
     "output_type": "stream",
     "text": [
      "(TFIDF) DEFAULT ROC_AUC COMPARISON\n",
      "Logistic Regression: 0.9565836750000001\n",
      "KNN: 0.6832488250000001\n",
      "BernoulliNB: 0.9286413750000001\n",
      "MultinomialNB: 0.9419070250000001\n",
      "Random Forest: 0.931356325\n",
      "AdaBoosting: 0.880548825\n",
      "XGBoost: 0.9268192000000001\n"
     ]
    }
   ],
   "source": [
    "print('(TFIDF) DEFAULT ROC_AUC COMPARISON')\n",
    "for name, model in models.items():\n",
    "    pipe = Pipeline([\n",
    "        ('vec', TfidfVectorizer(stop_words='english')),\n",
    "        ('model', model)\n",
    "    ])\n",
    "    \n",
    "    cv_score = cross_val_score(pipe, X_train, y_train, cv=5, scoring='roc_auc',\n",
    "                               n_jobs=-1).mean()\n",
    "    print(f'{name}: {cv_score}')\n",
    "    \n",
    "    \n",
    "    \n",
    "# (TFIDF) DEFAULT ROC_AUC COMPARISON\n",
    "# Logistic Regression: 0.9565836750000001\n",
    "# KNN: 0.6832488250000001\n",
    "# BernoulliNB: 0.9286413750000001\n",
    "# MultinomialNB: 0.9419070250000001\n",
    "# Random Forest: 0.9313566000000002\n",
    "# AdaBoosting: 0.880548825\n",
    "# XGBoost: 0.9268192000000001"
   ]
  },
  {
   "cell_type": "code",
   "execution_count": 10,
   "id": "26d3f6dc",
   "metadata": {},
   "outputs": [
    {
     "name": "stdout",
     "output_type": "stream",
     "text": [
      "(COUNT) DEFAULT ROC_AUC COMPARISON\n",
      "Logistic Regression: 0.9446598749999999\n",
      "KNN: 0.6227359\n",
      "BernoulliNB: 0.9286413750000001\n",
      "MultinomialNB: 0.9270035\n",
      "Random Forest: 0.9313936999999999\n",
      "AdaBoosting: 0.87991985\n",
      "XGBoost: 0.9296018500000001\n"
     ]
    }
   ],
   "source": [
    "print('(COUNT) DEFAULT ROC_AUC COMPARISON')\n",
    "for name, model in models.items():\n",
    "    pipe = Pipeline([\n",
    "        ('vec', CountVectorizer(stop_words='english')),\n",
    "        ('model', model)\n",
    "    ])\n",
    "    \n",
    "    cv_score = cross_val_score(pipe, X_train, y_train, cv=5, scoring='roc_auc',\n",
    "                               n_jobs=-1).mean()\n",
    "    print(f'{name}: {cv_score}')\n",
    "    \n",
    "    \n",
    "    \n",
    "# (COUNT) DEFAULT ROC_AUC COMPARISON\n",
    "# Logistic Regression: 0.9446618249999998\n",
    "# KNN: 0.6227359\n",
    "# BernoulliNB: 0.9286413750000001\n",
    "# MultinomialNB: 0.9270035\n",
    "# Random Forest: 0.9313948\n",
    "# AdaBoosting: 0.87991985\n",
    "# XGBoost: 0.9296018500000001"
   ]
  },
  {
   "cell_type": "markdown",
   "id": "bd2b748a",
   "metadata": {},
   "source": [
    "## Logistic Regression + TfidVectorizer has the best ROC_AUC as well:\n",
    "- 0.9565836750000001"
   ]
  },
  {
   "cell_type": "markdown",
   "id": "3ab8dffd",
   "metadata": {},
   "source": [
    "## TUNING LOGREG"
   ]
  },
  {
   "cell_type": "code",
   "execution_count": 11,
   "id": "f4cdbc69",
   "metadata": {},
   "outputs": [],
   "source": [
    "# GridSearchCV method (also calls the evalation() method within)\n",
    "def grid(vectorizer, model, params, cv=3):\n",
    "    #Grid Search on Pipeline of vectorizer + estimator\n",
    "    grid = GridSearchCV(Pipeline([('vec', vectorizer),\n",
    "                                  ('model', model)]),\n",
    "                        params,\n",
    "                        cv=cv,\n",
    "                        verbose=1,\n",
    "                        n_jobs=-1)\n",
    "    \n",
    "    # Fit on training\n",
    "    grid.fit(X_train, y_train)\n",
    "    \n",
    "    # Extact best estimators & refit on training\n",
    "    best = grid.best_estimator_\n",
    "    best.fit(X_train, y_train)\n",
    "    \n",
    "    best_score = best.score(X_train, y_train)\n",
    "    pred = best.predict(X_test) \n",
    "    \n",
    "    print('TRAINING:')\n",
    "    print(f'Accuracy: {best_score}')\n",
    "    print()\n",
    "    evaluation(y_test, pred) # output values\n",
    "    print(f'\\nBEST PARAMETERS: {grid.best_params_}\\n')\n",
    "    \n",
    "    return grid.best_estimator_"
   ]
  },
  {
   "cell_type": "code",
   "execution_count": 12,
   "id": "5d415c54",
   "metadata": {
    "scrolled": false
   },
   "outputs": [
    {
     "name": "stdout",
     "output_type": "stream",
     "text": [
      "Fitting 5 folds for each of 8 candidates, totalling 40 fits\n",
      "TRAINING:\n",
      "Accuracy: 0.945\n",
      "\n",
      "TEST:\n",
      "Accuracy:  0.8828\n",
      "\n",
      "Recall:  0.8976\n",
      "Precision:  0.8717948717948718\n",
      "F1:  0.8845092629089475\n",
      "ROC_AUC:  0.8828\n"
     ]
    },
    {
     "data": {
      "image/png": "[encoded data removed]",
      "text/plain": [
       "<Figure size 432x288 with 2 Axes>"
      ]
     },
     "metadata": {
      "needs_background": "light"
     },
     "output_type": "display_data"
    },
    {
     "name": "stdout",
     "output_type": "stream",
     "text": [
      "\n",
      "BEST PARAMETERS: {'model__penalty': 'l2', 'vec__ngram_range': (1, 1), 'vec__stop_words': 'english'}\n",
      "\n"
     ]
    }
   ],
   "source": [
    "params = {\n",
    "    'vec__stop_words':[None, 'english'],\n",
    "#     'vec__max_features':[None, 2000, 5000],\n",
    "#     'vec__min_df':[None, 0.05, 0.1],\n",
    "#     'vec__max_df':[None, 0.8, 0.9],\n",
    "    'vec__ngram_range':[(1,1), (1,2)],\n",
    "    'model__penalty':['l1', 'l2']\n",
    "}\n",
    "\n",
    "best_lr = grid(TfidfVectorizer(), LogisticRegression(solver='liblinear'), params, cv=5)\n",
    "\n",
    "## RESULTS SAVED IN-CASE\n",
    "    # Fitting 5 folds for each of 8 candidates, totalling 40 fits\n",
    "    # TRAINING:\n",
    "    # Accuracy: 0.945\n",
    "\n",
    "    # TEST:\n",
    "    # Accuracy:  0.8828\n",
    "\n",
    "    # Recall:  0.8976\n",
    "    # Precision:  0.8717948717948718\n",
    "    # F1:  0.8845092629089475\n",
    "    # ROC_AUC:  0.8828\n",
    "\n",
    "    # BEST PARAMETERS: {'model__penalty': 'l2', 'vec__ngram_range': (1, 1), 'vec__stop_words': 'english'}"
   ]
  },
  {
   "cell_type": "markdown",
   "id": "fd1c2467",
   "metadata": {},
   "source": [
    "## RESULTS:\n",
    "- Turns out almost-default parameters worked best:\n",
    "    - Train/Test Accuracy: 0.945/0.8828\n",
    "    - Test AUC: 0.8828\n",
    "- TF-IDF\n",
    "    - stop_words = 'english'\n",
    "    - ngram_range = (1,1)\n",
    "- Logistic Regression\n",
    "    - penalty = 'l2'\n",
    "    - solver = 'liblinear'"
   ]
  },
  {
   "cell_type": "code",
   "execution_count": 18,
   "id": "f383e2a9",
   "metadata": {},
   "outputs": [],
   "source": [
    "# Store best logisitic regression + TF-IDF pipe fit for future preprocessing\n",
    "best_lr.fit(X_train, y_train)\n",
    "\n",
    "# Saved\n",
    "with open('logreg_tfidf.pickle', 'wb') as handle:\n",
    "    pickle.dump(best_lr, handle, protocol=pickle.HIGHEST_PROTOCOL)\n",
    "    \n",
    "    \n",
    "## Can be loaded for future use:\n",
    "    ## from sklearn.linear_model import LogisticRegression\n",
    "    ## import pickle\n",
    "    ##\n",
    "    ## with open('logreg_tfidf.pickle', 'rb') as handle:\n",
    "    ##     lr = pickle.load(handle)"
   ]
  },
  {
   "cell_type": "code",
   "execution_count": 13,
   "id": "21c8db6a",
   "metadata": {},
   "outputs": [
    {
     "name": "stdout",
     "output_type": "stream",
     "text": [
      "              precision    recall  f1-score   support\n",
      "\n",
      "           0       0.89      0.87      0.88      2500\n",
      "           1       0.87      0.90      0.88      2500\n",
      "\n",
      "    accuracy                           0.88      5000\n",
      "   macro avg       0.88      0.88      0.88      5000\n",
      "weighted avg       0.88      0.88      0.88      5000\n",
      "\n",
      "AUC:  0.88\n"
     ]
    }
   ],
   "source": [
    "# Score confirmation\n",
    "pred = best_lr.predict(X_test)\n",
    "\n",
    "print(classification_report(y_test, pred))\n",
    "print('AUC: ', round(roc_auc_score(y_test, pred), 2))"
   ]
  },
  {
   "cell_type": "markdown",
   "id": "f8d597d4",
   "metadata": {},
   "source": [
    "**TEST RUN FOR WEBAPP**"
   ]
  },
  {
   "cell_type": "code",
   "execution_count": 10,
   "id": "8c6c5c21",
   "metadata": {},
   "outputs": [],
   "source": [
    "def sentiment(text):\n",
    "    with open('logreg_tfidf.pickle', 'rb') as handle:\n",
    "        lr = pickle.load(handle)\n",
    "\n",
    "    prediction = lr.predict([text])[0]\n",
    "    \n",
    "    if prediction:\n",
    "        return f'\"{text}\" : POSITIVE'\n",
    "    else:\n",
    "        return f'\"{text}\" : NEGATIVE'"
   ]
  },
  {
   "cell_type": "code",
   "execution_count": 11,
   "id": "b5eff8cd",
   "metadata": {},
   "outputs": [
    {
     "name": "stdout",
     "output_type": "stream",
     "text": [
      "\"That movie was horrendous. It was full of plot holes and made no sense.\" : NEGATIVE\n",
      "\"That movie was wonderful. It was action-packed and very engaging.\" : POSITIVE\n"
     ]
    }
   ],
   "source": [
    "# SAMPLE TEST    \n",
    "print(sentiment('That movie was horrendous. It was full of plot holes and made no sense.'))\n",
    "print(sentiment('That movie was wonderful. It was action-packed and very engaging.'))"
   ]
  },
  {
   "cell_type": "markdown",
   "id": "0c39cfd7",
   "metadata": {},
   "source": [
    "## NEURAL NETWORK"
   ]
  },
  {
   "cell_type": "code",
   "execution_count": 16,
   "id": "663c2ddf",
   "metadata": {},
   "outputs": [],
   "source": [
    "import tensorflow as tf\n",
    "from tensorflow.keras.preprocessing.text import Tokenizer\n",
    "from tensorflow.keras.preprocessing.sequence import pad_sequences\n",
    "from tensorflow.keras.models import Sequential\n",
    "\n",
    "from tensorflow.keras.layers import Dense, Embedding, BatchNormalization, Dropout, AveragePooling1D, GlobalAveragePooling1D, Conv1D, Flatten\n",
    "from tensorflow.keras.callbacks import EarlyStopping, ModelCheckpoint\n",
    "from tensorflow.keras.optimizers import SGD"
   ]
  },
  {
   "cell_type": "code",
   "execution_count": 74,
   "id": "7235b10f",
   "metadata": {},
   "outputs": [],
   "source": [
    "# Max words in tokenizer index\n",
    "max_words = 100000\n",
    "\n",
    "# Tokenizer fit, sequenced, padded\n",
    "tokenizer = Tokenizer(num_words=max_words)\n",
    "tokenizer.fit_on_texts(X_train)\n",
    "\n",
    "train_seq = tokenizer.texts_to_sequences(X_train)\n",
    "test_seq = tokenizer.texts_to_sequences(X_test)\n",
    "\n",
    "X_train_padded = pad_sequences(train_seq, maxlen=300)\n",
    "X_test_padded = pad_sequences(test_seq, maxlen=X_train_padded.shape[1])\n",
    "\n",
    "# Word index stored for embedding matrix\n",
    "word_index = tokenizer.word_index\n",
    "\n",
    "# Dimensions for embedding matrix\n",
    "embedding_dim = 300\n",
    "vocab_size = min(len(word_index)+1, max_words)\n",
    "\n",
    "# Saved neural tokenizer\n",
    "with open('tokenizer/cnn_tokenizer.pickle', 'wb') as handle:\n",
    "    pickle.dump(tokenizer, handle, protocol=pickle.HIGHEST_PROTOCOL)"
   ]
  },
  {
   "cell_type": "code",
   "execution_count": 16,
   "id": "bdb3d8d9",
   "metadata": {},
   "outputs": [],
   "source": [
    "# GENSIM IMPORT ON GOOGLE PRETRAINED WORD2VEC\n",
    "import gensim.downloader as api\n",
    "wv = api.load('word2vec-google-news-300')\n",
    "    # If you have the physical .bin file downloaded:\n",
    "        # wv = gensim.models.KeyedVectors.load_word2vec_format('GoogleNews-vectors-negative300.bin',binary=True)\n",
    "\n",
    "    # Empty matrix\n",
    "embedding_matrix = np.zeros((vocab_size, embedding_dim))\n",
    "\n",
    "# Tracking unrecognized words\n",
    "unknown = []\n",
    "\n",
    "# Iterate through fitted word index and\n",
    "# extract weighted vectors from pretrained Google word vector\n",
    "for word, index in word_index.items():\n",
    "    if index >= max_words:\n",
    "        continue\n",
    "    try:\n",
    "        embedding_vector = wv[word] # extract word vector\n",
    "        embedding_matrix[index] = embedding_vector # store word vector\n",
    "    except:\n",
    "        unknown.append(word)"
   ]
  },
  {
   "cell_type": "code",
   "execution_count": 17,
   "id": "c9ffe357",
   "metadata": {},
   "outputs": [
    {
     "name": "stdout",
     "output_type": "stream",
     "text": [
      "28270\n"
     ]
    },
    {
     "data": {
      "text/plain": [
       "array(['notwalk', 'bacharach', 'notattracting', 'nolawrence', '35yr',\n",
       "       'darstardy', 'delbert', 'toussaint', 'mcinnerny', 'fownd',\n",
       "       'teshigahara', 'huk', 'cedrac', 'extremal', 'superfighters',\n",
       "       'notother', 'calhoun', '1938', 'margareta', 'notmonuments'],\n",
       "      dtype='<U51')"
      ]
     },
     "execution_count": 17,
     "metadata": {},
     "output_type": "execute_result"
    }
   ],
   "source": [
    "# Unrecognized words\n",
    "print(len(unknown))\n",
    "\n",
    "# 20 random unrecognized words\n",
    "np.random.choice(unknown, 20)"
   ]
  },
  {
   "cell_type": "code",
   "execution_count": 18,
   "id": "4836f9d6",
   "metadata": {},
   "outputs": [
    {
     "name": "stderr",
     "output_type": "stream",
     "text": [
      "2022-02-22 16:58:55.110329: I tensorflow/stream_executor/cuda/cuda_gpu_executor.cc:936] successful NUMA node read from SysFS had negative value (-1), but there must be at least one NUMA node, so returning NUMA node zero\n",
      "2022-02-22 16:58:55.163399: I tensorflow/stream_executor/cuda/cuda_gpu_executor.cc:936] successful NUMA node read from SysFS had negative value (-1), but there must be at least one NUMA node, so returning NUMA node zero\n",
      "2022-02-22 16:58:55.163555: I tensorflow/stream_executor/cuda/cuda_gpu_executor.cc:936] successful NUMA node read from SysFS had negative value (-1), but there must be at least one NUMA node, so returning NUMA node zero\n",
      "2022-02-22 16:58:55.164676: I tensorflow/core/platform/cpu_feature_guard.cc:151] This TensorFlow binary is optimized with oneAPI Deep Neural Network Library (oneDNN) to use the following CPU instructions in performance-critical operations:  AVX2 FMA\n",
      "To enable them in other operations, rebuild TensorFlow with the appropriate compiler flags.\n",
      "2022-02-22 16:58:55.165601: I tensorflow/stream_executor/cuda/cuda_gpu_executor.cc:936] successful NUMA node read from SysFS had negative value (-1), but there must be at least one NUMA node, so returning NUMA node zero\n",
      "2022-02-22 16:58:55.165730: I tensorflow/stream_executor/cuda/cuda_gpu_executor.cc:936] successful NUMA node read from SysFS had negative value (-1), but there must be at least one NUMA node, so returning NUMA node zero\n",
      "2022-02-22 16:58:55.165844: I tensorflow/stream_executor/cuda/cuda_gpu_executor.cc:936] successful NUMA node read from SysFS had negative value (-1), but there must be at least one NUMA node, so returning NUMA node zero\n",
      "2022-02-22 16:58:55.668870: I tensorflow/stream_executor/cuda/cuda_gpu_executor.cc:936] successful NUMA node read from SysFS had negative value (-1), but there must be at least one NUMA node, so returning NUMA node zero\n",
      "2022-02-22 16:58:55.669031: I tensorflow/stream_executor/cuda/cuda_gpu_executor.cc:936] successful NUMA node read from SysFS had negative value (-1), but there must be at least one NUMA node, so returning NUMA node zero\n",
      "2022-02-22 16:58:55.669140: I tensorflow/stream_executor/cuda/cuda_gpu_executor.cc:936] successful NUMA node read from SysFS had negative value (-1), but there must be at least one NUMA node, so returning NUMA node zero\n",
      "2022-02-22 16:58:55.669442: I tensorflow/core/common_runtime/gpu/gpu_device.cc:1525] Created device /job:localhost/replica:0/task:0/device:GPU:0 with 7675 MB memory:  -> device: 0, name: NVIDIA GeForce RTX 3080, pci bus id: 0000:01:00.0, compute capability: 8.6\n"
     ]
    },
    {
     "name": "stdout",
     "output_type": "stream",
     "text": [
      "Model: \"sequential\"\n",
      "_________________________________________________________________\n",
      " Layer (type)                Output Shape              Param #   \n",
      "=================================================================\n",
      " embedding (Embedding)       (None, None, 300)         22342800  \n",
      "                                                                 \n",
      " batch_normalization (BatchN  (None, None, 300)        1200      \n",
      " ormalization)                                                   \n",
      "                                                                 \n",
      " dropout (Dropout)           (None, None, 300)         0         \n",
      "                                                                 \n",
      " conv1d (Conv1D)             (None, None, 32)          28832     \n",
      "                                                                 \n",
      " batch_normalization_1 (Batc  (None, None, 32)         128       \n",
      " hNormalization)                                                 \n",
      "                                                                 \n",
      " average_pooling1d (AverageP  (None, None, 32)         0         \n",
      " ooling1D)                                                       \n",
      "                                                                 \n",
      " dropout_1 (Dropout)         (None, None, 32)          0         \n",
      "                                                                 \n",
      " conv1d_1 (Conv1D)           (None, None, 64)          6208      \n",
      "                                                                 \n",
      " batch_normalization_2 (Batc  (None, None, 64)         256       \n",
      " hNormalization)                                                 \n",
      "                                                                 \n",
      " global_average_pooling1d (G  (None, 64)               0         \n",
      " lobalAveragePooling1D)                                          \n",
      "                                                                 \n",
      " dropout_2 (Dropout)         (None, 64)                0         \n",
      "                                                                 \n",
      " dense (Dense)               (None, 32)                2080      \n",
      "                                                                 \n",
      " batch_normalization_3 (Batc  (None, 32)               128       \n",
      " hNormalization)                                                 \n",
      "                                                                 \n",
      " dropout_3 (Dropout)         (None, 32)                0         \n",
      "                                                                 \n",
      " dense_1 (Dense)             (None, 1)                 33        \n",
      "                                                                 \n",
      "=================================================================\n",
      "Total params: 22,381,665\n",
      "Trainable params: 22,380,809\n",
      "Non-trainable params: 856\n",
      "_________________________________________________________________\n"
     ]
    },
    {
     "name": "stderr",
     "output_type": "stream",
     "text": [
      "2022-02-22 16:58:55.838064: W tensorflow/core/framework/cpu_allocator_impl.cc:82] Allocation of 89371200 exceeds 10% of free system memory.\n"
     ]
    }
   ],
   "source": [
    "# Model\n",
    "model = Sequential()\n",
    "\n",
    "# Embedding input\n",
    "model.add(Embedding(vocab_size, embedding_dim, weights=[embedding_matrix],\n",
    "                   trainable=True))\n",
    "model.add(BatchNormalization())\n",
    "model.add(Dropout(0.5))\n",
    "\n",
    "# 1 CNN layers\n",
    "model.add(Conv1D(filters=32, kernel_size=3, activation='relu'))\n",
    "model.add(BatchNormalization())\n",
    "model.add(AveragePooling1D())\n",
    "model.add(Dropout(0.25))\n",
    "\n",
    "# 1 CNN layers\n",
    "model.add(Conv1D(filters=64, kernel_size=3, activation='relu'))\n",
    "model.add(BatchNormalization())\n",
    "model.add(GlobalAveragePooling1D())\n",
    "model.add(Dropout(0.25))\n",
    "\n",
    "# # 1 RNN layer\n",
    "# model.add(Bidirectional(LSTM(64)))\n",
    "# model.add(BatchNormalization())\n",
    "\n",
    "# 1 Dense layer\n",
    "model.add(Dense(32, activation='relu'))\n",
    "model.add(BatchNormalization())\n",
    "model.add(Dropout(0.4))\n",
    "\n",
    "# Sigmoid output\n",
    "model.add(Dense(1, activation='sigmoid'))\n",
    "\n",
    "\n",
    "# Model Compiled\n",
    "model.compile(loss='binary_crossentropy',\n",
    "             optimizer='SGD',\n",
    "             metrics=['acc'])\n",
    "\n",
    "# Summary\n",
    "model.summary()"
   ]
  },
  {
   "cell_type": "code",
   "execution_count": 19,
   "id": "009425b0",
   "metadata": {},
   "outputs": [
    {
     "name": "stdout",
     "output_type": "stream",
     "text": [
      "Epoch 1/200\n"
     ]
    },
    {
     "name": "stderr",
     "output_type": "stream",
     "text": [
      "2022-02-22 16:58:57.749007: I tensorflow/stream_executor/cuda/cuda_dnn.cc:368] Loaded cuDNN version 8302\n",
      "2022-02-22 16:58:59.441580: I tensorflow/stream_executor/cuda/cuda_blas.cc:1786] TensorFloat-32 will be used for the matrix multiplication. This will only be logged once.\n"
     ]
    },
    {
     "name": "stdout",
     "output_type": "stream",
     "text": [
      "313/313 [==============================] - ETA: 0s - loss: 0.7181 - acc: 0.6194"
     ]
    },
    {
     "name": "stderr",
     "output_type": "stream",
     "text": [
      "2022-02-22 16:59:02.689860: W tensorflow/core/framework/cpu_allocator_impl.cc:82] Allocation of 89371200 exceeds 10% of free system memory.\n",
      "2022-02-22 16:59:02.820511: W tensorflow/core/framework/cpu_allocator_impl.cc:82] Allocation of 89371200 exceeds 10% of free system memory.\n"
     ]
    },
    {
     "name": "stdout",
     "output_type": "stream",
     "text": [
      "313/313 [==============================] - 7s 10ms/step - loss: 0.7181 - acc: 0.6194 - val_loss: 0.6248 - val_acc: 0.7566\n",
      "Epoch 2/200\n",
      " 12/313 [>.............................] - ETA: 1s - loss: 0.5937 - acc: 0.6862"
     ]
    },
    {
     "name": "stderr",
     "output_type": "stream",
     "text": [
      "2022-02-22 16:59:02.958209: W tensorflow/core/framework/cpu_allocator_impl.cc:82] Allocation of 89371200 exceeds 10% of free system memory.\n"
     ]
    },
    {
     "name": "stdout",
     "output_type": "stream",
     "text": [
      "309/313 [============================>.] - ETA: 0s - loss: 0.5265 - acc: 0.7435"
     ]
    },
    {
     "name": "stderr",
     "output_type": "stream",
     "text": [
      "2022-02-22 16:59:04.944820: W tensorflow/core/framework/cpu_allocator_impl.cc:82] Allocation of 89371200 exceeds 10% of free system memory.\n"
     ]
    },
    {
     "name": "stdout",
     "output_type": "stream",
     "text": [
      "313/313 [==============================] - 2s 7ms/step - loss: 0.5257 - acc: 0.7437 - val_loss: 0.4209 - val_acc: 0.8232\n",
      "Epoch 3/200\n",
      "313/313 [==============================] - 2s 7ms/step - loss: 0.4646 - acc: 0.7876 - val_loss: 0.4452 - val_acc: 0.7756\n",
      "Epoch 4/200\n",
      "313/313 [==============================] - 3s 9ms/step - loss: 0.4340 - acc: 0.8045 - val_loss: 0.3887 - val_acc: 0.8270\n",
      "Epoch 5/200\n",
      "313/313 [==============================] - 2s 7ms/step - loss: 0.4126 - acc: 0.8177 - val_loss: 0.3960 - val_acc: 0.8120\n",
      "Epoch 6/200\n",
      "313/313 [==============================] - 3s 9ms/step - loss: 0.4045 - acc: 0.8203 - val_loss: 0.3420 - val_acc: 0.8578\n",
      "Epoch 7/200\n",
      "313/313 [==============================] - 2s 7ms/step - loss: 0.3921 - acc: 0.8281 - val_loss: 0.3572 - val_acc: 0.8440\n",
      "Epoch 8/200\n",
      "313/313 [==============================] - 2s 6ms/step - loss: 0.3855 - acc: 0.8302 - val_loss: 0.3382 - val_acc: 0.8566\n",
      "Epoch 9/200\n",
      "313/313 [==============================] - 2s 6ms/step - loss: 0.3786 - acc: 0.8342 - val_loss: 0.3347 - val_acc: 0.8572\n",
      "Epoch 10/200\n",
      "313/313 [==============================] - 3s 10ms/step - loss: 0.3765 - acc: 0.8376 - val_loss: 0.3324 - val_acc: 0.8566\n",
      "Epoch 11/200\n",
      "313/313 [==============================] - 3s 10ms/step - loss: 0.3713 - acc: 0.8404 - val_loss: 0.3315 - val_acc: 0.8594\n",
      "Epoch 12/200\n",
      "313/313 [==============================] - 2s 7ms/step - loss: 0.3648 - acc: 0.8409 - val_loss: 0.3208 - val_acc: 0.8672\n",
      "Epoch 13/200\n",
      "313/313 [==============================] - 4s 13ms/step - loss: 0.3578 - acc: 0.8446 - val_loss: 0.3164 - val_acc: 0.8696\n",
      "Epoch 14/200\n",
      "313/313 [==============================] - 2s 7ms/step - loss: 0.3547 - acc: 0.8474 - val_loss: 0.3149 - val_acc: 0.8664\n",
      "Epoch 15/200\n",
      "313/313 [==============================] - 2s 7ms/step - loss: 0.3580 - acc: 0.8478 - val_loss: 0.3204 - val_acc: 0.8634\n",
      "Epoch 16/200\n",
      "313/313 [==============================] - 3s 9ms/step - loss: 0.3509 - acc: 0.8497 - val_loss: 0.3112 - val_acc: 0.8716\n",
      "Epoch 17/200\n",
      "313/313 [==============================] - 2s 6ms/step - loss: 0.3470 - acc: 0.8517 - val_loss: 0.3217 - val_acc: 0.8610\n",
      "Epoch 18/200\n",
      "313/313 [==============================] - 2s 7ms/step - loss: 0.3462 - acc: 0.8530 - val_loss: 0.3101 - val_acc: 0.8716\n",
      "Epoch 19/200\n",
      "313/313 [==============================] - 3s 10ms/step - loss: 0.3452 - acc: 0.8558 - val_loss: 0.3225 - val_acc: 0.8626\n",
      "Epoch 20/200\n",
      "313/313 [==============================] - 4s 12ms/step - loss: 0.3436 - acc: 0.8569 - val_loss: 0.3064 - val_acc: 0.8718\n",
      "Epoch 21/200\n",
      "313/313 [==============================] - 2s 8ms/step - loss: 0.3392 - acc: 0.8554 - val_loss: 0.3222 - val_acc: 0.8612\n",
      "Epoch 22/200\n",
      "313/313 [==============================] - 4s 12ms/step - loss: 0.3333 - acc: 0.8590 - val_loss: 0.3196 - val_acc: 0.8638\n",
      "Epoch 23/200\n",
      "313/313 [==============================] - 4s 13ms/step - loss: 0.3301 - acc: 0.8589 - val_loss: 0.3078 - val_acc: 0.8758\n",
      "Epoch 24/200\n",
      "313/313 [==============================] - 3s 9ms/step - loss: 0.3291 - acc: 0.8597 - val_loss: 0.3216 - val_acc: 0.8644\n",
      "Epoch 25/200\n",
      "313/313 [==============================] - 2s 6ms/step - loss: 0.3262 - acc: 0.8618 - val_loss: 0.3078 - val_acc: 0.8714\n",
      "Epoch 26/200\n",
      "313/313 [==============================] - 2s 7ms/step - loss: 0.3245 - acc: 0.8644 - val_loss: 0.3073 - val_acc: 0.8706\n",
      "Epoch 27/200\n",
      "313/313 [==============================] - 3s 10ms/step - loss: 0.3273 - acc: 0.8607 - val_loss: 0.3056 - val_acc: 0.8722\n",
      "Epoch 28/200\n",
      "313/313 [==============================] - 2s 7ms/step - loss: 0.3253 - acc: 0.8642 - val_loss: 0.3059 - val_acc: 0.8726\n",
      "Epoch 29/200\n",
      "313/313 [==============================] - 3s 9ms/step - loss: 0.3250 - acc: 0.8631 - val_loss: 0.3417 - val_acc: 0.8532\n",
      "Epoch 30/200\n",
      "313/313 [==============================] - 3s 9ms/step - loss: 0.3242 - acc: 0.8611 - val_loss: 0.3093 - val_acc: 0.8716\n",
      "Epoch 31/200\n",
      "313/313 [==============================] - 2s 8ms/step - loss: 0.3159 - acc: 0.8709 - val_loss: 0.3168 - val_acc: 0.8666\n",
      "Epoch 32/200\n",
      "313/313 [==============================] - 3s 8ms/step - loss: 0.3185 - acc: 0.8666 - val_loss: 0.3112 - val_acc: 0.8696\n",
      "Epoch 33/200\n",
      "313/313 [==============================] - 3s 9ms/step - loss: 0.3121 - acc: 0.8722 - val_loss: 0.3076 - val_acc: 0.8726\n",
      "Epoch 34/200\n",
      "313/313 [==============================] - 3s 8ms/step - loss: 0.3186 - acc: 0.8689 - val_loss: 0.3019 - val_acc: 0.8770\n",
      "Epoch 35/200\n",
      "313/313 [==============================] - 3s 9ms/step - loss: 0.3162 - acc: 0.8673 - val_loss: 0.3055 - val_acc: 0.8742\n",
      "Epoch 36/200\n",
      "313/313 [==============================] - 3s 10ms/step - loss: 0.3129 - acc: 0.8683 - val_loss: 0.3039 - val_acc: 0.8750\n",
      "Epoch 37/200\n",
      "313/313 [==============================] - 3s 9ms/step - loss: 0.3125 - acc: 0.8719 - val_loss: 0.3006 - val_acc: 0.8776\n",
      "Epoch 38/200\n",
      "313/313 [==============================] - 2s 8ms/step - loss: 0.3118 - acc: 0.8687 - val_loss: 0.2988 - val_acc: 0.8786\n",
      "Epoch 39/200\n",
      "313/313 [==============================] - 3s 10ms/step - loss: 0.3111 - acc: 0.8709 - val_loss: 0.2931 - val_acc: 0.8820\n",
      "Epoch 40/200\n",
      "313/313 [==============================] - 3s 9ms/step - loss: 0.3056 - acc: 0.8720 - val_loss: 0.2903 - val_acc: 0.8842\n",
      "Epoch 41/200\n",
      "313/313 [==============================] - 3s 10ms/step - loss: 0.3072 - acc: 0.8722 - val_loss: 0.2954 - val_acc: 0.8790\n",
      "Epoch 42/200\n",
      "313/313 [==============================] - 3s 8ms/step - loss: 0.3032 - acc: 0.8730 - val_loss: 0.2896 - val_acc: 0.8832\n",
      "Epoch 43/200\n",
      "313/313 [==============================] - 2s 8ms/step - loss: 0.3045 - acc: 0.8733 - val_loss: 0.3124 - val_acc: 0.8704\n",
      "Epoch 44/200\n",
      "313/313 [==============================] - 3s 9ms/step - loss: 0.2990 - acc: 0.8773 - val_loss: 0.3036 - val_acc: 0.8742\n",
      "Epoch 45/200\n",
      "313/313 [==============================] - 3s 10ms/step - loss: 0.3035 - acc: 0.8753 - val_loss: 0.2933 - val_acc: 0.8804\n",
      "Epoch 46/200\n",
      "313/313 [==============================] - 3s 10ms/step - loss: 0.3038 - acc: 0.8724 - val_loss: 0.2944 - val_acc: 0.8780\n",
      "Epoch 47/200\n",
      "313/313 [==============================] - 2s 7ms/step - loss: 0.3013 - acc: 0.8744 - val_loss: 0.2915 - val_acc: 0.8832\n",
      "Epoch 48/200\n",
      "313/313 [==============================] - 2s 8ms/step - loss: 0.2978 - acc: 0.8759 - val_loss: 0.2962 - val_acc: 0.8794\n",
      "Epoch 49/200\n",
      "313/313 [==============================] - 2s 7ms/step - loss: 0.2971 - acc: 0.8778 - val_loss: 0.2995 - val_acc: 0.8774\n",
      "Epoch 50/200\n",
      "313/313 [==============================] - 3s 9ms/step - loss: 0.2917 - acc: 0.8801 - val_loss: 0.2944 - val_acc: 0.8798\n",
      "Epoch 51/200\n",
      "313/313 [==============================] - 3s 9ms/step - loss: 0.2953 - acc: 0.8781 - val_loss: 0.2866 - val_acc: 0.8868\n",
      "Epoch 52/200\n",
      "313/313 [==============================] - 3s 10ms/step - loss: 0.2900 - acc: 0.8801 - val_loss: 0.2941 - val_acc: 0.8834\n",
      "Epoch 53/200\n",
      "313/313 [==============================] - 3s 9ms/step - loss: 0.2897 - acc: 0.8798 - val_loss: 0.2932 - val_acc: 0.8812\n",
      "Epoch 54/200\n",
      "313/313 [==============================] - 2s 7ms/step - loss: 0.2881 - acc: 0.8826 - val_loss: 0.2867 - val_acc: 0.8838\n",
      "Epoch 55/200\n",
      "313/313 [==============================] - 3s 9ms/step - loss: 0.2922 - acc: 0.8791 - val_loss: 0.2858 - val_acc: 0.8868\n",
      "Epoch 56/200\n",
      "313/313 [==============================] - 3s 9ms/step - loss: 0.2900 - acc: 0.8827 - val_loss: 0.2891 - val_acc: 0.8848\n",
      "Epoch 57/200\n",
      "313/313 [==============================] - 3s 9ms/step - loss: 0.2911 - acc: 0.8784 - val_loss: 0.2850 - val_acc: 0.8880\n",
      "Epoch 58/200\n",
      "313/313 [==============================] - 3s 9ms/step - loss: 0.2914 - acc: 0.8797 - val_loss: 0.2836 - val_acc: 0.8884\n",
      "Epoch 59/200\n",
      "313/313 [==============================] - 3s 10ms/step - loss: 0.2913 - acc: 0.8774 - val_loss: 0.2913 - val_acc: 0.8804\n",
      "Epoch 60/200\n",
      "313/313 [==============================] - 3s 9ms/step - loss: 0.2827 - acc: 0.8827 - val_loss: 0.2908 - val_acc: 0.8812\n",
      "Epoch 61/200\n",
      "313/313 [==============================] - 3s 9ms/step - loss: 0.2908 - acc: 0.8809 - val_loss: 0.2935 - val_acc: 0.8812\n",
      "Epoch 62/200\n",
      "313/313 [==============================] - 2s 6ms/step - loss: 0.2859 - acc: 0.8845 - val_loss: 0.2957 - val_acc: 0.8800\n",
      "Epoch 63/200\n",
      "313/313 [==============================] - 2s 6ms/step - loss: 0.2870 - acc: 0.8827 - val_loss: 0.2855 - val_acc: 0.8884\n",
      "Epoch 64/200\n",
      "313/313 [==============================] - 3s 9ms/step - loss: 0.2800 - acc: 0.8854 - val_loss: 0.2848 - val_acc: 0.8888\n",
      "Epoch 65/200\n",
      "313/313 [==============================] - 3s 10ms/step - loss: 0.2842 - acc: 0.8812 - val_loss: 0.2807 - val_acc: 0.8910\n",
      "Epoch 66/200\n",
      "313/313 [==============================] - 2s 7ms/step - loss: 0.2816 - acc: 0.8860 - val_loss: 0.2845 - val_acc: 0.8870\n",
      "Epoch 67/200\n",
      "313/313 [==============================] - 2s 7ms/step - loss: 0.2811 - acc: 0.8849 - val_loss: 0.2941 - val_acc: 0.8814\n",
      "Epoch 68/200\n",
      "313/313 [==============================] - 2s 7ms/step - loss: 0.2780 - acc: 0.8868 - val_loss: 0.2851 - val_acc: 0.8896\n",
      "Epoch 69/200\n",
      "313/313 [==============================] - 2s 7ms/step - loss: 0.2848 - acc: 0.8830 - val_loss: 0.2921 - val_acc: 0.8824\n",
      "Epoch 70/200\n",
      "313/313 [==============================] - 2s 6ms/step - loss: 0.2769 - acc: 0.8874 - val_loss: 0.2976 - val_acc: 0.8802\n",
      "Epoch 71/200\n",
      "313/313 [==============================] - 2s 8ms/step - loss: 0.2758 - acc: 0.8853 - val_loss: 0.2848 - val_acc: 0.8854\n",
      "Epoch 72/200\n",
      "313/313 [==============================] - 2s 8ms/step - loss: 0.2799 - acc: 0.8852 - val_loss: 0.2856 - val_acc: 0.8866\n",
      "Epoch 73/200\n",
      "313/313 [==============================] - 2s 7ms/step - loss: 0.2835 - acc: 0.8836 - val_loss: 0.2968 - val_acc: 0.8828\n",
      "Epoch 74/200\n",
      "313/313 [==============================] - 2s 8ms/step - loss: 0.2746 - acc: 0.8887 - val_loss: 0.2917 - val_acc: 0.8832\n",
      "Epoch 75/200\n",
      "313/313 [==============================] - 3s 9ms/step - loss: 0.2728 - acc: 0.8880 - val_loss: 0.2917 - val_acc: 0.8842\n",
      "Epoch 76/200\n",
      "313/313 [==============================] - 4s 12ms/step - loss: 0.2787 - acc: 0.8853 - val_loss: 0.2865 - val_acc: 0.8858\n",
      "Epoch 77/200\n",
      "313/313 [==============================] - 3s 8ms/step - loss: 0.2703 - acc: 0.8910 - val_loss: 0.2934 - val_acc: 0.8840\n",
      "Epoch 78/200\n",
      "313/313 [==============================] - 3s 9ms/step - loss: 0.2690 - acc: 0.8887 - val_loss: 0.2928 - val_acc: 0.8850\n",
      "Epoch 79/200\n",
      "313/313 [==============================] - 2s 6ms/step - loss: 0.2750 - acc: 0.8857 - val_loss: 0.2991 - val_acc: 0.8804\n",
      "Epoch 80/200\n",
      "313/313 [==============================] - 4s 13ms/step - loss: 0.2714 - acc: 0.8906 - val_loss: 0.2864 - val_acc: 0.8872\n",
      "Epoch 81/200\n",
      "313/313 [==============================] - 3s 8ms/step - loss: 0.2712 - acc: 0.8895 - val_loss: 0.2845 - val_acc: 0.8896\n",
      "Epoch 82/200\n",
      "313/313 [==============================] - 2s 6ms/step - loss: 0.2694 - acc: 0.8922 - val_loss: 0.2844 - val_acc: 0.8876\n",
      "Epoch 83/200\n",
      "313/313 [==============================] - 3s 10ms/step - loss: 0.2678 - acc: 0.8929 - val_loss: 0.2894 - val_acc: 0.8874\n",
      "Epoch 84/200\n",
      "313/313 [==============================] - 2s 8ms/step - loss: 0.2708 - acc: 0.8913 - val_loss: 0.2851 - val_acc: 0.8868\n",
      "Epoch 85/200\n",
      "313/313 [==============================] - 3s 8ms/step - loss: 0.2668 - acc: 0.8919 - val_loss: 0.2842 - val_acc: 0.8902\n",
      "Epoch 86/200\n",
      "313/313 [==============================] - 2s 7ms/step - loss: 0.2673 - acc: 0.8891 - val_loss: 0.2892 - val_acc: 0.8864\n",
      "Epoch 87/200\n",
      "313/313 [==============================] - 2s 7ms/step - loss: 0.2674 - acc: 0.8921 - val_loss: 0.2794 - val_acc: 0.8900\n",
      "Epoch 88/200\n",
      "313/313 [==============================] - 2s 7ms/step - loss: 0.2650 - acc: 0.8919 - val_loss: 0.2857 - val_acc: 0.8872\n",
      "Epoch 89/200\n",
      "313/313 [==============================] - 3s 10ms/step - loss: 0.2647 - acc: 0.8913 - val_loss: 0.3015 - val_acc: 0.8802\n",
      "Epoch 90/200\n",
      "313/313 [==============================] - 2s 6ms/step - loss: 0.2636 - acc: 0.8960 - val_loss: 0.2991 - val_acc: 0.8812\n",
      "Epoch 91/200\n",
      "313/313 [==============================] - 2s 6ms/step - loss: 0.2628 - acc: 0.8940 - val_loss: 0.2886 - val_acc: 0.8852\n",
      "Epoch 92/200\n",
      "313/313 [==============================] - 2s 8ms/step - loss: 0.2634 - acc: 0.8910 - val_loss: 0.2809 - val_acc: 0.8922\n",
      "Epoch 93/200\n",
      "313/313 [==============================] - 4s 11ms/step - loss: 0.2620 - acc: 0.8928 - val_loss: 0.2816 - val_acc: 0.8908\n",
      "Epoch 94/200\n",
      "313/313 [==============================] - 2s 7ms/step - loss: 0.2588 - acc: 0.8939 - val_loss: 0.2883 - val_acc: 0.8884\n",
      "Epoch 95/200\n",
      "313/313 [==============================] - 2s 6ms/step - loss: 0.2619 - acc: 0.8935 - val_loss: 0.2755 - val_acc: 0.8928\n",
      "Epoch 96/200\n",
      "313/313 [==============================] - 2s 6ms/step - loss: 0.2628 - acc: 0.8919 - val_loss: 0.2740 - val_acc: 0.8942\n",
      "Epoch 97/200\n",
      "313/313 [==============================] - 2s 7ms/step - loss: 0.2590 - acc: 0.8955 - val_loss: 0.2891 - val_acc: 0.8874\n",
      "Epoch 98/200\n",
      "313/313 [==============================] - 2s 6ms/step - loss: 0.2629 - acc: 0.8941 - val_loss: 0.2808 - val_acc: 0.8898\n",
      "Epoch 99/200\n",
      "313/313 [==============================] - 3s 9ms/step - loss: 0.2639 - acc: 0.8957 - val_loss: 0.2855 - val_acc: 0.8860\n",
      "Epoch 100/200\n",
      "313/313 [==============================] - 2s 7ms/step - loss: 0.2559 - acc: 0.8967 - val_loss: 0.2773 - val_acc: 0.8944\n",
      "Epoch 101/200\n",
      "313/313 [==============================] - 2s 6ms/step - loss: 0.2571 - acc: 0.8942 - val_loss: 0.2782 - val_acc: 0.8912\n",
      "Epoch 102/200\n",
      "313/313 [==============================] - 2s 7ms/step - loss: 0.2573 - acc: 0.8957 - val_loss: 0.2787 - val_acc: 0.8920\n",
      "Epoch 103/200\n",
      "313/313 [==============================] - 2s 8ms/step - loss: 0.2566 - acc: 0.8956 - val_loss: 0.2844 - val_acc: 0.8904\n",
      "Epoch 104/200\n",
      "313/313 [==============================] - 3s 11ms/step - loss: 0.2559 - acc: 0.8963 - val_loss: 0.2824 - val_acc: 0.8902\n",
      "Epoch 105/200\n",
      "313/313 [==============================] - 2s 8ms/step - loss: 0.2552 - acc: 0.8994 - val_loss: 0.2970 - val_acc: 0.8858\n",
      "Epoch 106/200\n",
      "313/313 [==============================] - 3s 9ms/step - loss: 0.2530 - acc: 0.8961 - val_loss: 0.3124 - val_acc: 0.8780\n",
      "Epoch 107/200\n",
      "313/313 [==============================] - 2s 8ms/step - loss: 0.2525 - acc: 0.8989 - val_loss: 0.3075 - val_acc: 0.8806\n",
      "Epoch 108/200\n",
      "313/313 [==============================] - 4s 12ms/step - loss: 0.2492 - acc: 0.9002 - val_loss: 0.2813 - val_acc: 0.8912\n",
      "Epoch 109/200\n",
      "313/313 [==============================] - 3s 8ms/step - loss: 0.2516 - acc: 0.9011 - val_loss: 0.3066 - val_acc: 0.8812\n",
      "Epoch 110/200\n",
      "313/313 [==============================] - 4s 13ms/step - loss: 0.2549 - acc: 0.8964 - val_loss: 0.2813 - val_acc: 0.8906\n",
      "Epoch 111/200\n",
      "313/313 [==============================] - 2s 7ms/step - loss: 0.2560 - acc: 0.8963 - val_loss: 0.2794 - val_acc: 0.8914\n",
      "Epoch 112/200\n",
      "313/313 [==============================] - 3s 10ms/step - loss: 0.2512 - acc: 0.8990 - val_loss: 0.2987 - val_acc: 0.8824\n",
      "Epoch 113/200\n",
      "313/313 [==============================] - 3s 10ms/step - loss: 0.2519 - acc: 0.8982 - val_loss: 0.2979 - val_acc: 0.8840\n",
      "Epoch 114/200\n",
      "313/313 [==============================] - 3s 10ms/step - loss: 0.2454 - acc: 0.9007 - val_loss: 0.2876 - val_acc: 0.8878\n",
      "Epoch 115/200\n",
      "313/313 [==============================] - 3s 8ms/step - loss: 0.2463 - acc: 0.9009 - val_loss: 0.2897 - val_acc: 0.8878\n",
      "Epoch 116/200\n",
      "313/313 [==============================] - 3s 10ms/step - loss: 0.2472 - acc: 0.9010 - val_loss: 0.2784 - val_acc: 0.8938\n",
      "Epoch 117/200\n",
      "313/313 [==============================] - 3s 8ms/step - loss: 0.2423 - acc: 0.9027 - val_loss: 0.3008 - val_acc: 0.8842\n",
      "Epoch 118/200\n",
      "313/313 [==============================] - 3s 10ms/step - loss: 0.2480 - acc: 0.9002 - val_loss: 0.2899 - val_acc: 0.8860\n",
      "Epoch 119/200\n",
      "313/313 [==============================] - 5s 15ms/step - loss: 0.2474 - acc: 0.9007 - val_loss: 0.2758 - val_acc: 0.8946\n",
      "Epoch 120/200\n",
      "313/313 [==============================] - 2s 6ms/step - loss: 0.2482 - acc: 0.8978 - val_loss: 0.2752 - val_acc: 0.8966\n",
      "Epoch 121/200\n",
      "313/313 [==============================] - 2s 7ms/step - loss: 0.2444 - acc: 0.9027 - val_loss: 0.2803 - val_acc: 0.8928\n"
     ]
    }
   ],
   "source": [
    "# Early stop 25 epochs after lowest validation, best weights restored\n",
    "early = EarlyStopping(monitor='val_loss', patience=25, min_delta = 0.0001, restore_best_weights=True)\n",
    "\n",
    "# Store best weights for future use without re-training\n",
    "filepath = \"weights/weights-improvement-{epoch:02d}-{val_loss:.4f}.hdf5\"\n",
    "checkpoint = ModelCheckpoint(filepath, mode='min', save_weights_only=True)\n",
    "\n",
    "history = model.fit(X_train_padded, y_train,\n",
    "                    validation_data=(X_test_padded, y_test),\n",
    "                    batch_size=64,\n",
    "                    epochs=200,\n",
    "                    callbacks=[early, checkpoint],\n",
    "                    verbose=1)"
   ]
  },
  {
   "cell_type": "markdown",
   "id": "1d7683a3",
   "metadata": {},
   "source": [
    "## RESULTS\n",
    "- Based on lowest lost\n",
    "    - Epoch 96/200 - 2s 6ms/step - loss: 0.2628 - **acc: 0.8919** - val_loss: 0.2740 - **val_acc: 0.8942**\n"
   ]
  },
  {
   "cell_type": "code",
   "execution_count": 26,
   "id": "6874ff97",
   "metadata": {},
   "outputs": [],
   "source": [
    "# Reload best weight\n",
    "model.load_weights('weights/weights-improvement-96-0.2740.hdf5')\n",
    "\n",
    "# Saved model for re-use (web-app)\n",
    "model.save('model/sentiment_model.hdf5')"
   ]
  },
  {
   "cell_type": "code",
   "execution_count": 27,
   "id": "fac2b4dd",
   "metadata": {},
   "outputs": [
    {
     "name": "stdout",
     "output_type": "stream",
     "text": [
      "              precision    recall  f1-score   support\n",
      "\n",
      "           0       0.92      0.87      0.89      2500\n",
      "           1       0.87      0.92      0.90      2500\n",
      "\n",
      "    accuracy                           0.89      5000\n",
      "   macro avg       0.90      0.89      0.89      5000\n",
      "weighted avg       0.90      0.89      0.89      5000\n",
      "\n",
      "AUC:  0.89\n"
     ]
    }
   ],
   "source": [
    "# Score confirmation\n",
    "pred = (model.predict(X_test_padded)>0.5).astype(int)\n",
    "\n",
    "print(classification_report(y_test, pred))\n",
    "print('AUC: ', round(roc_auc_score(y_test, pred), 2))\n",
    "\n",
    "\n",
    "# RESULTS SAVED\n",
    "    #               precision    recall  f1-score   support\n",
    "\n",
    "    #            0       0.92      0.87      0.89      2500\n",
    "    #            1       0.87      0.92      0.90      2500\n",
    "\n",
    "    #     accuracy                           0.89      5000\n",
    "    #    macro avg       0.90      0.89      0.89      5000\n",
    "    # weighted avg       0.90      0.89      0.89      5000\n",
    "\n",
    "    # AUC:  0.89"
   ]
  },
  {
   "cell_type": "markdown",
   "id": "def9a6a6",
   "metadata": {},
   "source": [
    "**BETTER RESULTS THAN LOGISTIC REGRESSION + TF-IDF VECTORIZATION**"
   ]
  },
  {
   "cell_type": "markdown",
   "id": "1bb1c27e",
   "metadata": {},
   "source": [
    "# TRANSFORMERS MODEL -- BART (BIDIRECTIONAL AUTOREGRESSIVE TRANSFORMER)"
   ]
  },
  {
   "cell_type": "code",
   "execution_count": 18,
   "id": "7cf778a4",
   "metadata": {},
   "outputs": [],
   "source": [
    "import transformers\n",
    "from transformers import pipeline"
   ]
  },
  {
   "cell_type": "markdown",
   "id": "d776c5fb",
   "metadata": {},
   "source": [
    "### PRE-TRAINED BART MODEL FROM FACEBOOK\n",
    "- https://huggingface.co/facebook/bart-large-mnli\n",
    "- Trained on MultiNLI\n",
    "    - The Multi-Genre Natural Language Inference (MultiNLI) corpus is a crowd-sourced collection of 433k sentence pairs annotated with textual entailment information. The corpus is modeled on the SNLI corpus, but differs in that covers a range of genres of spoken and written text, and supports a distinctive cross-genre generalization evaluation. The corpus served as the basis for the shared task of the RepEval 2017 Workshop at EMNLP in Copenhagen.\n",
    "\n"
   ]
  },
  {
   "cell_type": "code",
   "execution_count": 8,
   "id": "d5d0bb92",
   "metadata": {},
   "outputs": [],
   "source": [
    "# # from transformers import BartTokenizer, BartForConditionalGeneration, AutoTokenizer, AutoModelForSequenceClassification\n",
    "\n",
    "# # Instantiate\n",
    "# tokenizer = AutoTokenizer.from_pretrained(\"facebook/bart-large-mnli\")\n",
    "# model = AutoModelForSequenceClassification.from_pretrained(\"facebook/bart-large-mnli\")\n",
    "\n",
    "# tokenizer = BartTokenizer.from_pretrained('facebook/bart-large-mnli')\n",
    "# model = BartForConditionalGeneration.from_pretrained('facebook/bart-large-mnli')"
   ]
  },
  {
   "cell_type": "code",
   "execution_count": 112,
   "id": "dc2645ba",
   "metadata": {},
   "outputs": [],
   "source": [
    "# Classifier BART pipeline\n",
    "classifier = pipeline(\"zero-shot-classification\", model=\"facebook/bart-large-mnli\")\n",
    "\n",
    "# Returns a dictionary of 3 keys when inputing suggested labels + sequence\n",
    "    # sequence\n",
    "    # suggested labels\n",
    "    # scores for each label (probability)"
   ]
  },
  {
   "cell_type": "code",
   "execution_count": 113,
   "id": "ba01995a",
   "metadata": {},
   "outputs": [],
   "source": [
    "# Output method for sentiment analysis\n",
    "def output(labels, confidence, text):\n",
    "    labels = pd.DataFrame({'Labels': labels})\n",
    "    confidence = pd.DataFrame({'Confidence Scores': confidence})\n",
    "    sentiment_scores = pd.concat([labels,confidence], ignore_index=False, axis=1)\n",
    "    \n",
    "    print(\"\\n--------------------------------------------------------------------------------------\")\n",
    "    print(f\"\\nEntered input sentence:\\n{text}\")\n",
    "    print(\"\\nSentiment of the text (Probability Distribution): \")\n",
    "    print(sentiment_scores.to_string(index=False))\n",
    "    print(\"\\n--------------------------------------------------------------------------------------\")"
   ]
  },
  {
   "cell_type": "code",
   "execution_count": 114,
   "id": "8314ce02",
   "metadata": {},
   "outputs": [],
   "source": [
    "# https://www.kaggle.com/akshay560/sentiment-analysis-with-bart-covid19\n",
    "\n",
    "def sentiment(text):\n",
    "    \n",
    "    # Possible Sentiment Categories\n",
    "    # Send the labels and text to the classifier pipeline\n",
    "    candidate_labels = [\"happy\", \"sad\", \"neutral\"]\n",
    "    result = classifier(text, candidate_labels)\n",
    "    \n",
    "    # Extract the labels from results dictionary\n",
    "    labels = result['labels']\n",
    "    \n",
    "    # Extract the labels from results dictionary\n",
    "        # ratio * 100, rounded to 2 decimals, converted to string\n",
    "    confidence = [str(round(r*100, 2))+' %' for r in result['scores']]\n",
    "    \n",
    "    output(labels, confidence, text)"
   ]
  },
  {
   "cell_type": "markdown",
   "id": "7a9adae3",
   "metadata": {},
   "source": [
    "**TEST FOR WEB-APP**"
   ]
  },
  {
   "cell_type": "code",
   "execution_count": 115,
   "id": "9267ab42",
   "metadata": {
    "scrolled": true
   },
   "outputs": [
    {
     "name": "stdout",
     "output_type": "stream",
     "text": [
      "\n",
      "--------------------------------------------------------------------------------------\n",
      "\n",
      "Entered input sentence:\n",
      "That movie was horrendous. It was full of plot holes and made no sense.\n",
      "\n",
      "Sentiment of the tweet (Probability Distribution): \n",
      " Labels Confidence Scores\n",
      "    sad           96.37 %\n",
      "neutral            2.98 %\n",
      "  happy            0.65 %\n",
      "\n",
      "--------------------------------------------------------------------------------------\n"
     ]
    }
   ],
   "source": [
    "bad_review = 'That movie was horrendous. It was full of plot holes and made no sense.'\n",
    "sentiment(bad_review)"
   ]
  },
  {
   "cell_type": "code",
   "execution_count": 116,
   "id": "4111d28f",
   "metadata": {},
   "outputs": [
    {
     "name": "stdout",
     "output_type": "stream",
     "text": [
      "\n",
      "--------------------------------------------------------------------------------------\n",
      "\n",
      "Entered input sentence:\n",
      "That movie was wonderful. It was action-packed and very engaging.\n",
      "\n",
      "Sentiment of the tweet (Probability Distribution): \n",
      " Labels Confidence Scores\n",
      "  happy           82.46 %\n",
      "neutral           13.55 %\n",
      "    sad             4.0 %\n",
      "\n",
      "--------------------------------------------------------------------------------------\n"
     ]
    }
   ],
   "source": [
    "good_review = 'That movie was wonderful. It was action-packed and very engaging.'\n",
    "sentiment(good_review)"
   ]
  },
  {
   "cell_type": "code",
   "execution_count": 117,
   "id": "8a1493ac",
   "metadata": {},
   "outputs": [
    {
     "name": "stdout",
     "output_type": "stream",
     "text": [
      "\n",
      "--------------------------------------------------------------------------------------\n",
      "\n",
      "Entered input sentence:\n",
      "That movie was alright. It was good for the first half and then got boring afterwards.\n",
      "\n",
      "Sentiment of the tweet (Probability Distribution): \n",
      " Labels Confidence Scores\n",
      "neutral           57.44 %\n",
      "    sad           36.04 %\n",
      "  happy            6.52 %\n",
      "\n",
      "--------------------------------------------------------------------------------------\n"
     ]
    }
   ],
   "source": [
    "okay_review = 'That movie was alright. It was good for the first half and then got boring afterwards.'\n",
    "sentiment(okay_review)"
   ]
  },
  {
   "cell_type": "markdown",
   "id": "3ab1bb9c",
   "metadata": {},
   "source": [
    "**AGAIN WITH POSITIVE/NEUTRAL/NEGATIVE INSTEAD OF HAPPY/NEUTRAL/SAD**"
   ]
  },
  {
   "cell_type": "code",
   "execution_count": 118,
   "id": "f9c057bb",
   "metadata": {},
   "outputs": [],
   "source": [
    "def sentiment2(text):\n",
    "    \n",
    "    # Possible Sentiment Categories\n",
    "    # Send the labels and text to the classifier pipeline\n",
    "    candidate_labels = [\"positive\", \"neutral\", \"negative\"]\n",
    "    result = classifier(text, candidate_labels)\n",
    "   \n",
    "    # Extract the labels from results dictionary\n",
    "    labels = result['labels']\n",
    "    \n",
    "    # Extract the labels from results dictionary\n",
    "        # ratio * 100, rounded to 2 decimals, converted to string\n",
    "    confidence = [str(round(r*100, 2))+' %' for r in result['scores']]\n",
    "    \n",
    "    output(labels, confidence, text)"
   ]
  },
  {
   "cell_type": "code",
   "execution_count": 119,
   "id": "2ffbdad6",
   "metadata": {
    "scrolled": true
   },
   "outputs": [
    {
     "name": "stdout",
     "output_type": "stream",
     "text": [
      "\n",
      "--------------------------------------------------------------------------------------\n",
      "\n",
      "Entered input sentence:\n",
      "That movie was horrendous. It was full of plot holes and made no sense.\n",
      "\n",
      "Sentiment of the tweet (Probability Distribution): \n",
      "  Labels Confidence Scores\n",
      "negative           99.19 %\n",
      " neutral            0.58 %\n",
      "positive            0.23 %\n",
      "\n",
      "--------------------------------------------------------------------------------------\n"
     ]
    }
   ],
   "source": [
    "bad_review = 'That movie was horrendous. It was full of plot holes and made no sense.'\n",
    "sentiment2(bad_review)"
   ]
  },
  {
   "cell_type": "code",
   "execution_count": 120,
   "id": "f623b790",
   "metadata": {},
   "outputs": [
    {
     "name": "stdout",
     "output_type": "stream",
     "text": [
      "\n",
      "--------------------------------------------------------------------------------------\n",
      "\n",
      "Entered input sentence:\n",
      "That movie was wonderful. It was action-packed and very engaging.\n",
      "\n",
      "Sentiment of the tweet (Probability Distribution): \n",
      "  Labels Confidence Scores\n",
      "positive           99.02 %\n",
      " neutral            0.52 %\n",
      "negative            0.46 %\n",
      "\n",
      "--------------------------------------------------------------------------------------\n"
     ]
    }
   ],
   "source": [
    "good_review = 'That movie was wonderful. It was action-packed and very engaging.'\n",
    "sentiment2(good_review)"
   ]
  },
  {
   "cell_type": "code",
   "execution_count": 121,
   "id": "7b9e7540",
   "metadata": {},
   "outputs": [
    {
     "name": "stdout",
     "output_type": "stream",
     "text": [
      "\n",
      "--------------------------------------------------------------------------------------\n",
      "\n",
      "Entered input sentence:\n",
      "That movie was alright. It was good for the first half and then got boring afterwards.\n",
      "\n",
      "Sentiment of the tweet (Probability Distribution): \n",
      "  Labels Confidence Scores\n",
      "negative           69.19 %\n",
      " neutral           21.47 %\n",
      "positive            9.34 %\n",
      "\n",
      "--------------------------------------------------------------------------------------\n"
     ]
    }
   ],
   "source": [
    "okay_review = 'That movie was alright. It was good for the first half and then got boring afterwards.'\n",
    "sentiment2(okay_review)"
   ]
  },
  {
   "cell_type": "markdown",
   "id": "6df83984",
   "metadata": {},
   "source": [
    "### RESULTS:\n",
    "- Happy/Neutral/Sad yields more plausible ratios than Positive/Neutral/Negative\n",
    "- **But we'll confirm with accuracy scores**"
   ]
  },
  {
   "cell_type": "code",
   "execution_count": 122,
   "id": "1dd00a17",
   "metadata": {
    "scrolled": true
   },
   "outputs": [
    {
     "name": "stdout",
     "output_type": "stream",
     "text": [
      "{'sequence': 'That movie was wonderful. It was action-packed and very engaging.', 'labels': ['happy', 'sad'], 'scores': [0.9537813663482666, 0.046218592673540115]}\n"
     ]
    }
   ],
   "source": [
    "# Sample prediction\n",
    "candidate_labels = ['sad', 'happy']\n",
    "result = classifier(good_review, candidate_labels)\n",
    "print(result)"
   ]
  },
  {
   "cell_type": "code",
   "execution_count": 123,
   "id": "2dd9d75f",
   "metadata": {},
   "outputs": [
    {
     "name": "stdout",
     "output_type": "stream",
     "text": [
      "{'sequence': 'That movie was horrendous. It was full of plot holes and made no sense.', 'labels': ['sad', 'happy'], 'scores': [0.9933056831359863, 0.006694275885820389]}\n"
     ]
    }
   ],
   "source": [
    "## As per the pipeline results, it automatically sorts the highest sentiment first.\n",
    "## In order to predict, we'll need to observe the first index\n",
    "## label-name instead of the score\n",
    "\n",
    "result2 = classifier(bad_review, candidate_labels)\n",
    "print(result2)"
   ]
  },
  {
   "cell_type": "code",
   "execution_count": 124,
   "id": "5c2845b1",
   "metadata": {},
   "outputs": [
    {
     "name": "stdout",
     "output_type": "stream",
     "text": [
      "1\n"
     ]
    }
   ],
   "source": [
    "# Test prediction condition, extracting the first index label\n",
    "label = result['labels'][0]\n",
    "if label == 'happy':\n",
    "    prediction = 1\n",
    "else:\n",
    "    prediction = 0\n",
    "    \n",
    "print(prediction)"
   ]
  },
  {
   "cell_type": "code",
   "execution_count": 125,
   "id": "390641a9",
   "metadata": {},
   "outputs": [
    {
     "name": "stdout",
     "output_type": "stream",
     "text": [
      "0\n"
     ]
    }
   ],
   "source": [
    "# Confirmed with negative review\n",
    "label = result2['labels'][0]\n",
    "if label == 'happy':\n",
    "    prediction = 1\n",
    "else:\n",
    "    prediction = 0\n",
    "    \n",
    "print(prediction)"
   ]
  },
  {
   "cell_type": "code",
   "execution_count": 97,
   "id": "696d37e4",
   "metadata": {},
   "outputs": [
    {
     "name": "stdout",
     "output_type": "stream",
     "text": [
      "1    0.511\n",
      "0    0.489\n",
      "Name: positive, dtype: float64\n"
     ]
    },
    {
     "data": {
      "text/html": [
       "<div>\n",
       "<style scoped>\n",
       "    .dataframe tbody tr th:only-of-type {\n",
       "        vertical-align: middle;\n",
       "    }\n",
       "\n",
       "    .dataframe tbody tr th {\n",
       "        vertical-align: top;\n",
       "    }\n",
       "\n",
       "    .dataframe thead th {\n",
       "        text-align: right;\n",
       "    }\n",
       "</style>\n",
       "<table border=\"1\" class=\"dataframe\">\n",
       "  <thead>\n",
       "    <tr style=\"text-align: right;\">\n",
       "      <th></th>\n",
       "      <th>positive</th>\n",
       "      <th>text</th>\n",
       "    </tr>\n",
       "  </thead>\n",
       "  <tbody>\n",
       "    <tr>\n",
       "      <th>0</th>\n",
       "      <td>1</td>\n",
       "      <td>in panic in the streets richard widmark plays ...</td>\n",
       "    </tr>\n",
       "    <tr>\n",
       "      <th>1</th>\n",
       "      <td>0</td>\n",
       "      <td>if you ask me the first one was really better ...</td>\n",
       "    </tr>\n",
       "    <tr>\n",
       "      <th>2</th>\n",
       "      <td>1</td>\n",
       "      <td>i am a big fan a faerie tale theatre and i ve ...</td>\n",
       "    </tr>\n",
       "    <tr>\n",
       "      <th>3</th>\n",
       "      <td>0</td>\n",
       "      <td>i just finished reading a book about dillinger...</td>\n",
       "    </tr>\n",
       "    <tr>\n",
       "      <th>4</th>\n",
       "      <td>0</td>\n",
       "      <td>greg davis and bryan daly take some crazed sta...</td>\n",
       "    </tr>\n",
       "  </tbody>\n",
       "</table>\n",
       "</div>"
      ],
      "text/plain": [
       "   positive                                               text\n",
       "0         1  in panic in the streets richard widmark plays ...\n",
       "1         0  if you ask me the first one was really better ...\n",
       "2         1  i am a big fan a faerie tale theatre and i ve ...\n",
       "3         0  i just finished reading a book about dillinger...\n",
       "4         0  greg davis and bryan daly take some crazed sta..."
      ]
     },
     "execution_count": 97,
     "metadata": {},
     "output_type": "execute_result"
    }
   ],
   "source": [
    "# Random sample of 1000 rows out of the total 25000\n",
    "df2 = df.sample(n=1000, random_state=42, ignore_index=True)\n",
    "\n",
    "# Close to equal distribution\n",
    "print(df2.positive.value_counts(normalize=True))\n",
    "\n",
    "df2.head()"
   ]
  },
  {
   "cell_type": "code",
   "execution_count": 130,
   "id": "fe0eb633",
   "metadata": {},
   "outputs": [
    {
     "data": {
      "text/html": [
       "<div>\n",
       "<style scoped>\n",
       "    .dataframe tbody tr th:only-of-type {\n",
       "        vertical-align: middle;\n",
       "    }\n",
       "\n",
       "    .dataframe tbody tr th {\n",
       "        vertical-align: top;\n",
       "    }\n",
       "\n",
       "    .dataframe thead th {\n",
       "        text-align: right;\n",
       "    }\n",
       "</style>\n",
       "<table border=\"1\" class=\"dataframe\">\n",
       "  <thead>\n",
       "    <tr style=\"text-align: right;\">\n",
       "      <th></th>\n",
       "      <th>positive</th>\n",
       "      <th>text</th>\n",
       "      <th>prediction</th>\n",
       "    </tr>\n",
       "  </thead>\n",
       "  <tbody>\n",
       "    <tr>\n",
       "      <th>0</th>\n",
       "      <td>1</td>\n",
       "      <td>in panic in the streets richard widmark plays ...</td>\n",
       "      <td>0</td>\n",
       "    </tr>\n",
       "    <tr>\n",
       "      <th>1</th>\n",
       "      <td>0</td>\n",
       "      <td>if you ask me the first one was really better ...</td>\n",
       "      <td>0</td>\n",
       "    </tr>\n",
       "    <tr>\n",
       "      <th>2</th>\n",
       "      <td>1</td>\n",
       "      <td>i am a big fan a faerie tale theatre and i ve ...</td>\n",
       "      <td>1</td>\n",
       "    </tr>\n",
       "    <tr>\n",
       "      <th>3</th>\n",
       "      <td>0</td>\n",
       "      <td>i just finished reading a book about dillinger...</td>\n",
       "      <td>0</td>\n",
       "    </tr>\n",
       "    <tr>\n",
       "      <th>4</th>\n",
       "      <td>0</td>\n",
       "      <td>greg davis and bryan daly take some crazed sta...</td>\n",
       "      <td>0</td>\n",
       "    </tr>\n",
       "  </tbody>\n",
       "</table>\n",
       "</div>"
      ],
      "text/plain": [
       "   positive                                               text  prediction\n",
       "0         1  in panic in the streets richard widmark plays ...           0\n",
       "1         0  if you ask me the first one was really better ...           0\n",
       "2         1  i am a big fan a faerie tale theatre and i ve ...           1\n",
       "3         0  i just finished reading a book about dillinger...           0\n",
       "4         0  greg davis and bryan daly take some crazed sta...           0"
      ]
     },
     "execution_count": 130,
     "metadata": {},
     "output_type": "execute_result"
    }
   ],
   "source": [
    "# Prediction method\n",
    "def predict(text):\n",
    "    \n",
    "    # Possible Sentiment Categories\n",
    "    # Send the labels and text to the classifier pipeline\n",
    "    candidate_labels = ['sad', 'happy']\n",
    "    result = classifier(text, candidate_labels)\n",
    "    \n",
    "    # Extract first label (predicted sentiment)\n",
    "    label = result['labels'][0]\n",
    "    \n",
    "    if label == 'happy':\n",
    "        return 1\n",
    "    else:\n",
    "        return 0\n",
    "\n",
    "# Create prediction column on sample\n",
    "df2['prediction'] = df2['text'].apply(predict)\n",
    "\n",
    "df2.head()"
   ]
  },
  {
   "cell_type": "code",
   "execution_count": 131,
   "id": "6fcf069d",
   "metadata": {},
   "outputs": [
    {
     "data": {
      "text/plain": [
       "0.7948927280803909"
      ]
     },
     "execution_count": 131,
     "metadata": {},
     "output_type": "execute_result"
    }
   ],
   "source": [
    "roc_auc_score(df2['positive'], df2['prediction'])"
   ]
  },
  {
   "cell_type": "code",
   "execution_count": 132,
   "id": "4dae8088",
   "metadata": {},
   "outputs": [
    {
     "data": {
      "text/plain": [
       "0.792"
      ]
     },
     "execution_count": 132,
     "metadata": {},
     "output_type": "execute_result"
    }
   ],
   "source": [
    "accuracy_score(df2['positive'], df2['prediction'])"
   ]
  },
  {
   "cell_type": "code",
   "execution_count": 133,
   "id": "0aa7e412",
   "metadata": {},
   "outputs": [
    {
     "data": {
      "text/plain": [
       "Text(0.5, 1.0, 'Actual vs Prediction')"
      ]
     },
     "execution_count": 133,
     "metadata": {},
     "output_type": "execute_result"
    },
    {
     "data": {
      "image/png": "[encoded data removed]",
      "text/plain": [
       "<Figure size 432x288 with 2 Axes>"
      ]
     },
     "metadata": {
      "needs_background": "light"
     },
     "output_type": "display_data"
    }
   ],
   "source": [
    "cm = confusion_matrix(df2['positive'], df2['prediction'])\n",
    "sns.heatmap(cm, cmap= 'cividis', annot=True, fmt='g', annot_kws={'size':20})\n",
    "plt.xlabel('predicted', fontsize=18)\n",
    "plt.ylabel('actual', fontsize=18)\n",
    "plt.title('Actual vs Prediction', fontsize=18)"
   ]
  },
  {
   "cell_type": "markdown",
   "id": "b212e84d",
   "metadata": {},
   "source": [
    "**Happy/Sad sentiments only achieved 79% Accuracy and AUC**\n",
    "- we'll test Postive/Negative sentiments"
   ]
  },
  {
   "cell_type": "code",
   "execution_count": null,
   "id": "e0b7e4b2",
   "metadata": {},
   "outputs": [],
   "source": [
    "df3 = df2.copy"
   ]
  },
  {
   "cell_type": "code",
   "execution_count": 134,
   "id": "f1a52898",
   "metadata": {},
   "outputs": [
    {
     "data": {
      "text/html": [
       "<div>\n",
       "<style scoped>\n",
       "    .dataframe tbody tr th:only-of-type {\n",
       "        vertical-align: middle;\n",
       "    }\n",
       "\n",
       "    .dataframe tbody tr th {\n",
       "        vertical-align: top;\n",
       "    }\n",
       "\n",
       "    .dataframe thead th {\n",
       "        text-align: right;\n",
       "    }\n",
       "</style>\n",
       "<table border=\"1\" class=\"dataframe\">\n",
       "  <thead>\n",
       "    <tr style=\"text-align: right;\">\n",
       "      <th></th>\n",
       "      <th>positive</th>\n",
       "      <th>text</th>\n",
       "      <th>prediction</th>\n",
       "    </tr>\n",
       "  </thead>\n",
       "  <tbody>\n",
       "    <tr>\n",
       "      <th>0</th>\n",
       "      <td>1</td>\n",
       "      <td>in panic in the streets richard widmark plays ...</td>\n",
       "      <td>0</td>\n",
       "    </tr>\n",
       "    <tr>\n",
       "      <th>1</th>\n",
       "      <td>0</td>\n",
       "      <td>if you ask me the first one was really better ...</td>\n",
       "      <td>0</td>\n",
       "    </tr>\n",
       "    <tr>\n",
       "      <th>2</th>\n",
       "      <td>1</td>\n",
       "      <td>i am a big fan a faerie tale theatre and i ve ...</td>\n",
       "      <td>1</td>\n",
       "    </tr>\n",
       "    <tr>\n",
       "      <th>3</th>\n",
       "      <td>0</td>\n",
       "      <td>i just finished reading a book about dillinger...</td>\n",
       "      <td>0</td>\n",
       "    </tr>\n",
       "    <tr>\n",
       "      <th>4</th>\n",
       "      <td>0</td>\n",
       "      <td>greg davis and bryan daly take some crazed sta...</td>\n",
       "      <td>0</td>\n",
       "    </tr>\n",
       "  </tbody>\n",
       "</table>\n",
       "</div>"
      ],
      "text/plain": [
       "   positive                                               text  prediction\n",
       "0         1  in panic in the streets richard widmark plays ...           0\n",
       "1         0  if you ask me the first one was really better ...           0\n",
       "2         1  i am a big fan a faerie tale theatre and i ve ...           1\n",
       "3         0  i just finished reading a book about dillinger...           0\n",
       "4         0  greg davis and bryan daly take some crazed sta...           0"
      ]
     },
     "execution_count": 134,
     "metadata": {},
     "output_type": "execute_result"
    }
   ],
   "source": [
    "# Prediction method\n",
    "def predict2(text):\n",
    "    \n",
    "    # Possible Sentiment Categories\n",
    "    # Send the labels and text to the classifier pipeline\n",
    "    candidate_labels = ['negative', 'positive']\n",
    "    result = classifier(text, candidate_labels)\n",
    "    \n",
    "    # Extract first label (predicted sentiment)\n",
    "    label = result['labels'][0]\n",
    "    \n",
    "    if label == 'positive':\n",
    "        return 1\n",
    "    else:\n",
    "        return 0\n",
    "\n",
    "    \n",
    "df3 = df2.copy()\n",
    "\n",
    "# Create prediction column on sample\n",
    "df3['prediction'] = df3['text'].apply(predict2)\n",
    "\n",
    "df3.head()"
   ]
  },
  {
   "cell_type": "code",
   "execution_count": 135,
   "id": "3f590c52",
   "metadata": {},
   "outputs": [
    {
     "data": {
      "text/plain": [
       "0.8557781966471771"
      ]
     },
     "execution_count": 135,
     "metadata": {},
     "output_type": "execute_result"
    }
   ],
   "source": [
    "roc_auc_score(df3['positive'], df3['prediction'])"
   ]
  },
  {
   "cell_type": "code",
   "execution_count": 136,
   "id": "2fd20a17",
   "metadata": {},
   "outputs": [
    {
     "data": {
      "text/plain": [
       "0.854"
      ]
     },
     "execution_count": 136,
     "metadata": {},
     "output_type": "execute_result"
    }
   ],
   "source": [
    "accuracy_score(df3['positive'], df3['prediction'])"
   ]
  },
  {
   "cell_type": "code",
   "execution_count": 137,
   "id": "78828823",
   "metadata": {},
   "outputs": [
    {
     "data": {
      "text/plain": [
       "Text(0.5, 1.0, 'Actual vs Prediction')"
      ]
     },
     "execution_count": 137,
     "metadata": {},
     "output_type": "execute_result"
    },
    {
     "data": {
      "image/png": "[encoded data removed]",
      "text/plain": [
       "<Figure size 432x288 with 2 Axes>"
      ]
     },
     "metadata": {
      "needs_background": "light"
     },
     "output_type": "display_data"
    }
   ],
   "source": [
    "cm = confusion_matrix(df3['positive'], df3['prediction'])\n",
    "sns.heatmap(cm, cmap= 'cividis',\n",
    "            annot=True, fmt='g',\n",
    "            annot_kws={'size':20},\n",
    "            vmin= 0, vmax=df3.shape[0])\n",
    "plt.xlabel('predicted', fontsize=18)\n",
    "plt.ylabel('actual', fontsize=18)\n",
    "plt.title('Actual vs Prediction', fontsize=18)"
   ]
  },
  {
   "cell_type": "code",
   "execution_count": 144,
   "id": "bc697c10",
   "metadata": {},
   "outputs": [
    {
     "name": "stdout",
     "output_type": "stream",
     "text": [
      "              precision    recall  f1-score   support\n",
      "\n",
      "           0       0.80      0.94      0.86       489\n",
      "           1       0.93      0.77      0.84       511\n",
      "\n",
      "    accuracy                           0.85      1000\n",
      "   macro avg       0.86      0.86      0.85      1000\n",
      "weighted avg       0.86      0.85      0.85      1000\n",
      "\n",
      "AUC:  0.86\n"
     ]
    }
   ],
   "source": [
    "# Score confirmation\n",
    "print(classification_report(df3['positive'], df3['prediction']))\n",
    "print('AUC: ', round(roc_auc_score(df3['positive'], df3['prediction']), 2))"
   ]
  },
  {
   "cell_type": "markdown",
   "id": "43e21868",
   "metadata": {},
   "source": [
    "**With the sample of 1000, stronger metrics were achieved with Negative/Positive sentiments**"
   ]
  },
  {
   "cell_type": "code",
   "execution_count": 29,
   "id": "fa6d1285",
   "metadata": {},
   "outputs": [
    {
     "name": "stdout",
     "output_type": "stream",
     "text": [
      "              precision    recall  f1-score   support\n",
      "\n",
      "           0       0.80      0.94      0.87     12500\n",
      "           1       0.93      0.77      0.84     12500\n",
      "\n",
      "    accuracy                           0.86     25000\n",
      "   macro avg       0.87      0.86      0.85     25000\n",
      "weighted avg       0.87      0.86      0.85     25000\n",
      "\n",
      "AUC:  0.86\n"
     ]
    }
   ],
   "source": [
    "# Prediction on full 25000 training dataset\n",
    "X = df['text']\n",
    "y = df['positive']\n",
    "pred = X.apply(predict2) # utilizing negative/positive\n",
    "\n",
    "print(classification_report(y, pred))\n",
    "print('AUC: ', round(roc_auc_score(y, pred), 2))\n",
    "\n",
    "\n",
    "# RESULTS SAVED DUE TO 2HOUR TRAINING TIME:\n",
    "    #               precision    recall  f1-score   support\n",
    "\n",
    "    #            0       0.80      0.94      0.87     12500\n",
    "    #            1       0.93      0.77      0.84     12500\n",
    "\n",
    "    #     accuracy                           0.86     25000\n",
    "    #    macro avg       0.87      0.86      0.85     25000\n",
    "    # weighted avg       0.87      0.86      0.85     25000\n",
    "\n",
    "    # AUC:  0.86"
   ]
  },
  {
   "cell_type": "markdown",
   "id": "114fdcae",
   "metadata": {},
   "source": [
    "## RESULTS:\n",
    "- virtually identical to the 1000-sample"
   ]
  },
  {
   "cell_type": "code",
   "execution_count": 54,
   "id": "b48d3c7b",
   "metadata": {},
   "outputs": [],
   "source": [
    "# As per 2hrs+ training time, saved predictions for re-use\n",
    "df['prediction'] = pred\n",
    "df.to_csv('train_predicted.csv', index=False)"
   ]
  },
  {
   "cell_type": "markdown",
   "id": "f5692865",
   "metadata": {},
   "source": [
    "# RESULTS RECAP\n",
    "\n",
    "**1. LOGISTIC REGRESSION + TF-IDF VECTORIZER**\n",
    "\n",
    "<img src=\"../images/logreg_tfidf.png\"\n",
    "     alt=\"Logistic Regression Results\"\n",
    "     style=\"float: left;\" />"
   ]
  },
  {
   "cell_type": "markdown",
   "id": "30f3d3e2",
   "metadata": {},
   "source": [
    "**2. CONVOLUTIONAL NEURAL NETWORK (CNN) + GOOGLE WORD2VEC**\n",
    "\n",
    "<img src=\"../images/cnn.png\"\n",
    "alt=\"Logistic Regression Results\"\n",
    "style=\"float: left;\" />"
   ]
  },
  {
   "cell_type": "markdown",
   "id": "1f78d467",
   "metadata": {},
   "source": [
    "**3. BIDIRECTIONAL AUTOREGRESSIVE TRANSFORMER (BART)**\n",
    "\n",
    "<img src=\"../images/pretrained_BART.png\"\n",
    "alt=\"Logistic Regression Results\"\n",
    "style=\"float: left;\" />"
   ]
  },
  {
   "cell_type": "markdown",
   "id": "2821166f",
   "metadata": {},
   "source": [
    "# NEXT STEPS\n",
    "- Creating a 2-function web-app\n",
    "    1. (simple) First function: analyze a user-input review to return:\n",
    "        - minimum word count of 20 words\n",
    "        - sentiment (positive/negative)\n",
    "        - utilizing the trained CNN model\n",
    "    2. (complex) Second function: analyze a users upload of reviews (.csv file) to return a full dashboard:\n",
    "        - sentiment (positive/neutral/negative -- potentially more)\n",
    "        - word cloud\n",
    "        - top 5 words bar chart\n",
    "        - overall rating (maybe, I'll need to create my own rating system based on the sentiment results)\n",
    "        - recommendations based on overall result\n",
    "        - utilizing the pre-trained BART model\n",
    "        - table with a tally of reviews in 5 categories (will have to create algorithm for dividing the reviews)\n",
    "            - Very Satisfied (80%+ positive)\n",
    "            - Satisfied  (60-79.99% positive)\n",
    "            - Neutral (50%+ neutral OR approx(+VE==-VE) )\n",
    "                - 50%+ since it means neutral > sum(+VE,-VE)\n",
    "                - approx(+VE==-VE) since there could be instances of 33% across all 3 sentiments or 40-50% +VE vs. 40-50% -VE with minimal neutral, but still means it's neutral as they're equally positive & negative\n",
    "            - Unsatisfied (60-79.99% negative)\n",
    "            - Very Unsatisfied (80%+ negative)"
   ]
  },
  {
   "cell_type": "code",
   "execution_count": null,
   "id": "cf22fe8e",
   "metadata": {},
   "outputs": [],
   "source": []
  },
  {
   "cell_type": "code",
   "execution_count": null,
   "id": "712f17f3",
   "metadata": {},
   "outputs": [],
   "source": []
  },
  {
   "cell_type": "code",
   "execution_count": null,
   "id": "b02c4c1d",
   "metadata": {},
   "outputs": [],
   "source": []
  },
  {
   "cell_type": "markdown",
   "id": "3a642939",
   "metadata": {},
   "source": [
    "# WEB APP ROUGH CODE BLOCKS BELOW"
   ]
  },
  {
   "cell_type": "code",
   "execution_count": 38,
   "id": "9b837edd",
   "metadata": {},
   "outputs": [
    {
     "name": "stderr",
     "output_type": "stream",
     "text": [
      "/home/kl/anaconda3/lib/python3.9/site-packages/pkg_resources/__init__.py:122: PkgResourcesDeprecationWarning:\n",
      "\n",
      "4.0.0-unsupported is an invalid version and will not be supported in a future release\n",
      "\n"
     ]
    },
    {
     "data": {
      "application/vnd.plotly.v1+json": {
       "config": {
        "plotlyServerURL": "https://plot.ly"
       },
       "data": [
        {
         "alignmentgroup": "True",
         "hovertemplate": "x=%{x}<br>y=%{y}<extra></extra>",
         "legendgroup": "",
         "marker": {
          "color": "#636efa",
          "pattern": {
           "shape": ""
          }
         },
         "name": "",
         "offsetgroup": "",
         "orientation": "v",
         "showlegend": false,
         "textposition": "auto",
         "type": "bar",
         "x": [
          "a",
          "b",
          "c"
         ],
         "xaxis": "x",
         "y": [
          1,
          3,
          2
         ],
         "yaxis": "y"
        }
       ],
       "layout": {
        "barmode": "relative",
        "legend": {
         "tracegroupgap": 0
        },
        "margin": {
         "t": 60
        },
        "template": {
         "data": {
          "bar": [
           {
            "error_x": {
             "color": "#2a3f5f"
            },
            "error_y": {
             "color": "#2a3f5f"
            },
            "marker": {
             "line": {
              "color": "#E5ECF6",
              "width": 0.5
             },
             "pattern": {
              "fillmode": "overlay",
              "size": 10,
              "solidity": 0.2
             }
            },
            "type": "bar"
           }
          ],
          "barpolar": [
           {
            "marker": {
             "line": {
              "color": "#E5ECF6",
              "width": 0.5
             },
             "pattern": {
              "fillmode": "overlay",
              "size": 10,
              "solidity": 0.2
             }
            },
            "type": "barpolar"
           }
          ],
          "carpet": [
           {
            "aaxis": {
             "endlinecolor": "#2a3f5f",
             "gridcolor": "white",
             "linecolor": "white",
             "minorgridcolor": "white",
             "startlinecolor": "#2a3f5f"
            },
            "baxis": {
             "endlinecolor": "#2a3f5f",
             "gridcolor": "white",
             "linecolor": "white",
             "minorgridcolor": "white",
             "startlinecolor": "#2a3f5f"
            },
            "type": "carpet"
           }
          ],
          "choropleth": [
           {
            "colorbar": {
             "outlinewidth": 0,
             "ticks": ""
            },
            "type": "choropleth"
           }
          ],
          "contour": [
           {
            "colorbar": {
             "outlinewidth": 0,
             "ticks": ""
            },
            "colorscale": [
             [
              0,
              "#0d0887"
             ],
             [
              0.1111111111111111,
              "#46039f"
             ],
             [
              0.2222222222222222,
              "#7201a8"
             ],
             [
              0.3333333333333333,
              "#9c179e"
             ],
             [
              0.4444444444444444,
              "#bd3786"
             ],
             [
              0.5555555555555556,
              "#d8576b"
             ],
             [
              0.6666666666666666,
              "#ed7953"
             ],
             [
              0.7777777777777778,
              "#fb9f3a"
             ],
             [
              0.8888888888888888,
              "#fdca26"
             ],
             [
              1,
              "#f0f921"
             ]
            ],
            "type": "contour"
           }
          ],
          "contourcarpet": [
           {
            "colorbar": {
             "outlinewidth": 0,
             "ticks": ""
            },
            "type": "contourcarpet"
           }
          ],
          "heatmap": [
           {
            "colorbar": {
             "outlinewidth": 0,
             "ticks": ""
            },
            "colorscale": [
             [
              0,
              "#0d0887"
             ],
             [
              0.1111111111111111,
              "#46039f"
             ],
             [
              0.2222222222222222,
              "#7201a8"
             ],
             [
              0.3333333333333333,
              "#9c179e"
             ],
             [
              0.4444444444444444,
              "#bd3786"
             ],
             [
              0.5555555555555556,
              "#d8576b"
             ],
             [
              0.6666666666666666,
              "#ed7953"
             ],
             [
              0.7777777777777778,
              "#fb9f3a"
             ],
             [
              0.8888888888888888,
              "#fdca26"
             ],
             [
              1,
              "#f0f921"
             ]
            ],
            "type": "heatmap"
           }
          ],
          "heatmapgl": [
           {
            "colorbar": {
             "outlinewidth": 0,
             "ticks": ""
            },
            "colorscale": [
             [
              0,
              "#0d0887"
             ],
             [
              0.1111111111111111,
              "#46039f"
             ],
             [
              0.2222222222222222,
              "#7201a8"
             ],
             [
              0.3333333333333333,
              "#9c179e"
             ],
             [
              0.4444444444444444,
              "#bd3786"
             ],
             [
              0.5555555555555556,
              "#d8576b"
             ],
             [
              0.6666666666666666,
              "#ed7953"
             ],
             [
              0.7777777777777778,
              "#fb9f3a"
             ],
             [
              0.8888888888888888,
              "#fdca26"
             ],
             [
              1,
              "#f0f921"
             ]
            ],
            "type": "heatmapgl"
           }
          ],
          "histogram": [
           {
            "marker": {
             "pattern": {
              "fillmode": "overlay",
              "size": 10,
              "solidity": 0.2
             }
            },
            "type": "histogram"
           }
          ],
          "histogram2d": [
           {
            "colorbar": {
             "outlinewidth": 0,
             "ticks": ""
            },
            "colorscale": [
             [
              0,
              "#0d0887"
             ],
             [
              0.1111111111111111,
              "#46039f"
             ],
             [
              0.2222222222222222,
              "#7201a8"
             ],
             [
              0.3333333333333333,
              "#9c179e"
             ],
             [
              0.4444444444444444,
              "#bd3786"
             ],
             [
              0.5555555555555556,
              "#d8576b"
             ],
             [
              0.6666666666666666,
              "#ed7953"
             ],
             [
              0.7777777777777778,
              "#fb9f3a"
             ],
             [
              0.8888888888888888,
              "#fdca26"
             ],
             [
              1,
              "#f0f921"
             ]
            ],
            "type": "histogram2d"
           }
          ],
          "histogram2dcontour": [
           {
            "colorbar": {
             "outlinewidth": 0,
             "ticks": ""
            },
            "colorscale": [
             [
              0,
              "#0d0887"
             ],
             [
              0.1111111111111111,
              "#46039f"
             ],
             [
              0.2222222222222222,
              "#7201a8"
             ],
             [
              0.3333333333333333,
              "#9c179e"
             ],
             [
              0.4444444444444444,
              "#bd3786"
             ],
             [
              0.5555555555555556,
              "#d8576b"
             ],
             [
              0.6666666666666666,
              "#ed7953"
             ],
             [
              0.7777777777777778,
              "#fb9f3a"
             ],
             [
              0.8888888888888888,
              "#fdca26"
             ],
             [
              1,
              "#f0f921"
             ]
            ],
            "type": "histogram2dcontour"
           }
          ],
          "mesh3d": [
           {
            "colorbar": {
             "outlinewidth": 0,
             "ticks": ""
            },
            "type": "mesh3d"
           }
          ],
          "parcoords": [
           {
            "line": {
             "colorbar": {
              "outlinewidth": 0,
              "ticks": ""
             }
            },
            "type": "parcoords"
           }
          ],
          "pie": [
           {
            "automargin": true,
            "type": "pie"
           }
          ],
          "scatter": [
           {
            "marker": {
             "colorbar": {
              "outlinewidth": 0,
              "ticks": ""
             }
            },
            "type": "scatter"
           }
          ],
          "scatter3d": [
           {
            "line": {
             "colorbar": {
              "outlinewidth": 0,
              "ticks": ""
             }
            },
            "marker": {
             "colorbar": {
              "outlinewidth": 0,
              "ticks": ""
             }
            },
            "type": "scatter3d"
           }
          ],
          "scattercarpet": [
           {
            "marker": {
             "colorbar": {
              "outlinewidth": 0,
              "ticks": ""
             }
            },
            "type": "scattercarpet"
           }
          ],
          "scattergeo": [
           {
            "marker": {
             "colorbar": {
              "outlinewidth": 0,
              "ticks": ""
             }
            },
            "type": "scattergeo"
           }
          ],
          "scattergl": [
           {
            "marker": {
             "colorbar": {
              "outlinewidth": 0,
              "ticks": ""
             }
            },
            "type": "scattergl"
           }
          ],
          "scattermapbox": [
           {
            "marker": {
             "colorbar": {
              "outlinewidth": 0,
              "ticks": ""
             }
            },
            "type": "scattermapbox"
           }
          ],
          "scatterpolar": [
           {
            "marker": {
             "colorbar": {
              "outlinewidth": 0,
              "ticks": ""
             }
            },
            "type": "scatterpolar"
           }
          ],
          "scatterpolargl": [
           {
            "marker": {
             "colorbar": {
              "outlinewidth": 0,
              "ticks": ""
             }
            },
            "type": "scatterpolargl"
           }
          ],
          "scatterternary": [
           {
            "marker": {
             "colorbar": {
              "outlinewidth": 0,
              "ticks": ""
             }
            },
            "type": "scatterternary"
           }
          ],
          "surface": [
           {
            "colorbar": {
             "outlinewidth": 0,
             "ticks": ""
            },
            "colorscale": [
             [
              0,
              "#0d0887"
             ],
             [
              0.1111111111111111,
              "#46039f"
             ],
             [
              0.2222222222222222,
              "#7201a8"
             ],
             [
              0.3333333333333333,
              "#9c179e"
             ],
             [
              0.4444444444444444,
              "#bd3786"
             ],
             [
              0.5555555555555556,
              "#d8576b"
             ],
             [
              0.6666666666666666,
              "#ed7953"
             ],
             [
              0.7777777777777778,
              "#fb9f3a"
             ],
             [
              0.8888888888888888,
              "#fdca26"
             ],
             [
              1,
              "#f0f921"
             ]
            ],
            "type": "surface"
           }
          ],
          "table": [
           {
            "cells": {
             "fill": {
              "color": "#EBF0F8"
             },
             "line": {
              "color": "white"
             }
            },
            "header": {
             "fill": {
              "color": "#C8D4E3"
             },
             "line": {
              "color": "white"
             }
            },
            "type": "table"
           }
          ]
         },
         "layout": {
          "annotationdefaults": {
           "arrowcolor": "#2a3f5f",
           "arrowhead": 0,
           "arrowwidth": 1
          },
          "autotypenumbers": "strict",
          "coloraxis": {
           "colorbar": {
            "outlinewidth": 0,
            "ticks": ""
           }
          },
          "colorscale": {
           "diverging": [
            [
             0,
             "#8e0152"
            ],
            [
             0.1,
             "#c51b7d"
            ],
            [
             0.2,
             "#de77ae"
            ],
            [
             0.3,
             "#f1b6da"
            ],
            [
             0.4,
             "#fde0ef"
            ],
            [
             0.5,
             "#f7f7f7"
            ],
            [
             0.6,
             "#e6f5d0"
            ],
            [
             0.7,
             "#b8e186"
            ],
            [
             0.8,
             "#7fbc41"
            ],
            [
             0.9,
             "#4d9221"
            ],
            [
             1,
             "#276419"
            ]
           ],
           "sequential": [
            [
             0,
             "#0d0887"
            ],
            [
             0.1111111111111111,
             "#46039f"
            ],
            [
             0.2222222222222222,
             "#7201a8"
            ],
            [
             0.3333333333333333,
             "#9c179e"
            ],
            [
             0.4444444444444444,
             "#bd3786"
            ],
            [
             0.5555555555555556,
             "#d8576b"
            ],
            [
             0.6666666666666666,
             "#ed7953"
            ],
            [
             0.7777777777777778,
             "#fb9f3a"
            ],
            [
             0.8888888888888888,
             "#fdca26"
            ],
            [
             1,
             "#f0f921"
            ]
           ],
           "sequentialminus": [
            [
             0,
             "#0d0887"
            ],
            [
             0.1111111111111111,
             "#46039f"
            ],
            [
             0.2222222222222222,
             "#7201a8"
            ],
            [
             0.3333333333333333,
             "#9c179e"
            ],
            [
             0.4444444444444444,
             "#bd3786"
            ],
            [
             0.5555555555555556,
             "#d8576b"
            ],
            [
             0.6666666666666666,
             "#ed7953"
            ],
            [
             0.7777777777777778,
             "#fb9f3a"
            ],
            [
             0.8888888888888888,
             "#fdca26"
            ],
            [
             1,
             "#f0f921"
            ]
           ]
          },
          "colorway": [
           "#636efa",
           "#EF553B",
           "#00cc96",
           "#ab63fa",
           "#FFA15A",
           "#19d3f3",
           "#FF6692",
           "#B6E880",
           "#FF97FF",
           "#FECB52"
          ],
          "font": {
           "color": "#2a3f5f"
          },
          "geo": {
           "bgcolor": "white",
           "lakecolor": "white",
           "landcolor": "#E5ECF6",
           "showlakes": true,
           "showland": true,
           "subunitcolor": "white"
          },
          "hoverlabel": {
           "align": "left"
          },
          "hovermode": "closest",
          "mapbox": {
           "style": "light"
          },
          "paper_bgcolor": "white",
          "plot_bgcolor": "#E5ECF6",
          "polar": {
           "angularaxis": {
            "gridcolor": "white",
            "linecolor": "white",
            "ticks": ""
           },
           "bgcolor": "#E5ECF6",
           "radialaxis": {
            "gridcolor": "white",
            "linecolor": "white",
            "ticks": ""
           }
          },
          "scene": {
           "xaxis": {
            "backgroundcolor": "#E5ECF6",
            "gridcolor": "white",
            "gridwidth": 2,
            "linecolor": "white",
            "showbackground": true,
            "ticks": "",
            "zerolinecolor": "white"
           },
           "yaxis": {
            "backgroundcolor": "#E5ECF6",
            "gridcolor": "white",
            "gridwidth": 2,
            "linecolor": "white",
            "showbackground": true,
            "ticks": "",
            "zerolinecolor": "white"
           },
           "zaxis": {
            "backgroundcolor": "#E5ECF6",
            "gridcolor": "white",
            "gridwidth": 2,
            "linecolor": "white",
            "showbackground": true,
            "ticks": "",
            "zerolinecolor": "white"
           }
          },
          "shapedefaults": {
           "line": {
            "color": "#2a3f5f"
           }
          },
          "ternary": {
           "aaxis": {
            "gridcolor": "white",
            "linecolor": "white",
            "ticks": ""
           },
           "baxis": {
            "gridcolor": "white",
            "linecolor": "white",
            "ticks": ""
           },
           "bgcolor": "#E5ECF6",
           "caxis": {
            "gridcolor": "white",
            "linecolor": "white",
            "ticks": ""
           }
          },
          "title": {
           "x": 0.05
          },
          "xaxis": {
           "automargin": true,
           "gridcolor": "white",
           "linecolor": "white",
           "ticks": "",
           "title": {
            "standoff": 15
           },
           "zerolinecolor": "white",
           "zerolinewidth": 2
          },
          "yaxis": {
           "automargin": true,
           "gridcolor": "white",
           "linecolor": "white",
           "ticks": "",
           "title": {
            "standoff": 15
           },
           "zerolinecolor": "white",
           "zerolinewidth": 2
          }
         }
        },
        "xaxis": {
         "anchor": "y",
         "domain": [
          0,
          1
         ],
         "title": {
          "text": "x"
         }
        },
        "yaxis": {
         "anchor": "x",
         "domain": [
          0,
          1
         ],
         "title": {
          "text": "y"
         }
        }
       }
      },
      "text/html": [
       "<div>                            <div id=\"fc6e872d-d877-48d8-b679-f5c7bc70fac8\" class=\"plotly-graph-div\" style=\"height:525px; width:100%;\"></div>            <script type=\"text/javascript\">                require([\"plotly\"], function(Plotly) {                    window.PLOTLYENV=window.PLOTLYENV || {};                                    if (document.getElementById(\"fc6e872d-d877-48d8-b679-f5c7bc70fac8\")) {                    Plotly.newPlot(                        \"fc6e872d-d877-48d8-b679-f5c7bc70fac8\",                        [{\"alignmentgroup\":\"True\",\"hovertemplate\":\"x=%{x}<br>y=%{y}<extra></extra>\",\"legendgroup\":\"\",\"marker\":{\"color\":\"#636efa\",\"pattern\":{\"shape\":\"\"}},\"name\":\"\",\"offsetgroup\":\"\",\"orientation\":\"v\",\"showlegend\":false,\"textposition\":\"auto\",\"x\":[\"a\",\"b\",\"c\"],\"xaxis\":\"x\",\"y\":[1,3,2],\"yaxis\":\"y\",\"type\":\"bar\"}],                        {\"template\":{\"data\":{\"bar\":[{\"error_x\":{\"color\":\"#2a3f5f\"},\"error_y\":{\"color\":\"#2a3f5f\"},\"marker\":{\"line\":{\"color\":\"#E5ECF6\",\"width\":0.5},\"pattern\":{\"fillmode\":\"overlay\",\"size\":10,\"solidity\":0.2}},\"type\":\"bar\"}],\"barpolar\":[{\"marker\":{\"line\":{\"color\":\"#E5ECF6\",\"width\":0.5},\"pattern\":{\"fillmode\":\"overlay\",\"size\":10,\"solidity\":0.2}},\"type\":\"barpolar\"}],\"carpet\":[{\"aaxis\":{\"endlinecolor\":\"#2a3f5f\",\"gridcolor\":\"white\",\"linecolor\":\"white\",\"minorgridcolor\":\"white\",\"startlinecolor\":\"#2a3f5f\"},\"baxis\":{\"endlinecolor\":\"#2a3f5f\",\"gridcolor\":\"white\",\"linecolor\":\"white\",\"minorgridcolor\":\"white\",\"startlinecolor\":\"#2a3f5f\"},\"type\":\"carpet\"}],\"choropleth\":[{\"colorbar\":{\"outlinewidth\":0,\"ticks\":\"\"},\"type\":\"choropleth\"}],\"contour\":[{\"colorbar\":{\"outlinewidth\":0,\"ticks\":\"\"},\"colorscale\":[[0.0,\"#0d0887\"],[0.1111111111111111,\"#46039f\"],[0.2222222222222222,\"#7201a8\"],[0.3333333333333333,\"#9c179e\"],[0.4444444444444444,\"#bd3786\"],[0.5555555555555556,\"#d8576b\"],[0.6666666666666666,\"#ed7953\"],[0.7777777777777778,\"#fb9f3a\"],[0.8888888888888888,\"#fdca26\"],[1.0,\"#f0f921\"]],\"type\":\"contour\"}],\"contourcarpet\":[{\"colorbar\":{\"outlinewidth\":0,\"ticks\":\"\"},\"type\":\"contourcarpet\"}],\"heatmap\":[{\"colorbar\":{\"outlinewidth\":0,\"ticks\":\"\"},\"colorscale\":[[0.0,\"#0d0887\"],[0.1111111111111111,\"#46039f\"],[0.2222222222222222,\"#7201a8\"],[0.3333333333333333,\"#9c179e\"],[0.4444444444444444,\"#bd3786\"],[0.5555555555555556,\"#d8576b\"],[0.6666666666666666,\"#ed7953\"],[0.7777777777777778,\"#fb9f3a\"],[0.8888888888888888,\"#fdca26\"],[1.0,\"#f0f921\"]],\"type\":\"heatmap\"}],\"heatmapgl\":[{\"colorbar\":{\"outlinewidth\":0,\"ticks\":\"\"},\"colorscale\":[[0.0,\"#0d0887\"],[0.1111111111111111,\"#46039f\"],[0.2222222222222222,\"#7201a8\"],[0.3333333333333333,\"#9c179e\"],[0.4444444444444444,\"#bd3786\"],[0.5555555555555556,\"#d8576b\"],[0.6666666666666666,\"#ed7953\"],[0.7777777777777778,\"#fb9f3a\"],[0.8888888888888888,\"#fdca26\"],[1.0,\"#f0f921\"]],\"type\":\"heatmapgl\"}],\"histogram\":[{\"marker\":{\"pattern\":{\"fillmode\":\"overlay\",\"size\":10,\"solidity\":0.2}},\"type\":\"histogram\"}],\"histogram2d\":[{\"colorbar\":{\"outlinewidth\":0,\"ticks\":\"\"},\"colorscale\":[[0.0,\"#0d0887\"],[0.1111111111111111,\"#46039f\"],[0.2222222222222222,\"#7201a8\"],[0.3333333333333333,\"#9c179e\"],[0.4444444444444444,\"#bd3786\"],[0.5555555555555556,\"#d8576b\"],[0.6666666666666666,\"#ed7953\"],[0.7777777777777778,\"#fb9f3a\"],[0.8888888888888888,\"#fdca26\"],[1.0,\"#f0f921\"]],\"type\":\"histogram2d\"}],\"histogram2dcontour\":[{\"colorbar\":{\"outlinewidth\":0,\"ticks\":\"\"},\"colorscale\":[[0.0,\"#0d0887\"],[0.1111111111111111,\"#46039f\"],[0.2222222222222222,\"#7201a8\"],[0.3333333333333333,\"#9c179e\"],[0.4444444444444444,\"#bd3786\"],[0.5555555555555556,\"#d8576b\"],[0.6666666666666666,\"#ed7953\"],[0.7777777777777778,\"#fb9f3a\"],[0.8888888888888888,\"#fdca26\"],[1.0,\"#f0f921\"]],\"type\":\"histogram2dcontour\"}],\"mesh3d\":[{\"colorbar\":{\"outlinewidth\":0,\"ticks\":\"\"},\"type\":\"mesh3d\"}],\"parcoords\":[{\"line\":{\"colorbar\":{\"outlinewidth\":0,\"ticks\":\"\"}},\"type\":\"parcoords\"}],\"pie\":[{\"automargin\":true,\"type\":\"pie\"}],\"scatter\":[{\"marker\":{\"colorbar\":{\"outlinewidth\":0,\"ticks\":\"\"}},\"type\":\"scatter\"}],\"scatter3d\":[{\"line\":{\"colorbar\":{\"outlinewidth\":0,\"ticks\":\"\"}},\"marker\":{\"colorbar\":{\"outlinewidth\":0,\"ticks\":\"\"}},\"type\":\"scatter3d\"}],\"scattercarpet\":[{\"marker\":{\"colorbar\":{\"outlinewidth\":0,\"ticks\":\"\"}},\"type\":\"scattercarpet\"}],\"scattergeo\":[{\"marker\":{\"colorbar\":{\"outlinewidth\":0,\"ticks\":\"\"}},\"type\":\"scattergeo\"}],\"scattergl\":[{\"marker\":{\"colorbar\":{\"outlinewidth\":0,\"ticks\":\"\"}},\"type\":\"scattergl\"}],\"scattermapbox\":[{\"marker\":{\"colorbar\":{\"outlinewidth\":0,\"ticks\":\"\"}},\"type\":\"scattermapbox\"}],\"scatterpolar\":[{\"marker\":{\"colorbar\":{\"outlinewidth\":0,\"ticks\":\"\"}},\"type\":\"scatterpolar\"}],\"scatterpolargl\":[{\"marker\":{\"colorbar\":{\"outlinewidth\":0,\"ticks\":\"\"}},\"type\":\"scatterpolargl\"}],\"scatterternary\":[{\"marker\":{\"colorbar\":{\"outlinewidth\":0,\"ticks\":\"\"}},\"type\":\"scatterternary\"}],\"surface\":[{\"colorbar\":{\"outlinewidth\":0,\"ticks\":\"\"},\"colorscale\":[[0.0,\"#0d0887\"],[0.1111111111111111,\"#46039f\"],[0.2222222222222222,\"#7201a8\"],[0.3333333333333333,\"#9c179e\"],[0.4444444444444444,\"#bd3786\"],[0.5555555555555556,\"#d8576b\"],[0.6666666666666666,\"#ed7953\"],[0.7777777777777778,\"#fb9f3a\"],[0.8888888888888888,\"#fdca26\"],[1.0,\"#f0f921\"]],\"type\":\"surface\"}],\"table\":[{\"cells\":{\"fill\":{\"color\":\"#EBF0F8\"},\"line\":{\"color\":\"white\"}},\"header\":{\"fill\":{\"color\":\"#C8D4E3\"},\"line\":{\"color\":\"white\"}},\"type\":\"table\"}]},\"layout\":{\"annotationdefaults\":{\"arrowcolor\":\"#2a3f5f\",\"arrowhead\":0,\"arrowwidth\":1},\"autotypenumbers\":\"strict\",\"coloraxis\":{\"colorbar\":{\"outlinewidth\":0,\"ticks\":\"\"}},\"colorscale\":{\"diverging\":[[0,\"#8e0152\"],[0.1,\"#c51b7d\"],[0.2,\"#de77ae\"],[0.3,\"#f1b6da\"],[0.4,\"#fde0ef\"],[0.5,\"#f7f7f7\"],[0.6,\"#e6f5d0\"],[0.7,\"#b8e186\"],[0.8,\"#7fbc41\"],[0.9,\"#4d9221\"],[1,\"#276419\"]],\"sequential\":[[0.0,\"#0d0887\"],[0.1111111111111111,\"#46039f\"],[0.2222222222222222,\"#7201a8\"],[0.3333333333333333,\"#9c179e\"],[0.4444444444444444,\"#bd3786\"],[0.5555555555555556,\"#d8576b\"],[0.6666666666666666,\"#ed7953\"],[0.7777777777777778,\"#fb9f3a\"],[0.8888888888888888,\"#fdca26\"],[1.0,\"#f0f921\"]],\"sequentialminus\":[[0.0,\"#0d0887\"],[0.1111111111111111,\"#46039f\"],[0.2222222222222222,\"#7201a8\"],[0.3333333333333333,\"#9c179e\"],[0.4444444444444444,\"#bd3786\"],[0.5555555555555556,\"#d8576b\"],[0.6666666666666666,\"#ed7953\"],[0.7777777777777778,\"#fb9f3a\"],[0.8888888888888888,\"#fdca26\"],[1.0,\"#f0f921\"]]},\"colorway\":[\"#636efa\",\"#EF553B\",\"#00cc96\",\"#ab63fa\",\"#FFA15A\",\"#19d3f3\",\"#FF6692\",\"#B6E880\",\"#FF97FF\",\"#FECB52\"],\"font\":{\"color\":\"#2a3f5f\"},\"geo\":{\"bgcolor\":\"white\",\"lakecolor\":\"white\",\"landcolor\":\"#E5ECF6\",\"showlakes\":true,\"showland\":true,\"subunitcolor\":\"white\"},\"hoverlabel\":{\"align\":\"left\"},\"hovermode\":\"closest\",\"mapbox\":{\"style\":\"light\"},\"paper_bgcolor\":\"white\",\"plot_bgcolor\":\"#E5ECF6\",\"polar\":{\"angularaxis\":{\"gridcolor\":\"white\",\"linecolor\":\"white\",\"ticks\":\"\"},\"bgcolor\":\"#E5ECF6\",\"radialaxis\":{\"gridcolor\":\"white\",\"linecolor\":\"white\",\"ticks\":\"\"}},\"scene\":{\"xaxis\":{\"backgroundcolor\":\"#E5ECF6\",\"gridcolor\":\"white\",\"gridwidth\":2,\"linecolor\":\"white\",\"showbackground\":true,\"ticks\":\"\",\"zerolinecolor\":\"white\"},\"yaxis\":{\"backgroundcolor\":\"#E5ECF6\",\"gridcolor\":\"white\",\"gridwidth\":2,\"linecolor\":\"white\",\"showbackground\":true,\"ticks\":\"\",\"zerolinecolor\":\"white\"},\"zaxis\":{\"backgroundcolor\":\"#E5ECF6\",\"gridcolor\":\"white\",\"gridwidth\":2,\"linecolor\":\"white\",\"showbackground\":true,\"ticks\":\"\",\"zerolinecolor\":\"white\"}},\"shapedefaults\":{\"line\":{\"color\":\"#2a3f5f\"}},\"ternary\":{\"aaxis\":{\"gridcolor\":\"white\",\"linecolor\":\"white\",\"ticks\":\"\"},\"baxis\":{\"gridcolor\":\"white\",\"linecolor\":\"white\",\"ticks\":\"\"},\"bgcolor\":\"#E5ECF6\",\"caxis\":{\"gridcolor\":\"white\",\"linecolor\":\"white\",\"ticks\":\"\"}},\"title\":{\"x\":0.05},\"xaxis\":{\"automargin\":true,\"gridcolor\":\"white\",\"linecolor\":\"white\",\"ticks\":\"\",\"title\":{\"standoff\":15},\"zerolinecolor\":\"white\",\"zerolinewidth\":2},\"yaxis\":{\"automargin\":true,\"gridcolor\":\"white\",\"linecolor\":\"white\",\"ticks\":\"\",\"title\":{\"standoff\":15},\"zerolinecolor\":\"white\",\"zerolinewidth\":2}}},\"xaxis\":{\"anchor\":\"y\",\"domain\":[0.0,1.0],\"title\":{\"text\":\"x\"}},\"yaxis\":{\"anchor\":\"x\",\"domain\":[0.0,1.0],\"title\":{\"text\":\"y\"}},\"legend\":{\"tracegroupgap\":0},\"margin\":{\"t\":60},\"barmode\":\"relative\"},                        {\"responsive\": true}                    ).then(function(){\n",
       "                            \n",
       "var gd = document.getElementById('fc6e872d-d877-48d8-b679-f5c7bc70fac8');\n",
       "var x = new MutationObserver(function (mutations, observer) {{\n",
       "        var display = window.getComputedStyle(gd).display;\n",
       "        if (!display || display === 'none') {{\n",
       "            console.log([gd, 'removed!']);\n",
       "            Plotly.purge(gd);\n",
       "            observer.disconnect();\n",
       "        }}\n",
       "}});\n",
       "\n",
       "// Listen for the removal of the full notebook cells\n",
       "var notebookContainer = gd.closest('#notebook-container');\n",
       "if (notebookContainer) {{\n",
       "    x.observe(notebookContainer, {childList: true});\n",
       "}}\n",
       "\n",
       "// Listen for the clearing of the current output cell\n",
       "var outputEl = gd.closest('.output');\n",
       "if (outputEl) {{\n",
       "    x.observe(outputEl, {childList: true});\n",
       "}}\n",
       "\n",
       "                        })                };                });            </script>        </div>"
      ]
     },
     "metadata": {},
     "output_type": "display_data"
    }
   ],
   "source": [
    "import streamlit as st\n",
    "import plotly.express as px\n",
    "\n",
    "fig = px.bar(x=[\"a\", \"b\", \"c\"], y=[1, 3, 2])\n",
    "fig.show()\n",
    "\n",
    "# import plotly.graph_objects as go\n",
    "# fig_widget = go.FigureWidget(fig)\n",
    "# fig_widget"
   ]
  },
  {
   "cell_type": "code",
   "execution_count": null,
   "id": "718903da",
   "metadata": {},
   "outputs": [],
   "source": []
  },
  {
   "cell_type": "code",
   "execution_count": 3,
   "id": "f0f8c09d",
   "metadata": {},
   "outputs": [
    {
     "name": "stdout",
     "output_type": "stream",
     "text": [
      "Downloading model...\n",
      "Download complete.\n"
     ]
    }
   ],
   "source": [
    "# Sample code for loading large model (>50MB) from Google Drive\n",
    "# For streamlit webapp\n",
    "from pathlib import Path\n",
    "\n",
    "save_dest = Path('model')\n",
    "save_dest.mkdir(exist_ok=True)\n",
    "model = Path('model/model.hdf5')\n",
    "    # supposed to be Path('model/sentiment_model.hdf5')\n",
    "    # but triggering gdrive_downloader with non-existing name\n",
    "\n",
    "# If non-existent, download the model from google drive\n",
    "if not model.exists():\n",
    "    cloud_id = '1Nuc9NEX-CvGMe2w5TG_LrHTcipIWTIGs'\n",
    "        # extracted from full URL \"https://drive.google.com/file/d/1Nuc9NEX-CvGMe2w5TG_LrHTcipIWTIGs/view?usp=sharing\"\n",
    "    from gdrive_downloader import download_file_from_google_drive\n",
    "    \n",
    "    print(\"Downloading model...\")\n",
    "    download_file_from_google_drive(cloud_id, model)\n",
    "    print('Download complete.')"
   ]
  },
  {
   "cell_type": "code",
   "execution_count": 84,
   "id": "926e2915",
   "metadata": {},
   "outputs": [],
   "source": [
    "# Loading fitted neural network tokenizer + trained neural network\n",
    "from tensorflow.keras.models import load_model\n",
    "\n",
    "with open('tokenizer/cnn_tokenizer.pickle', 'rb') as handle:\n",
    "    tokenizer = pickle.load(handle)\n",
    "model = load_model(model)"
   ]
  },
  {
   "cell_type": "code",
   "execution_count": 107,
   "id": "14fe7f54",
   "metadata": {
    "scrolled": false
   },
   "outputs": [
    {
     "name": "stdout",
     "output_type": "stream",
     "text": [
      "71.05% POSITIVE\n",
      "28.95% NEGATIVE\n",
      "Conclusion: POSITIVE REVIEW\n"
     ]
    }
   ],
   "source": [
    "sample_text = 'this is an amazing movie! We look forward to watching the next prequel.'\n",
    "text_padded = pad_sequences(tokenizer.texts_to_sequences([sample_text]), 300)\n",
    "\n",
    "pred = model.predict(text_padded)[0][0]\n",
    "print(f'{round(pred*100,2)}% POSITIVE\\n{round((1-pred)*100,2)}% NEGATIVE')\n",
    "if pred > 0.5:\n",
    "    print('Conclusion: POSITIVE REVIEW')\n",
    "else:\n",
    "    print('Conclusion: NEGATIVE REVIEW')"
   ]
  },
  {
   "cell_type": "code",
   "execution_count": null,
   "id": "b981d639",
   "metadata": {},
   "outputs": [],
   "source": []
  },
  {
   "cell_type": "code",
   "execution_count": null,
   "id": "b51d954f",
   "metadata": {},
   "outputs": [],
   "source": []
  },
  {
   "cell_type": "code",
   "execution_count": null,
   "id": "3252aab7",
   "metadata": {},
   "outputs": [],
   "source": []
  },
  {
   "cell_type": "code",
   "execution_count": null,
   "id": "2b48070d",
   "metadata": {},
   "outputs": [],
   "source": []
  },
  {
   "cell_type": "code",
   "execution_count": null,
   "id": "b8796606",
   "metadata": {},
   "outputs": [],
   "source": []
  },
  {
   "cell_type": "code",
   "execution_count": null,
   "id": "6e39b10c",
   "metadata": {},
   "outputs": [],
   "source": []
  },
  {
   "cell_type": "code",
   "execution_count": 5,
   "id": "0cf49e16",
   "metadata": {},
   "outputs": [],
   "source": [
    "import transformers\n",
    "from transformers import pipeline\n",
    "\n",
    "classifier = pipeline(\"zero-shot-classification\", model=\"facebook/bart-large-mnli\")"
   ]
  },
  {
   "cell_type": "code",
   "execution_count": 6,
   "id": "c496b9a4",
   "metadata": {},
   "outputs": [],
   "source": [
    "def sentiment(text):\n",
    "    # Possible Sentiment Categories\n",
    "    # Send the labels and text to the classifier pipeline\n",
    "    candidate_labels = [\"positive\", \"neutral\", \"negative\"]\n",
    "    result = classifier(text, candidate_labels)\n",
    "\n",
    "    # Extract first label (predicted sentiment)\n",
    "    label = result['labels'][0]\n",
    "\n",
    "    if label == 'neutral':\n",
    "        return 'neutral'\n",
    "    elif label == 'positive':\n",
    "        return 'positive'\n",
    "    elif label == 'negative':\n",
    "        return 'negative'"
   ]
  },
  {
   "cell_type": "code",
   "execution_count": 29,
   "id": "461450bc",
   "metadata": {},
   "outputs": [
    {
     "name": "stdout",
     "output_type": "stream",
     "text": [
      "neutral\n",
      "positive\n",
      "negative\n"
     ]
    }
   ],
   "source": [
    "# Test\n",
    "print(sentiment('That movie was okay. There were some good moments and some bad.'))\n",
    "print(sentiment('That movies was good. The storyline unfolded wonderfully and the scenes were amazing.'))\n",
    "print(sentiment('It movie was bad. The plot made no sense at all and I could barely watch the horrible film style.'))"
   ]
  },
  {
   "cell_type": "code",
   "execution_count": 35,
   "id": "2036ea53",
   "metadata": {},
   "outputs": [
    {
     "name": "stdout",
     "output_type": "stream",
     "text": [
      "{'sequence': 'That movie was okay. There were some good moments and some bad.', 'labels': ['neutral', 'positive', 'negative'], 'scores': [0.5836620926856995, 0.3141263425350189, 0.10221154987812042]}\n"
     ]
    }
   ],
   "source": [
    "sample_text1 = 'That movie was okay. There were some good moments and some bad.'\n",
    "sample_text2 = 'That movies was good. The storyline unfolded wonderfully and the scenes were amazing.'\n",
    "sample_text3 = 'It movie was bad. The plot made no sense at all and I could barely watch the horrible film style.'\n",
    "\n",
    "candidate_labels = [\"positive\", \"neutral\", \"negative\"]\n",
    "result = classifier(sample_text, candidate_labels)\n",
    "print(result)"
   ]
  },
  {
   "cell_type": "code",
   "execution_count": 34,
   "id": "c08ee496",
   "metadata": {},
   "outputs": [
    {
     "name": "stdout",
     "output_type": "stream",
     "text": [
      "{'sequence': 'That movies was good. The storyline unfolded wonderfully and the scenes were amazing.', 'labels': ['positive', 'neutral', 'negative'], 'scores': [0.9779980182647705, 0.017225855961441994, 0.0047760759480297565]}\n"
     ]
    }
   ],
   "source": [
    "result = classifier(sample_text2, candidate_labels)\n",
    "print(result)"
   ]
  },
  {
   "cell_type": "code",
   "execution_count": 36,
   "id": "93aa518c",
   "metadata": {},
   "outputs": [
    {
     "name": "stdout",
     "output_type": "stream",
     "text": [
      "{'sequence': 'It movie was bad. The plot made no sense at all and I could barely watch the horrible film style.', 'labels': ['negative', 'neutral', 'positive'], 'scores': [0.9773865938186646, 0.018912961706519127, 0.0037004032637923956]}\n"
     ]
    }
   ],
   "source": [
    "result = classifier(sample_text3, candidate_labels)\n",
    "print(result)"
   ]
  },
  {
   "cell_type": "code",
   "execution_count": 2,
   "id": "9b08e8cb",
   "metadata": {},
   "outputs": [],
   "source": [
    "# Clean text method\n",
    "def cleaner(text):\n",
    "    \n",
    "    # Remove any HTML tags in-case\n",
    "    text = BeautifulSoup(text).get_text()\n",
    "    \n",
    "    # Type and lower-cased\n",
    "    text = str(text)\n",
    "    text = text.lower()\n",
    "    \n",
    "    # Replace \"n't\" with \" not\"\n",
    "        # Doesn’t, Isn’t, Wasn’t, Shouldn’t, Wouldn’t, Couldn’t, Won’t, Can’t, Don’t\n",
    "    text = re.sub(r\"won\\'t\", \"will not\", text)\n",
    "    text = re.sub(r\"can\\'t\", \"can not\", text)\n",
    "    text = re.sub(r\"n\\'t\", \" not\", text)\n",
    "    \n",
    "    # Join negatives \"not\" or \"no\" with next word\n",
    "    text = re.sub(\"not \", \" NOT\", text)\n",
    "    text = re.sub(\"no \", \" NO\", text)\n",
    "    \n",
    "    # Remove non-alphabets\n",
    "    text = re.sub(r\"[^A-Za-z0-9^,!?.\\/'+]\", \" \", text)\n",
    "    \n",
    "    # Extra cleaning beyond bs4\n",
    "    text = re.sub(r\"\\+\", \" plus \", text)\n",
    "    text = re.sub(r\",\", \" \", text)\n",
    "    text = re.sub(r\"\\.\", \" \", text)\n",
    "    text = re.sub(r\"!\", \" ! \", text)\n",
    "    text = re.sub(r\"\\?\", \" ? \", text)\n",
    "    text = re.sub(r\"'\", \" \", text)\n",
    "    text = re.sub(r\":\", \" : \", text)\n",
    "    text = re.sub(r\"\\s{2,}\", \" \", text)\n",
    "    \n",
    "    return text"
   ]
  },
  {
   "cell_type": "code",
   "execution_count": 3,
   "id": "10b69167",
   "metadata": {},
   "outputs": [
    {
     "data": {
      "text/plain": [
       "(50, 1)"
      ]
     },
     "execution_count": 3,
     "metadata": {},
     "output_type": "execute_result"
    }
   ],
   "source": [
    "df = pd.read_csv('../datasets/unsup_50000.csv')\n",
    "df_sample = df.sample(n=50, ignore_index=True)\n",
    "df_sample.shape"
   ]
  },
  {
   "cell_type": "code",
   "execution_count": 8,
   "id": "26f0c309",
   "metadata": {},
   "outputs": [
    {
     "name": "stderr",
     "output_type": "stream",
     "text": [
      "100%|██████████████████████████████████████████| 50/50 [00:00<00:00, 618.92it/s]\n",
      "100%|███████████████████████████████████████████| 50/50 [01:08<00:00,  1.38s/it]\n"
     ]
    },
    {
     "data": {
      "text/html": [
       "<div>\n",
       "<style scoped>\n",
       "    .dataframe tbody tr th:only-of-type {\n",
       "        vertical-align: middle;\n",
       "    }\n",
       "\n",
       "    .dataframe tbody tr th {\n",
       "        vertical-align: top;\n",
       "    }\n",
       "\n",
       "    .dataframe thead th {\n",
       "        text-align: right;\n",
       "    }\n",
       "</style>\n",
       "<table border=\"1\" class=\"dataframe\">\n",
       "  <thead>\n",
       "    <tr style=\"text-align: right;\">\n",
       "      <th></th>\n",
       "      <th>text</th>\n",
       "      <th>prediction</th>\n",
       "    </tr>\n",
       "  </thead>\n",
       "  <tbody>\n",
       "    <tr>\n",
       "      <th>0</th>\n",
       "      <td>was that it ? linda mccartney was one of the b...</td>\n",
       "      <td>negative</td>\n",
       "    </tr>\n",
       "    <tr>\n",
       "      <th>1</th>\n",
       "      <td>i am second guessing myself over my 1 rating b...</td>\n",
       "      <td>negative</td>\n",
       "    </tr>\n",
       "    <tr>\n",
       "      <th>2</th>\n",
       "      <td>i do notnormally watch regular tv most of it t...</td>\n",
       "      <td>positive</td>\n",
       "    </tr>\n",
       "    <tr>\n",
       "      <th>3</th>\n",
       "      <td>normally the sight of carriages and bonnets on...</td>\n",
       "      <td>positive</td>\n",
       "    </tr>\n",
       "    <tr>\n",
       "      <th>4</th>\n",
       "      <td>it is neat to share in holmes american adventu...</td>\n",
       "      <td>positive</td>\n",
       "    </tr>\n",
       "  </tbody>\n",
       "</table>\n",
       "</div>"
      ],
      "text/plain": [
       "                                                text prediction\n",
       "0  was that it ? linda mccartney was one of the b...   negative\n",
       "1  i am second guessing myself over my 1 rating b...   negative\n",
       "2  i do notnormally watch regular tv most of it t...   positive\n",
       "3  normally the sight of carriages and bonnets on...   positive\n",
       "4  it is neat to share in holmes american adventu...   positive"
      ]
     },
     "execution_count": 8,
     "metadata": {},
     "output_type": "execute_result"
    }
   ],
   "source": [
    "from tqdm import tqdm\n",
    "tqdm.pandas()\n",
    "\n",
    "df_sample['text'] = df_sample.text.progress_apply(cleaner)\n",
    "df_sample['prediction'] = df_sample.text.progress_apply(sentiment)\n",
    "df_sample.head()"
   ]
  },
  {
   "cell_type": "code",
   "execution_count": 9,
   "id": "cfd34dec",
   "metadata": {
    "scrolled": true
   },
   "outputs": [
    {
     "data": {
      "text/plain": [
       "negative    34\n",
       "positive    16\n",
       "Name: prediction, dtype: int64"
      ]
     },
     "execution_count": 9,
     "metadata": {},
     "output_type": "execute_result"
    }
   ],
   "source": [
    "df_sample['prediction'].value_counts()"
   ]
  },
  {
   "cell_type": "code",
   "execution_count": 10,
   "id": "9419b4d3",
   "metadata": {},
   "outputs": [
    {
     "data": {
      "text/plain": [
       "negative    34\n",
       "positive    16\n",
       "Name: prediction, dtype: int64"
      ]
     },
     "execution_count": 10,
     "metadata": {},
     "output_type": "execute_result"
    }
   ],
   "source": [
    "df_ordered = df_sample['prediction'].value_counts()\n",
    "df_ordered"
   ]
  },
  {
   "cell_type": "code",
   "execution_count": 11,
   "id": "5bef92ca",
   "metadata": {},
   "outputs": [
    {
     "data": {
      "text/plain": [
       "['negative', 'positive']"
      ]
     },
     "execution_count": 11,
     "metadata": {},
     "output_type": "execute_result"
    }
   ],
   "source": [
    "list(df_ordered.index)"
   ]
  },
  {
   "cell_type": "code",
   "execution_count": 12,
   "id": "d738694e",
   "metadata": {},
   "outputs": [
    {
     "data": {
      "text/plain": [
       "[34, 16]"
      ]
     },
     "execution_count": 12,
     "metadata": {},
     "output_type": "execute_result"
    }
   ],
   "source": [
    "list(df_ordered)"
   ]
  },
  {
   "cell_type": "code",
   "execution_count": 93,
   "id": "4408653f",
   "metadata": {},
   "outputs": [
    {
     "data": {
      "text/plain": [
       "[0.56, 0.44]"
      ]
     },
     "execution_count": 93,
     "metadata": {},
     "output_type": "execute_result"
    }
   ],
   "source": [
    "ratios = list(df_sample['prediction'].value_counts(normalize=True))\n",
    "ratios"
   ]
  },
  {
   "cell_type": "code",
   "execution_count": 82,
   "id": "7239aa0f",
   "metadata": {},
   "outputs": [
    {
     "name": "stdout",
     "output_type": "stream",
     "text": [
      "['negative', 'positive']\n"
     ]
    }
   ],
   "source": [
    "print(list(df_ordered.index))"
   ]
  },
  {
   "cell_type": "code",
   "execution_count": 86,
   "id": "050ddb14",
   "metadata": {},
   "outputs": [
    {
     "ename": "ModuleNotFoundError",
     "evalue": "No module named 'stqdm'",
     "output_type": "error",
     "traceback": [
      "\u001b[0;31m---------------------------------------------------------------------------\u001b[0m",
      "\u001b[0;31mModuleNotFoundError\u001b[0m                       Traceback (most recent call last)",
      "\u001b[0;32m/tmp/ipykernel_16463/1621804334.py\u001b[0m in \u001b[0;36m<module>\u001b[0;34m\u001b[0m\n\u001b[0;32m----> 1\u001b[0;31m \u001b[0;32mfrom\u001b[0m \u001b[0mstqdm\u001b[0m \u001b[0;32mimport\u001b[0m \u001b[0mstqdm\u001b[0m\u001b[0;34m\u001b[0m\u001b[0;34m\u001b[0m\u001b[0m\n\u001b[0m",
      "\u001b[0;31mModuleNotFoundError\u001b[0m: No module named 'stqdm'"
     ]
    }
   ],
   "source": [
    "from stqdm import stqdm"
   ]
  },
  {
   "cell_type": "code",
   "execution_count": 89,
   "id": "8c022777",
   "metadata": {},
   "outputs": [],
   "source": [
    "freq = list(df_ordered.prediction)\n",
    "ratios = [n/sum(freq) for n in freq]"
   ]
  },
  {
   "cell_type": "code",
   "execution_count": 90,
   "id": "14062d0a",
   "metadata": {},
   "outputs": [
    {
     "data": {
      "text/plain": [
       "[0.56, 0.44]"
      ]
     },
     "execution_count": 90,
     "metadata": {},
     "output_type": "execute_result"
    }
   ],
   "source": [
    "ratios"
   ]
  },
  {
   "cell_type": "code",
   "execution_count": 84,
   "id": "904bb26b",
   "metadata": {},
   "outputs": [
    {
     "name": "stdout",
     "output_type": "stream",
     "text": [
      "[28, 22]\n"
     ]
    }
   ],
   "source": [
    "print(list(df_ordered.prediction))"
   ]
  },
  {
   "cell_type": "code",
   "execution_count": null,
   "id": "e4b1a2cd",
   "metadata": {},
   "outputs": [],
   "source": []
  },
  {
   "cell_type": "code",
   "execution_count": null,
   "id": "2dec0b5f",
   "metadata": {},
   "outputs": [],
   "source": []
  },
  {
   "cell_type": "code",
   "execution_count": null,
   "id": "0939d838",
   "metadata": {},
   "outputs": [],
   "source": []
  },
  {
   "cell_type": "code",
   "execution_count": 140,
   "id": "89871160",
   "metadata": {},
   "outputs": [],
   "source": [
    "import transformers\n",
    "from transformers import pipeline, AutoModelForSequenceClassification, AutoTokenizer\n",
    "\n",
    "model = AutoModelForSequenceClassification.from_pretrained(\"cardiffnlp/twitter-roberta-base-sentiment\")\n",
    "tokenizer = AutoTokenizer.from_pretrained(\"cardiffnlp/twitter-roberta-base-sentiment\")\n",
    "classifier = pipeline(\"sentiment-analysis\", model=model, tokenizer=tokenizer)"
   ]
  },
  {
   "cell_type": "code",
   "execution_count": 141,
   "id": "8bafd0e1",
   "metadata": {},
   "outputs": [],
   "source": [
    "def sentiment(text):\n",
    "    # Possible Sentiment Categories\n",
    "    # Send the labels and text to the classifier pipeline\n",
    "    result = classifier(text)\n",
    "\n",
    "    # Extract first label (predicted sentiment)\n",
    "    label = result[0]['label']\n",
    "    \n",
    "    return label"
   ]
  },
  {
   "cell_type": "code",
   "execution_count": 142,
   "id": "52620c58",
   "metadata": {},
   "outputs": [
    {
     "name": "stdout",
     "output_type": "stream",
     "text": [
      "LABEL_2\n",
      "LABEL_2\n",
      "LABEL_0\n"
     ]
    }
   ],
   "source": [
    "# Test\n",
    "print(sentiment('That movie was okay. There were some good moments and some bad.'))\n",
    "print(sentiment('That movies was good. The storyline unfolded wonderfully and the scenes were amazing.'))\n",
    "print(sentiment('It movie was bad. The plot made no sense at all and I could barely watch the horrible film style.'))"
   ]
  },
  {
   "cell_type": "code",
   "execution_count": 143,
   "id": "4814df32",
   "metadata": {},
   "outputs": [
    {
     "name": "stdout",
     "output_type": "stream",
     "text": [
      "LABEL_2\n"
     ]
    }
   ],
   "source": [
    "print(sentiment('amazing'))"
   ]
  },
  {
   "cell_type": "code",
   "execution_count": 144,
   "id": "86163e1c",
   "metadata": {},
   "outputs": [
    {
     "name": "stdout",
     "output_type": "stream",
     "text": [
      "[{'label': 'LABEL_2', 'score': 0.44948989152908325}]\n"
     ]
    }
   ],
   "source": [
    "sample_text1 = 'That movie was okay. There were some bad moments.'\n",
    "sample_text2 = 'That movies was good. The storyline unfolded wonderfully and the scenes were amazing.'\n",
    "sample_text3 = 'It movie was bad. The plot made no sense at all and I could barely watch the horrible film style.'\n",
    "\n",
    "result = classifier(sample_text1)\n",
    "print(result)"
   ]
  },
  {
   "cell_type": "code",
   "execution_count": 145,
   "id": "7f435edb",
   "metadata": {},
   "outputs": [
    {
     "name": "stdout",
     "output_type": "stream",
     "text": [
      "[{'label': 'LABEL_2', 'score': 0.9891078472137451}]\n"
     ]
    }
   ],
   "source": [
    "candidate_labels = ['positive', 'neutral', 'negative']\n",
    "result = classifier(sample_text2)\n",
    "print(result)"
   ]
  },
  {
   "cell_type": "code",
   "execution_count": 146,
   "id": "938673a5",
   "metadata": {
    "scrolled": true
   },
   "outputs": [
    {
     "name": "stdout",
     "output_type": "stream",
     "text": [
      "[{'label': 'LABEL_0', 'score': 0.9815170168876648}]\n"
     ]
    }
   ],
   "source": [
    "result = classifier(sample_text3)\n",
    "print(result)"
   ]
  },
  {
   "cell_type": "code",
   "execution_count": null,
   "id": "abea14d3",
   "metadata": {},
   "outputs": [],
   "source": []
  },
  {
   "cell_type": "code",
   "execution_count": null,
   "id": "2756b679",
   "metadata": {},
   "outputs": [],
   "source": []
  },
  {
   "cell_type": "code",
   "execution_count": 17,
   "id": "b5b02d50",
   "metadata": {},
   "outputs": [],
   "source": [
    "cols = pd.DataFrame({\"name\":[\"a\", \"b\", \"c\", \"d\"],\n",
    "                   \"value\":[100,20,30,40],\n",
    "                   \"output\":[\"YES\", \"NO\", \"BORDERLINE\", \"NO\"]})"
   ]
  },
  {
   "cell_type": "code",
   "execution_count": 18,
   "id": "0243ae9f",
   "metadata": {},
   "outputs": [
    {
     "data": {
      "text/html": [
       "<div>\n",
       "<style scoped>\n",
       "    .dataframe tbody tr th:only-of-type {\n",
       "        vertical-align: middle;\n",
       "    }\n",
       "\n",
       "    .dataframe tbody tr th {\n",
       "        vertical-align: top;\n",
       "    }\n",
       "\n",
       "    .dataframe thead th {\n",
       "        text-align: right;\n",
       "    }\n",
       "</style>\n",
       "<table border=\"1\" class=\"dataframe\">\n",
       "  <thead>\n",
       "    <tr style=\"text-align: right;\">\n",
       "      <th></th>\n",
       "      <th>name</th>\n",
       "      <th>value</th>\n",
       "      <th>output</th>\n",
       "    </tr>\n",
       "  </thead>\n",
       "  <tbody>\n",
       "    <tr>\n",
       "      <th>0</th>\n",
       "      <td>a</td>\n",
       "      <td>100</td>\n",
       "      <td>YES</td>\n",
       "    </tr>\n",
       "    <tr>\n",
       "      <th>1</th>\n",
       "      <td>b</td>\n",
       "      <td>20</td>\n",
       "      <td>NO</td>\n",
       "    </tr>\n",
       "    <tr>\n",
       "      <th>2</th>\n",
       "      <td>c</td>\n",
       "      <td>30</td>\n",
       "      <td>BORDERLINE</td>\n",
       "    </tr>\n",
       "    <tr>\n",
       "      <th>3</th>\n",
       "      <td>d</td>\n",
       "      <td>40</td>\n",
       "      <td>NO</td>\n",
       "    </tr>\n",
       "  </tbody>\n",
       "</table>\n",
       "</div>"
      ],
      "text/plain": [
       "  name  value      output\n",
       "0    a    100         YES\n",
       "1    b     20          NO\n",
       "2    c     30  BORDERLINE\n",
       "3    d     40          NO"
      ]
     },
     "execution_count": 18,
     "metadata": {},
     "output_type": "execute_result"
    }
   ],
   "source": [
    "cols.head()"
   ]
  },
  {
   "cell_type": "code",
   "execution_count": 19,
   "id": "9d83726a",
   "metadata": {},
   "outputs": [
    {
     "data": {
      "text/html": [
       "<div>\n",
       "<style scoped>\n",
       "    .dataframe tbody tr th:only-of-type {\n",
       "        vertical-align: middle;\n",
       "    }\n",
       "\n",
       "    .dataframe tbody tr th {\n",
       "        vertical-align: top;\n",
       "    }\n",
       "\n",
       "    .dataframe thead th {\n",
       "        text-align: right;\n",
       "    }\n",
       "</style>\n",
       "<table border=\"1\" class=\"dataframe\">\n",
       "  <thead>\n",
       "    <tr style=\"text-align: right;\">\n",
       "      <th></th>\n",
       "      <th>name</th>\n",
       "      <th>value</th>\n",
       "      <th>output</th>\n",
       "      <th>color</th>\n",
       "    </tr>\n",
       "  </thead>\n",
       "  <tbody>\n",
       "    <tr>\n",
       "      <th>0</th>\n",
       "      <td>a</td>\n",
       "      <td>100</td>\n",
       "      <td>YES</td>\n",
       "      <td>cyan</td>\n",
       "    </tr>\n",
       "    <tr>\n",
       "      <th>1</th>\n",
       "      <td>b</td>\n",
       "      <td>20</td>\n",
       "      <td>NO</td>\n",
       "      <td>pink</td>\n",
       "    </tr>\n",
       "    <tr>\n",
       "      <th>2</th>\n",
       "      <td>c</td>\n",
       "      <td>30</td>\n",
       "      <td>BORDERLINE</td>\n",
       "      <td>yellow</td>\n",
       "    </tr>\n",
       "    <tr>\n",
       "      <th>3</th>\n",
       "      <td>d</td>\n",
       "      <td>40</td>\n",
       "      <td>NO</td>\n",
       "      <td>pink</td>\n",
       "    </tr>\n",
       "  </tbody>\n",
       "</table>\n",
       "</div>"
      ],
      "text/plain": [
       "  name  value      output   color\n",
       "0    a    100         YES    cyan\n",
       "1    b     20          NO    pink\n",
       "2    c     30  BORDERLINE  yellow\n",
       "3    d     40          NO    pink"
      ]
     },
     "execution_count": 19,
     "metadata": {},
     "output_type": "execute_result"
    }
   ],
   "source": [
    "map_color = {\"YES\":\"cyan\", \"NO\":\"pink\", \"BORDERLINE\":\"yellow\"}\n",
    "cols[\"color\"] = \n",
    "cols.head()"
   ]
  },
  {
   "cell_type": "code",
   "execution_count": 27,
   "id": "74dd1992",
   "metadata": {},
   "outputs": [
    {
     "data": {
      "text/plain": [
       "4"
      ]
     },
     "execution_count": 27,
     "metadata": {},
     "output_type": "execute_result"
    }
   ],
   "source": [
    "len(cols.columns)"
   ]
  },
  {
   "cell_type": "code",
   "execution_count": 25,
   "id": "7e5e9d24",
   "metadata": {},
   "outputs": [
    {
     "data": {
      "text/plain": [
       "['cyan', 'pink', 'yellow', 'pink']"
      ]
     },
     "execution_count": 25,
     "metadata": {},
     "output_type": "execute_result"
    }
   ],
   "source": [
    "list(cols[\"output\"].map(map_color))"
   ]
  },
  {
   "cell_type": "code",
   "execution_count": 23,
   "id": "4d3f56fb",
   "metadata": {},
   "outputs": [
    {
     "data": {
      "text/plain": [
       "[['#e6f2fd', '#e6f2fd', '#e6f2fd', '#e6f2fd'],\n",
       " ['#e6f2fd', '#e6f2fd', '#e6f2fd', '#e6f2fd'],\n",
       " ['cyan', 'pink', 'yellow', 'pink']]"
      ]
     },
     "execution_count": 23,
     "metadata": {},
     "output_type": "execute_result"
    }
   ],
   "source": [
    "cols_to_show = ['name','value','output']\n",
    "fill_color = []\n",
    "n = len(cols)\n",
    "\n",
    "for col in cols_to_show:\n",
    "    if col!='output':\n",
    "        fill_color.append(['#e6f2fd']*n) # maybe try 'lavender'\n",
    "    else:\n",
    "        fill_color.append(cols[\"color\"].to_list())\n",
    "        \n",
    "fill_color     "
   ]
  },
  {
   "cell_type": "code",
   "execution_count": 35,
   "id": "4ff573fa",
   "metadata": {},
   "outputs": [
    {
     "data": {
      "text/html": [
       "<div>\n",
       "<style scoped>\n",
       "    .dataframe tbody tr th:only-of-type {\n",
       "        vertical-align: middle;\n",
       "    }\n",
       "\n",
       "    .dataframe tbody tr th {\n",
       "        vertical-align: top;\n",
       "    }\n",
       "\n",
       "    .dataframe thead th {\n",
       "        text-align: right;\n",
       "    }\n",
       "</style>\n",
       "<table border=\"1\" class=\"dataframe\">\n",
       "  <thead>\n",
       "    <tr style=\"text-align: right;\">\n",
       "      <th></th>\n",
       "      <th>text</th>\n",
       "    </tr>\n",
       "  </thead>\n",
       "  <tbody>\n",
       "    <tr>\n",
       "      <th>0</th>\n",
       "      <td>This movie is an entirely forgettable low-budg...</td>\n",
       "    </tr>\n",
       "    <tr>\n",
       "      <th>1</th>\n",
       "      <td>This is absolutely my favorite film of Robert ...</td>\n",
       "    </tr>\n",
       "    <tr>\n",
       "      <th>2</th>\n",
       "      <td>This is just awful! Having seen the \"original\"...</td>\n",
       "    </tr>\n",
       "    <tr>\n",
       "      <th>3</th>\n",
       "      <td>This story was so unbelievably corny, this is ...</td>\n",
       "    </tr>\n",
       "    <tr>\n",
       "      <th>4</th>\n",
       "      <td>\"City of Men\" is a feature film version of a b...</td>\n",
       "    </tr>\n",
       "    <tr>\n",
       "      <th>...</th>\n",
       "      <td>...</td>\n",
       "    </tr>\n",
       "    <tr>\n",
       "      <th>34995</th>\n",
       "      <td>I absolutely loved this sequel to \"Ringu\". In ...</td>\n",
       "    </tr>\n",
       "    <tr>\n",
       "      <th>34996</th>\n",
       "      <td>Great movie and easily Dennis Quaid's best wor...</td>\n",
       "    </tr>\n",
       "    <tr>\n",
       "      <th>34997</th>\n",
       "      <td>I paid to see this dog in an actual movie thea...</td>\n",
       "    </tr>\n",
       "    <tr>\n",
       "      <th>34998</th>\n",
       "      <td>Yeah. \"The Pod People\" is a movie that is so e...</td>\n",
       "    </tr>\n",
       "    <tr>\n",
       "      <th>34999</th>\n",
       "      <td>Now I'm really glad that New Line is coming ou...</td>\n",
       "    </tr>\n",
       "  </tbody>\n",
       "</table>\n",
       "<p>35000 rows × 1 columns</p>\n",
       "</div>"
      ],
      "text/plain": [
       "                                                    text\n",
       "0      This movie is an entirely forgettable low-budg...\n",
       "1      This is absolutely my favorite film of Robert ...\n",
       "2      This is just awful! Having seen the \"original\"...\n",
       "3      This story was so unbelievably corny, this is ...\n",
       "4      \"City of Men\" is a feature film version of a b...\n",
       "...                                                  ...\n",
       "34995  I absolutely loved this sequel to \"Ringu\". In ...\n",
       "34996  Great movie and easily Dennis Quaid's best wor...\n",
       "34997  I paid to see this dog in an actual movie thea...\n",
       "34998  Yeah. \"The Pod People\" is a movie that is so e...\n",
       "34999  Now I'm really glad that New Line is coming ou...\n",
       "\n",
       "[35000 rows x 1 columns]"
      ]
     },
     "execution_count": 35,
     "metadata": {},
     "output_type": "execute_result"
    }
   ],
   "source": [
    "unsup = pd.read_csv('../datasets/unsup_50000.csv')\n",
    "\n",
    "unsup_reduced = unsup.sample(35000, ignore_index=True)\n",
    "unsup_reduced"
   ]
  },
  {
   "cell_type": "code",
   "execution_count": 36,
   "id": "54aeafbc",
   "metadata": {},
   "outputs": [],
   "source": [
    "unsup_reduced.to_csv('../datasets/movie_review_sample.csv', index=False)\n"
   ]
  }
 ],
 "metadata": {
  "kernelspec": {
   "display_name": "Python 3 (ipykernel)",
   "language": "python",
   "name": "python3"
  },
  "language_info": {
   "codemirror_mode": {
    "name": "ipython",
    "version": 3
   },
   "file_extension": ".py",
   "mimetype": "text/x-python",
   "name": "python",
   "nbconvert_exporter": "python",
   "pygments_lexer": "ipython3",
   "version": "3.9.7"
  }
 },
 "nbformat": 4,
 "nbformat_minor": 5
}
