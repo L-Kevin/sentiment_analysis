{
 "cells": [
  {
   "cell_type": "markdown",
   "id": "044b5d38",
   "metadata": {},
   "source": [
    "# EXPLORATORY DATA ANALYSIS & MODELING\n",
    "Taking a quick look at the top 30 words per subreddit, it can be recognized that there are many common words between both subreddits. There are also some URL element (ie. 'www' , 'https',...) that are captured. Therefore, the text was cleaned up:\n",
    "- all lower-cased\n",
    "- omitting URL elements,\n",
    "- omitting non-letters \n",
    "\n",
    "Stop words were not removed during cleaning for the sake of tuning while training models. Instead, a custom stop word list was created by combining the standing English list with all commonly shared words between both subreddits within the top 30. This gave 3 options of stop word treatment:\n",
    "1. No removal of stop words\n",
    "2. Removal of standard library \"English\" stop words\n",
    "3. Removal of custom stop words (\"English\" + commonly shared words)\n",
    "\n",
    "In order to select the best models for hyperparameter tuning, the cross validation scores all combinations of *Count and TF-IDF Vectorization* and the following models were compared:\n",
    "- Logistic Regression\n",
    "- KNN\n",
    "- BernoulliNB\n",
    "- MultinomialNB\n",
    "- Random Forest Classifier\n",
    "- SVC (Support Vector Classifier)\n",
    "- AdaBoost Classifer\n",
    "\n",
    "The top models considered for tuning were:\n",
    "1. Logistic Regression\n",
    "2. Random Forest Classifier\n",
    "3. SVC\n",
    "4. AdaBoost Classifier\n",
    "\n",
    "**Through tuning, the best 2 models are:**\n",
    "1. **AdaBoost Classifier with Count Vectorization (lowest variance)**\n",
    "2. **SVC with TF-IDF Vectorization (highest ROC_AUC score + lowest bias)**\n",
    "\n",
    "As for feature importance, each model had different sets of features due to the having different stop word treatments.\n",
    "- AdaBoost + Count used the standard 'English' stop words\n",
    "- SVC+TF-IDF used the custom stop words (the extended version of 'English' list including commonly shared words between both subreddits) \n",
    "\n",
    "1. (AdaBoost + Count) Approximately the top 4000 features were two word combinations that consisted of game/games/gaming + another word. \n",
    "    - Exceptions: \"youtube damn\" & \"cores radeon\"\n",
    "\n",
    "\n",
    "2. (SVC + TF-IDF) Had very distinct single words that had the highest (& lowest) coefficients towards predicting if the post was from r/pcgaming.\n",
    "    - Examples: pc, windows, laptop, xbox, playstation/ps, console/consoles\n",
    "  \n",
    "  \n",
    "**Conclusion:**\n",
    "<br>The two models selected mentioned would be the best models to utilize towards predicting whether a post is from r/pcgaming or r/consoles.\n",
    "<br>**Despite having more variance, I personally would go for the SCV+TF-IDF model as it exhibits strong separability performance with the highest level of training and test accuracy.**\n",
    "\n",
    "**Recommendation:**\n",
    "1. Include lemmatization/stemming in the tuning process\n",
    "    - Potentially better scores may exist and the feature importances could narrow down\n",
    "2. Implement image processing due to many posts being image-only\n",
    "3. Re-conduct the analysis when the r/consoles community has expanded to have a minimum of 10000 posts\n",
    "    - Due to imblanced samples from each subreddit (more r/pcgaming vs. r/consoles)"
   ]
  },
  {
   "cell_type": "markdown",
   "id": "92b0d11e",
   "metadata": {},
   "source": [
    "## 1. EDA"
   ]
  },
  {
   "cell_type": "code",
   "execution_count": 32,
   "id": "504d6a26",
   "metadata": {},
   "outputs": [],
   "source": [
    "# Imports\n",
    "\n",
    "# Standard imports\n",
    "import numpy as np, pandas as pd, matplotlib.pyplot as plt, seaborn as sns\n",
    "import re\n",
    "\n",
    "# Natural Language Processing\n",
    "from bs4 import BeautifulSoup\n",
    "from nltk.stem import WordNetLemmatizer, PorterStemmer\n",
    "from nltk.corpus import stopwords\n",
    "from sklearn.feature_extraction.text import CountVectorizer, TfidfVectorizer\n",
    "\n",
    "# Warnings Ignored\n",
    "import warnings\n",
    "warnings.filterwarnings('ignore')"
   ]
  },
  {
   "cell_type": "code",
   "execution_count": 33,
   "id": "f1eafd61",
   "metadata": {},
   "outputs": [],
   "source": [
    "# Clean data read\n",
    "df = pd.read_csv('../data/submissions_clean.csv')"
   ]
  },
  {
   "cell_type": "markdown",
   "id": "678a33a6",
   "metadata": {},
   "source": [
    "### Most common words in Console Gaming\n",
    "- Looking at top 30 for now without cleaning"
   ]
  },
  {
   "cell_type": "code",
   "execution_count": 34,
   "id": "4b2881c0",
   "metadata": {},
   "outputs": [],
   "source": [
    "# Count vectorizer instantiated\n",
    "cvec = CountVectorizer(stop_words='english', max_features=30)\n",
    "\n",
    "## max_features=30 to only review the top 30"
   ]
  },
  {
   "cell_type": "markdown",
   "id": "133ba22c",
   "metadata": {},
   "source": [
    "**CONSOLE GAMING**"
   ]
  },
  {
   "cell_type": "code",
   "execution_count": 35,
   "id": "d5c22746",
   "metadata": {},
   "outputs": [
    {
     "data": {
      "text/plain": [
       "xbox        3107\n",
       "games       2677\n",
       "console     2439\n",
       "ps4         1935\n",
       "game        1896\n",
       "like        1379\n",
       "play        1242\n",
       "just        1196\n",
       "consoles    1181\n",
       "ps5         1019\n",
       "switch      1006\n",
       "new          931\n",
       "series       902\n",
       "buy          894\n",
       "pc           864\n",
       "know         799\n",
       "gaming       789\n",
       "want         758\n",
       "ve           736\n",
       "nintendo     731\n",
       "don          728\n",
       "really       704\n",
       "time         663\n",
       "com          589\n",
       "amp          575\n",
       "better       558\n",
       "think        552\n",
       "https        538\n",
       "best         532\n",
       "looking      523\n",
       "dtype: int64"
      ]
     },
     "execution_count": 35,
     "metadata": {},
     "output_type": "execute_result"
    }
   ],
   "source": [
    "# Console gaming data extracted\n",
    "cons_text = df[df['subreddit']==0]['text']\n",
    "\n",
    "# Count stored into DataFrame for analysis\n",
    "cons_count = pd.DataFrame(cvec.fit_transform(cons_text).toarray(),\n",
    "                          columns = cvec.get_feature_names())\n",
    "\n",
    "# Top 20 words and frequencies\n",
    "cons_count.sum().sort_values(ascending=False)"
   ]
  },
  {
   "cell_type": "markdown",
   "id": "62ce85dd",
   "metadata": {},
   "source": [
    "**PC GAMING**"
   ]
  },
  {
   "cell_type": "code",
   "execution_count": 36,
   "id": "68930857",
   "metadata": {},
   "outputs": [
    {
     "data": {
      "text/plain": [
       "pc         2344\n",
       "game       2200\n",
       "games      1758\n",
       "gaming      961\n",
       "steam       785\n",
       "new         782\n",
       "just        724\n",
       "like        700\n",
       "help        698\n",
       "https       682\n",
       "play        669\n",
       "good        577\n",
       "com         543\n",
       "amp         450\n",
       "need        448\n",
       "know        403\n",
       "looking     378\n",
       "trailer     374\n",
       "time        361\n",
       "www         355\n",
       "2021        346\n",
       "don         330\n",
       "want        326\n",
       "free        308\n",
       "best        307\n",
       "ve          290\n",
       "playing     287\n",
       "xbox        278\n",
       "people      269\n",
       "buy         264\n",
       "dtype: int64"
      ]
     },
     "execution_count": 36,
     "metadata": {},
     "output_type": "execute_result"
    }
   ],
   "source": [
    "# PC gaming data extracted\n",
    "pc_text = df[df['subreddit']==1]['text']\n",
    "\n",
    "# Count stored into DataFrame for analysis\n",
    "pc_count = pd.DataFrame(cvec.fit_transform(pc_text).toarray(),\n",
    "                          columns = cvec.get_feature_names())\n",
    "\n",
    "# Top 20 words and frequencies\n",
    "pc_count.sum().sort_values(ascending=False)"
   ]
  },
  {
   "cell_type": "code",
   "execution_count": 37,
   "id": "fbe4d9f3",
   "metadata": {},
   "outputs": [
    {
     "name": "stdout",
     "output_type": "stream",
     "text": [
      "amp\n",
      "best\n",
      "buy\n",
      "com\n",
      "don\n",
      "game\n",
      "games\n",
      "gaming\n",
      "https\n",
      "just\n",
      "know\n",
      "like\n",
      "looking\n",
      "new\n",
      "pc\n",
      "play\n",
      "time\n",
      "ve\n",
      "want\n",
      "xbox\n"
     ]
    }
   ],
   "source": [
    "# Commonly shared words\n",
    "for i in pc_count.columns:\n",
    "    if i in cons_count.columns:\n",
    "        print(i)"
   ]
  },
  {
   "cell_type": "markdown",
   "id": "afb6b1d6",
   "metadata": {},
   "source": [
    "**Both subreddits share many common words that can be omitted as a stop word, but will be kept for ngram observations:**\n",
    "- pc\n",
    "- xbox\n",
    "- just\n",
    "- like\n",
    "- know\n",
    "- new\n",
    "- play\n",
    "- best\n",
    "- buy\n",
    "- don\n",
    "- game\n",
    "- games\n",
    "- gaming\n",
    "- looking\n",
    "- time\n",
    "- ve\n",
    "- want\n",
    "\n",
    "**Also, elements of URLs are considered top words in PC Gaming, which can also be omitted as stop words:**\n",
    "- https\n",
    "- com\n",
    "- www\n",
    "- amp"
   ]
  },
  {
   "cell_type": "markdown",
   "id": "c95f6907",
   "metadata": {},
   "source": [
    "### CLEANING TEXT"
   ]
  },
  {
   "cell_type": "code",
   "execution_count": 38,
   "id": "c6f9551e",
   "metadata": {},
   "outputs": [],
   "source": [
    "# Text cleaning method defined\n",
    "\n",
    "def clean(text):\n",
    "    \n",
    "    # Remove any HTML tags in-case\n",
    "    text = BeautifulSoup(text).get_text()\n",
    "    \n",
    "    # Remove non-letters\n",
    "    text = re.sub(\"[^a-zA-Z]\", \" \", text)\n",
    "    \n",
    "    # Convert to lower case, split into individual words\n",
    "    words = text.lower().split()\n",
    "    \n",
    "    # Removed URL elements observed\n",
    "    # (will only remove stop words during vectorization)\n",
    "    url_elements = ['https', 'http', 'www', 'reddit', 'com',\n",
    "                  'comment']\n",
    "    main_words = [w for w in words if w not in url_elements]\n",
    "\n",
    "    # Return single string\n",
    "    return(\" \".join(main_words))"
   ]
  },
  {
   "cell_type": "code",
   "execution_count": 39,
   "id": "0fca1538",
   "metadata": {},
   "outputs": [],
   "source": [
    "# Applied text cleaning method\n",
    "df['text'] = df['text'].apply(clean)"
   ]
  },
  {
   "cell_type": "code",
   "execution_count": 40,
   "id": "278e1cc4",
   "metadata": {},
   "outputs": [
    {
     "data": {
      "text/html": [
       "<div>\n",
       "<style scoped>\n",
       "    .dataframe tbody tr th:only-of-type {\n",
       "        vertical-align: middle;\n",
       "    }\n",
       "\n",
       "    .dataframe tbody tr th {\n",
       "        vertical-align: top;\n",
       "    }\n",
       "\n",
       "    .dataframe thead th {\n",
       "        text-align: right;\n",
       "    }\n",
       "</style>\n",
       "<table border=\"1\" class=\"dataframe\">\n",
       "  <thead>\n",
       "    <tr style=\"text-align: right;\">\n",
       "      <th></th>\n",
       "      <th>subreddit</th>\n",
       "      <th>text</th>\n",
       "    </tr>\n",
       "  </thead>\n",
       "  <tbody>\n",
       "    <tr>\n",
       "      <th>0</th>\n",
       "      <td>1</td>\n",
       "      <td>cat loves to jump on my pc</td>\n",
       "    </tr>\n",
       "    <tr>\n",
       "      <th>1</th>\n",
       "      <td>1</td>\n",
       "      <td>need help with hacked epic account</td>\n",
       "    </tr>\n",
       "    <tr>\n",
       "      <th>2</th>\n",
       "      <td>1</td>\n",
       "      <td>auto hdr preview for pc available today direct...</td>\n",
       "    </tr>\n",
       "    <tr>\n",
       "      <th>3</th>\n",
       "      <td>1</td>\n",
       "      <td>accidentally pissed on my gaming pc now im rea...</td>\n",
       "    </tr>\n",
       "    <tr>\n",
       "      <th>4</th>\n",
       "      <td>1</td>\n",
       "      <td>are black ops and waw active on pc hi all are ...</td>\n",
       "    </tr>\n",
       "  </tbody>\n",
       "</table>\n",
       "</div>"
      ],
      "text/plain": [
       "   subreddit                                               text\n",
       "0          1                         cat loves to jump on my pc\n",
       "1          1                 need help with hacked epic account\n",
       "2          1  auto hdr preview for pc available today direct...\n",
       "3          1  accidentally pissed on my gaming pc now im rea...\n",
       "4          1  are black ops and waw active on pc hi all are ..."
      ]
     },
     "execution_count": 40,
     "metadata": {},
     "output_type": "execute_result"
    }
   ],
   "source": [
    "# Quick review\n",
    "df.head()"
   ]
  },
  {
   "cell_type": "markdown",
   "id": "c37ee123",
   "metadata": {},
   "source": [
    "### Word count analysis repeated"
   ]
  },
  {
   "cell_type": "code",
   "execution_count": 41,
   "id": "8edc1463",
   "metadata": {},
   "outputs": [
    {
     "data": {
      "text/plain": [
       "ps             3958\n",
       "xbox           3151\n",
       "games          2677\n",
       "console        2439\n",
       "game           1908\n",
       "like           1379\n",
       "play           1242\n",
       "just           1198\n",
       "consoles       1190\n",
       "switch         1007\n",
       "new             932\n",
       "series          903\n",
       "buy             894\n",
       "pc              866\n",
       "know            799\n",
       "gaming          789\n",
       "want            758\n",
       "ve              736\n",
       "nintendo        734\n",
       "don             728\n",
       "really          704\n",
       "time            663\n",
       "better          558\n",
       "think           552\n",
       "best            532\n",
       "looking         523\n",
       "playstation     517\n",
       "help            502\n",
       "good            501\n",
       "controller      496\n",
       "dtype: int64"
      ]
     },
     "execution_count": 41,
     "metadata": {},
     "output_type": "execute_result"
    }
   ],
   "source": [
    "# Console gaming data extracted\n",
    "cons_text = df[df['subreddit']==0]['text']\n",
    "\n",
    "# Count stored into DataFrame for analysis\n",
    "cons_count = pd.DataFrame(cvec.fit_transform(cons_text).toarray(),\n",
    "                          columns = cvec.get_feature_names())\n",
    "\n",
    "# Top 20 words and frequencies\n",
    "cons_count.sum().sort_values(ascending=False)"
   ]
  },
  {
   "cell_type": "code",
   "execution_count": 1,
   "id": "daf035ec",
   "metadata": {},
   "outputs": [
    {
     "ename": "NameError",
     "evalue": "name 'cons_count' is not defined",
     "output_type": "error",
     "traceback": [
      "\u001b[0;31m---------------------------------------------------------------------------\u001b[0m",
      "\u001b[0;31mNameError\u001b[0m                                 Traceback (most recent call last)",
      "\u001b[0;32m/tmp/ipykernel_28976/1281878000.py\u001b[0m in \u001b[0;36m<module>\u001b[0;34m\u001b[0m\n\u001b[1;32m      1\u001b[0m \u001b[0;31m# Horizontal bar chart for visual\u001b[0m\u001b[0;34m\u001b[0m\u001b[0;34m\u001b[0m\u001b[0m\n\u001b[0;32m----> 2\u001b[0;31m \u001b[0mcons_words\u001b[0m \u001b[0;34m=\u001b[0m \u001b[0mcons_count\u001b[0m\u001b[0;34m.\u001b[0m\u001b[0msum\u001b[0m\u001b[0;34m(\u001b[0m\u001b[0;34m)\u001b[0m\u001b[0;34m.\u001b[0m\u001b[0msort_values\u001b[0m\u001b[0;34m(\u001b[0m\u001b[0mascending\u001b[0m\u001b[0;34m=\u001b[0m\u001b[0;32mFalse\u001b[0m\u001b[0;34m)\u001b[0m\u001b[0;34m\u001b[0m\u001b[0;34m\u001b[0m\u001b[0m\n\u001b[0m\u001b[1;32m      3\u001b[0m \u001b[0;34m\u001b[0m\u001b[0m\n\u001b[1;32m      4\u001b[0m \u001b[0mplt\u001b[0m\u001b[0;34m.\u001b[0m\u001b[0mfigure\u001b[0m\u001b[0;34m(\u001b[0m\u001b[0mfigsize\u001b[0m\u001b[0;34m=\u001b[0m\u001b[0;34m(\u001b[0m\u001b[0;36m8\u001b[0m\u001b[0;34m,\u001b[0m\u001b[0;36m8\u001b[0m\u001b[0;34m)\u001b[0m\u001b[0;34m)\u001b[0m\u001b[0;34m\u001b[0m\u001b[0;34m\u001b[0m\u001b[0m\n\u001b[1;32m      5\u001b[0m \u001b[0mplt\u001b[0m\u001b[0;34m.\u001b[0m\u001b[0mtitle\u001b[0m\u001b[0;34m(\u001b[0m\u001b[0;34m'TOP 20 WORDS IN R/CONSOLES'\u001b[0m\u001b[0;34m,\u001b[0m \u001b[0mweight\u001b[0m\u001b[0;34m=\u001b[0m\u001b[0;34m'bold'\u001b[0m\u001b[0;34m)\u001b[0m\u001b[0;34m\u001b[0m\u001b[0;34m\u001b[0m\u001b[0m\n",
      "\u001b[0;31mNameError\u001b[0m: name 'cons_count' is not defined"
     ]
    }
   ],
   "source": [
    "# Horizontal bar chart for visual\n",
    "cons_words = cons_count.sum().sort_values(ascending=False)\n",
    "\n",
    "plt.figure(figsize=(8,8))\n",
    "plt.title('TOP 20 WORDS IN R/CONSOLES', weight='bold')\n",
    "plt.barh(cons_words.index, cons_words)\n",
    "plt.gca().invert_yaxis()\n",
    "plt.savefig('../images/top20_console.png', dpi=75)"
   ]
  },
  {
   "cell_type": "code",
   "execution_count": 43,
   "id": "c7f03184",
   "metadata": {
    "scrolled": false
   },
   "outputs": [
    {
     "data": {
      "text/plain": [
       "pc         2346\n",
       "game       2205\n",
       "games      1759\n",
       "gaming      963\n",
       "steam       788\n",
       "new         782\n",
       "just        727\n",
       "like        700\n",
       "help        698\n",
       "play        671\n",
       "good        578\n",
       "need        448\n",
       "know        403\n",
       "looking     378\n",
       "trailer     374\n",
       "time        361\n",
       "don         330\n",
       "want        326\n",
       "free        317\n",
       "best        307\n",
       "fps         295\n",
       "ve          290\n",
       "playing     287\n",
       "xbox        279\n",
       "people      269\n",
       "buy         264\n",
       "use         254\n",
       "make        246\n",
       "really      235\n",
       "ps          230\n",
       "dtype: int64"
      ]
     },
     "execution_count": 43,
     "metadata": {},
     "output_type": "execute_result"
    }
   ],
   "source": [
    "# PC gaming data extracted\n",
    "pc_text = df[df['subreddit']==1]['text']\n",
    "\n",
    "# Count stored into DataFrame for analysis\n",
    "pc_count = pd.DataFrame(cvec.fit_transform(pc_text).toarray(),\n",
    "                          columns = cvec.get_feature_names())\n",
    "\n",
    "# Top 20 words and frequencies\n",
    "pc_count.sum().sort_values(ascending=False)"
   ]
  },
  {
   "cell_type": "code",
   "execution_count": 44,
   "id": "3dd9ce7e",
   "metadata": {},
   "outputs": [
    {
     "data": {
      "image/png": "[encoded data removed]",
      "text/plain": [
       "<Figure size 576x576 with 1 Axes>"
      ]
     },
     "metadata": {
      "needs_background": "light"
     },
     "output_type": "display_data"
    }
   ],
   "source": [
    "# Horizontal bar chart for visual\n",
    "pc_words = pc_count.sum().sort_values(ascending=False)\n",
    "\n",
    "plt.figure(figsize=(8,8))\n",
    "plt.title('TOP 20 WORDS IN R/PCGAMING', weight='bold')\n",
    "plt.barh(pc_words.index, pc_words)\n",
    "plt.gca().invert_yaxis()\n",
    "plt.savefig('../images/top20_pc.png', dpi=75)"
   ]
  },
  {
   "cell_type": "markdown",
   "id": "46ace268",
   "metadata": {},
   "source": [
    "## Customized stop words"
   ]
  },
  {
   "cell_type": "code",
   "execution_count": 45,
   "id": "d13007af",
   "metadata": {},
   "outputs": [
    {
     "name": "stdout",
     "output_type": "stream",
     "text": [
      "['best', 'buy', 'don', 'game', 'games', 'gaming', 'good', 'help', 'just', 'know', 'like', 'looking', 'new', 'play', 'really', 'time', 've', 'want']\n"
     ]
    }
   ],
   "source": [
    "# Common words between both\n",
    "common_words = []\n",
    "\n",
    "for i in pc_count.columns:\n",
    "    if i in cons_count.columns:\n",
    "        common_words.append(i)\n",
    "        \n",
    "## The commonly shared words are stored for now\n",
    "## Excluding significant words like pc, ps and xbox\n",
    "common_words.remove('pc')\n",
    "common_words.remove('ps')\n",
    "common_words.remove('xbox')\n",
    "print(common_words)"
   ]
  },
  {
   "cell_type": "code",
   "execution_count": 46,
   "id": "bc4b4999",
   "metadata": {},
   "outputs": [],
   "source": [
    "# New stop words list created\n",
    "stops = stopwords.words('english')\n",
    "stops.extend(common_words)\n",
    "stops = set(stops)"
   ]
  },
  {
   "cell_type": "markdown",
   "id": "832727b6",
   "metadata": {},
   "source": [
    "## 2. MODELING\n",
    "3 functions are created:\n",
    "1. evaluation() -- displays all classification scores & confusion matrix\n",
    "2. pipe() -- pipelines different combinations of vectorizors and classifier-models\n",
    "3. grid() -- hypertunes the best parameters of pipeline under GridSearchCV"
   ]
  },
  {
   "cell_type": "code",
   "execution_count": 47,
   "id": "de2b02db",
   "metadata": {},
   "outputs": [],
   "source": [
    "# Imports\n",
    "\n",
    "# Modeling Evaluation\n",
    "from sklearn.model_selection import train_test_split, cross_val_score, GridSearchCV\n",
    "from sklearn.metrics import confusion_matrix, accuracy_score, precision_score, recall_score, f1_score, roc_auc_score\n",
    "\n",
    "# Pipeline\n",
    "from sklearn.pipeline import Pipeline\n",
    "\n",
    "# Machine Learning\n",
    "from sklearn.naive_bayes import MultinomialNB, BernoulliNB, GaussianNB\n",
    "from sklearn.tree import DecisionTreeClassifier \n",
    "from sklearn.ensemble import RandomForestClassifier, AdaBoostClassifier\n",
    "from sklearn.neighbors import KNeighborsClassifier\n",
    "from sklearn.linear_model import LogisticRegression\n",
    "from sklearn.svm import SVC\n",
    "\n",
    "# Floating point output displayed set to 5 digits after decimal\n",
    "# Their true un-rounded values will still be used in calculations \n",
    "np.set_printoptions(precision=5)"
   ]
  },
  {
   "cell_type": "markdown",
   "id": "f3b4785d",
   "metadata": {},
   "source": [
    "**EVALUATION METHOD**\n",
    "\n",
    "Displays the Testing Accuracy along with it's scores:\n",
    "- precision\n",
    "- recall\n",
    "- accuracy\n",
    "- f1 (harmonic mean of precision + recall)\n",
    "- roc_auc"
   ]
  },
  {
   "cell_type": "code",
   "execution_count": 48,
   "id": "acf683d0",
   "metadata": {},
   "outputs": [],
   "source": [
    "# Classification score and confusion matrix \n",
    "def evaluation(actual, pred, title = 'Confusion Matrix'):\n",
    "    cm = confusion_matrix(actual, pred)\n",
    "    precision = precision_score(actual, pred)\n",
    "    recall = recall_score(actual, pred)\n",
    "    accuracy = accuracy_score(actual, pred)\n",
    "    f1 = f1_score(actual, pred)\n",
    "    roc_auc = roc_auc_score(actual, pred)\n",
    "    \n",
    "    print('TEST:')\n",
    "    print('Accuracy: ', accuracy)\n",
    "    print('\\nRecall: ', recall)\n",
    "    print('Precision: ', precision)\n",
    "    print('F1: ', f1)\n",
    "    print('ROC_AUC: ', roc_auc)\n",
    "    \n",
    "    sns.heatmap(cm, cmap= 'cividis', annot=True, fmt='g', annot_kws={'size':20})\n",
    "    plt.xlabel('predicted', fontsize=18)\n",
    "    plt.ylabel('actual', fontsize=18)\n",
    "    plt.title(title, fontsize=18)\n",
    "    \n",
    "    plt.show();"
   ]
  },
  {
   "cell_type": "markdown",
   "id": "867ce962",
   "metadata": {},
   "source": [
    "**PIPELINE METHOD**\n",
    "\n",
    "Pipelines the vectorizer + classification model of choice & displays:\n",
    "- cross validation training score\n",
    "- test scores (from calling the evaluation method above)"
   ]
  },
  {
   "cell_type": "code",
   "execution_count": 49,
   "id": "704daccf",
   "metadata": {},
   "outputs": [],
   "source": [
    "# Pipeline method (also calls the evalation() method within)\n",
    "def pipe(vectorizer, model):\n",
    "    #Pipeline vectorizer + estimator\n",
    "    pipe = Pipeline([\n",
    "        ('vec', vectorizer),\n",
    "        ('model', model)\n",
    "    ])\n",
    "    \n",
    "    pipe.fit(X_train, y_train)\n",
    "    \n",
    "    train_score = pipe.score(X_train,y_train)\n",
    "    pred = pipe.predict(X_test) \n",
    "\n",
    "    print('TRAINING:')\n",
    "    print(f'Accuracy: {train_score}')\n",
    "    print()\n",
    "    evaluation(y_test, pred) # output values"
   ]
  },
  {
   "cell_type": "markdown",
   "id": "ad2d4116",
   "metadata": {},
   "source": [
    "**Variables defined**"
   ]
  },
  {
   "cell_type": "code",
   "execution_count": 50,
   "id": "02527bf6",
   "metadata": {},
   "outputs": [],
   "source": [
    "# Feature and Target defined\n",
    "X = df['text']\n",
    "y = df['subreddit']"
   ]
  },
  {
   "cell_type": "code",
   "execution_count": 51,
   "id": "58be8deb",
   "metadata": {},
   "outputs": [],
   "source": [
    "# Train-test split\n",
    "X_train, X_test, y_train, y_test = train_test_split(X,\n",
    "                                                    y,\n",
    "                                                    test_size=0.33,\n",
    "                                                    stratify=y,\n",
    "                                                    random_state=42)"
   ]
  },
  {
   "cell_type": "markdown",
   "id": "e7c63a5f",
   "metadata": {},
   "source": [
    "**Baseline Accuracy**\n",
    "- 0.642425 for the majority class (PC Gaming)"
   ]
  },
  {
   "cell_type": "code",
   "execution_count": 52,
   "id": "7ff1095d",
   "metadata": {},
   "outputs": [
    {
     "data": {
      "text/plain": [
       "1    0.642425\n",
       "0    0.357575\n",
       "Name: subreddit, dtype: float64"
      ]
     },
     "execution_count": 52,
     "metadata": {},
     "output_type": "execute_result"
    }
   ],
   "source": [
    "y_test.value_counts(normalize=True)"
   ]
  },
  {
   "cell_type": "markdown",
   "id": "92e938b1",
   "metadata": {},
   "source": [
    "## INITIAL LOOK WITH INDIVIDUAL PIPELINES\n",
    "We'll observe combinations of differnt combinations of Logistic Regression + Count or TF-IDF Vectorizer. With the different stop word treatments:\n",
    "1. No stop words removed\n",
    "2. Standard English stop words removed\n",
    "3. Customized stop words removed (English + commonly observed words)"
   ]
  },
  {
   "cell_type": "markdown",
   "id": "7587d31c",
   "metadata": {},
   "source": [
    "**Count Vectorizer + Logistic Regression:**"
   ]
  },
  {
   "cell_type": "code",
   "execution_count": 53,
   "id": "f609bd8b",
   "metadata": {
    "scrolled": false
   },
   "outputs": [
    {
     "name": "stdout",
     "output_type": "stream",
     "text": [
      "TRAINING:\n",
      "Accuracy: 0.9609049414566382\n",
      "\n",
      "TEST:\n",
      "Accuracy:  0.8998791297340855\n",
      "\n",
      "Recall:  0.9548447789275635\n",
      "Precision:  0.8961153619776339\n",
      "F1:  0.924548352816153\n",
      "ROC_AUC:  0.8779857697454718\n"
     ]
    },
    {
     "data": {
      "image/png": "[encoded data removed]",
      "text/plain": [
       "<Figure size 432x288 with 2 Axes>"
      ]
     },
     "metadata": {
      "needs_background": "light"
     },
     "output_type": "display_data"
    }
   ],
   "source": [
    "# Count Vectorizer, no stop word removal + Logistic Regression\n",
    "pipe(CountVectorizer(),\n",
    "    LogisticRegression(solver='liblinear'))"
   ]
  },
  {
   "cell_type": "code",
   "execution_count": 54,
   "id": "e9c76d93",
   "metadata": {},
   "outputs": [
    {
     "name": "stdout",
     "output_type": "stream",
     "text": [
      "TRAINING:\n",
      "Accuracy: 0.9554475094264735\n",
      "\n",
      "TEST:\n",
      "Accuracy:  0.8978646253021757\n",
      "\n",
      "Recall:  0.9576669802445907\n",
      "Precision:  0.8914185639229422\n",
      "F1:  0.9233560090702948\n",
      "ROC_AUC:  0.8740447577279291\n"
     ]
    },
    {
     "data": {
      "image/png": "[encoded data removed]",
      "text/plain": [
       "<Figure size 432x288 with 2 Axes>"
      ]
     },
     "metadata": {
      "needs_background": "light"
     },
     "output_type": "display_data"
    }
   ],
   "source": [
    "# Count Vectorizer, stop word removal v+ Logistic Regression\n",
    "pipe(CountVectorizer(stop_words='english'),\n",
    "    LogisticRegression(solver='liblinear'))"
   ]
  },
  {
   "cell_type": "code",
   "execution_count": 55,
   "id": "26cd80ac",
   "metadata": {
    "scrolled": false
   },
   "outputs": [
    {
     "name": "stdout",
     "output_type": "stream",
     "text": [
      "TRAINING:\n",
      "Accuracy: 0.9551498313157373\n",
      "\n",
      "TEST:\n",
      "Accuracy:  0.9010878323932313\n",
      "\n",
      "Recall:  0.9604891815616181\n",
      "Precision:  0.8935239206534422\n",
      "F1:  0.9257971890584857\n",
      "ROC_AUC:  0.8774276893723584\n"
     ]
    },
    {
     "data": {
      "image/png": "[encoded data removed]",
      "text/plain": [
       "<Figure size 432x288 with 2 Axes>"
      ]
     },
     "metadata": {
      "needs_background": "light"
     },
     "output_type": "display_data"
    }
   ],
   "source": [
    "# Count Vectorizer, extened English stop words removed + Logistic Regression\n",
    "pipe(CountVectorizer(stop_words=stops),\n",
    "    LogisticRegression(solver='liblinear'))"
   ]
  },
  {
   "cell_type": "markdown",
   "id": "4893ca66",
   "metadata": {},
   "source": [
    "**TF-IDF Vectorizer + Logistic Regression:**"
   ]
  },
  {
   "cell_type": "code",
   "execution_count": 56,
   "id": "bf697188",
   "metadata": {
    "scrolled": false
   },
   "outputs": [
    {
     "name": "stdout",
     "output_type": "stream",
     "text": [
      "TRAINING:\n",
      "Accuracy: 0.9133756697757491\n",
      "\n",
      "TEST:\n",
      "Accuracy:  0.9000805801772764\n",
      "\n",
      "Recall:  0.9689557855126999\n",
      "Precision:  0.8861485517636937\n",
      "F1:  0.9257040143798682\n",
      "ROC_AUC:  0.8726469068408571\n"
     ]
    },
    {
     "data": {
      "image/png": "[encoded data removed]",
      "text/plain": [
       "<Figure size 432x288 with 2 Axes>"
      ]
     },
     "metadata": {
      "needs_background": "light"
     },
     "output_type": "display_data"
    }
   ],
   "source": [
    "# TFIDF Vectorizer, no stop word removal + Logistic Regression\n",
    "pipe(TfidfVectorizer(),\n",
    "    LogisticRegression(solver='liblinear'))"
   ]
  },
  {
   "cell_type": "code",
   "execution_count": 57,
   "id": "ca74b98c",
   "metadata": {},
   "outputs": [
    {
     "name": "stdout",
     "output_type": "stream",
     "text": [
      "TRAINING:\n",
      "Accuracy: 0.9130779916650129\n",
      "\n",
      "TEST:\n",
      "Accuracy:  0.895447219983884\n",
      "\n",
      "Recall:  0.971464408905613\n",
      "Precision:  0.8786159954622802\n",
      "F1:  0.92271034996277\n",
      "ROC_AUC:  0.8651688241711165\n"
     ]
    },
    {
     "data": {
      "image/png": "[encoded data removed]",
      "text/plain": [
       "<Figure size 432x288 with 2 Axes>"
      ]
     },
     "metadata": {
      "needs_background": "light"
     },
     "output_type": "display_data"
    }
   ],
   "source": [
    "# TFIDF Vectorizer, stop word removal v+ Logistic Regression\n",
    "pipe(TfidfVectorizer(stop_words='english'),\n",
    "    LogisticRegression(solver='liblinear'))"
   ]
  },
  {
   "cell_type": "code",
   "execution_count": 58,
   "id": "4123a7bd",
   "metadata": {},
   "outputs": [
    {
     "name": "stdout",
     "output_type": "stream",
     "text": [
      "TRAINING:\n",
      "Accuracy: 0.9104981147052986\n",
      "\n",
      "TEST:\n",
      "Accuracy:  0.8966559226430298\n",
      "\n",
      "Recall:  0.9708372530573848\n",
      "Precision:  0.8805460750853242\n",
      "F1:  0.9234899328859061\n",
      "ROC_AUC:  0.8671087673737627\n"
     ]
    },
    {
     "data": {
      "image/png": "[encoded data removed]",
      "text/plain": [
       "<Figure size 432x288 with 2 Axes>"
      ]
     },
     "metadata": {
      "needs_background": "light"
     },
     "output_type": "display_data"
    }
   ],
   "source": [
    "# TFIDF Vectorizer, my stop word list removed + Logistic Regression\n",
    "pipe(TfidfVectorizer(stop_words=stops),\n",
    "    LogisticRegression(solver='liblinear'))"
   ]
  },
  {
   "cell_type": "markdown",
   "id": "b622e31d",
   "metadata": {},
   "source": [
    "**OBSERVATIONS:**\n",
    "- All logistic regression models are overfit regardless of vectorizer used\n",
    "    - TF-IDF with no stop word removed has the lowest bias & variance\n",
    "\n",
    "We'll further confirm with choosing the best 3 models based on cross-validation scores & hypertuning the parameters using the grid() method defined in the hypertuning section below."
   ]
  },
  {
   "cell_type": "markdown",
   "id": "1a5758c2",
   "metadata": {},
   "source": [
    "## BEST MODEL SELECTION\n",
    "Based on the cross validation scores of each model at default settings."
   ]
  },
  {
   "cell_type": "code",
   "execution_count": 59,
   "id": "04620454",
   "metadata": {},
   "outputs": [],
   "source": [
    "# Dictionary of all models for iteration\n",
    "models = {\n",
    "    'Logistic Regression':LogisticRegression(solver='liblinear'),\n",
    "    'KNN':KNeighborsClassifier(),\n",
    "    'BernoulliNB': BernoulliNB(),\n",
    "    'MultinomialNB': MultinomialNB(),\n",
    "    'Random Forest': RandomForestClassifier(random_state=42),\n",
    "    'SVC': SVC(random_state=42),\n",
    "    'AdaBoosting':AdaBoostClassifier(random_state=42)\n",
    "}"
   ]
  },
  {
   "cell_type": "markdown",
   "id": "946de72c",
   "metadata": {},
   "source": [
    "**Count Vectorizer**"
   ]
  },
  {
   "cell_type": "code",
   "execution_count": 60,
   "id": "7109b66c",
   "metadata": {
    "scrolled": false
   },
   "outputs": [
    {
     "name": "stdout",
     "output_type": "stream",
     "text": [
      "COUNT VECTORIZER\n",
      "Logistic Regression: 0.8894618240182754\n",
      "KNN: 0.7670136181023277\n",
      "BernoulliNB: 0.7408194493678365\n",
      "MultinomialNB: 0.8499691795659536\n",
      "Random Forest: 0.8744770865335383\n",
      "SVC: 0.8701130903147032\n",
      "AdaBoosting: 0.8802334672495963\n"
     ]
    }
   ],
   "source": [
    "# Iteration to generate 5-fold cross-valuation scores for each default model\n",
    "print('COUNT VECTORIZER')\n",
    "for name, model in models.items():\n",
    "    pipe = Pipeline([\n",
    "        ('vec', CountVectorizer()),\n",
    "        ('model', model)\n",
    "    ])\n",
    "    \n",
    "    cv_score = cross_val_score(pipe, X_train, y_train, cv=5).mean()\n",
    "    print(f'{name}: {cv_score}')"
   ]
  },
  {
   "cell_type": "markdown",
   "id": "fdd9d766",
   "metadata": {},
   "source": [
    "**TF-IDF Vectorizer**"
   ]
  },
  {
   "cell_type": "code",
   "execution_count": 61,
   "id": "77941286",
   "metadata": {},
   "outputs": [
    {
     "name": "stdout",
     "output_type": "stream",
     "text": [
      "TF-IDF VECTORIZER\n",
      "Logistic Regression: 0.8823173421560518\n",
      "KNN: 0.6003116999487967\n",
      "BernoulliNB: 0.7408194493678365\n",
      "MultinomialNB: 0.8638605301508526\n",
      "Random Forest: 0.880430402930403\n",
      "SVC: 0.8921406908503684\n",
      "AdaBoosting: 0.8797379770766869\n"
     ]
    }
   ],
   "source": [
    "# Iteration to generate 5-fold cross-valuation scores for each default model\n",
    "print('TF-IDF VECTORIZER')\n",
    "for name, model in models.items():\n",
    "    pipe = Pipeline([\n",
    "        ('vec', TfidfVectorizer()),\n",
    "        ('model', model)\n",
    "    ])\n",
    "    \n",
    "    cv_score = cross_val_score(pipe, X_train, y_train, cv=5).mean()\n",
    "    print(f'{name}: {cv_score}')"
   ]
  },
  {
   "cell_type": "markdown",
   "id": "981f48f1",
   "metadata": {},
   "source": [
    "### TOP MODELS:\n",
    "1. Logistic Regression\n",
    "2. Random Forest Classifier\n",
    "3. Support Vector Classifier\n",
    "4. Adaptive Boost Classifier\n",
    "    \n",
    "Since all vectorizers don't remove stop words by default, we'll tune for both vectorizers on all 3 models while accounting for the 3 options of stop word treatment:\n",
    "1. No stop words removed\n",
    "2. Standard English stop words removed\n",
    "3. Customized stop words removed (English + commonly observed words)"
   ]
  },
  {
   "cell_type": "markdown",
   "id": "7413a2a3",
   "metadata": {},
   "source": [
    "## HYPERTUNING PARAMETERS"
   ]
  },
  {
   "cell_type": "markdown",
   "id": "89920fa3",
   "metadata": {},
   "source": [
    "**GRIDSEARCHCV METHOD**\n",
    "\n",
    "Similar to the Pipeline method above, but displays:\n",
    "- best training score\n",
    "- testing scores (from calling the evaluation method above)\n",
    "- best parameters"
   ]
  },
  {
   "cell_type": "code",
   "execution_count": 22,
   "id": "b1613b5a",
   "metadata": {},
   "outputs": [],
   "source": [
    "# GridSearchCV method (also calls the evalation() method within)\n",
    "def grid(vectorizer, model, params, cv=3):\n",
    "    #Grid Search on Pipeline of vectorizer + estimator\n",
    "    grid = GridSearchCV(Pipeline([('vec', vectorizer),\n",
    "                                  ('model', model)]),\n",
    "                        params,\n",
    "                        cv=cv,\n",
    "                        verbose=1)\n",
    "    \n",
    "    # Fit on training\n",
    "    grid.fit(X_train, y_train)\n",
    "    \n",
    "    # Extact best estimators & refit on training\n",
    "    best = grid.best_estimator_\n",
    "    best.fit(X_train, y_train)\n",
    "    \n",
    "    best_score = best.score(X_train, y_train)\n",
    "    pred = best.predict(X_test) \n",
    "    \n",
    "    print('TRAINING:')\n",
    "    print(f'Accuracy: {best_score}')\n",
    "    print()\n",
    "    evaluation(y_test, pred) # output values\n",
    "    print(f'\\nBEST PARAMETERS: {grid.best_params_}\\n')"
   ]
  },
  {
   "cell_type": "code",
   "execution_count": 21,
   "id": "81e15d11",
   "metadata": {},
   "outputs": [],
   "source": [
    "import time"
   ]
  },
  {
   "cell_type": "markdown",
   "id": "dcfc72f6",
   "metadata": {},
   "source": [
    "### HYPTERTUNING WITH GRIDSEARCHCV\n",
    "For the top 3 models with both vectorizers:\n",
    "1. Logistic Regression\n",
    "2. Random Forest Classifier\n",
    "3. Support Vector Classifier"
   ]
  },
  {
   "cell_type": "markdown",
   "id": "60a5f76a",
   "metadata": {},
   "source": [
    "**Count Vectorization + Logistic Regression**"
   ]
  },
  {
   "cell_type": "code",
   "execution_count": 66,
   "id": "01f53308",
   "metadata": {},
   "outputs": [
    {
     "name": "stdout",
     "output_type": "stream",
     "text": [
      "Fitting 3 folds for each of 36 candidates, totalling 108 fits\n",
      "TRAINING:\n",
      "Accuracy: 0.981543957134352\n",
      "\n",
      "TEST:\n",
      "Accuracy:  0.9071313456889605\n",
      "\n",
      "Recall:  0.9695829413609282\n",
      "Precision:  0.8946759259259259\n",
      "F1:  0.9306245297215953\n",
      "ROC_AUC:  0.8822562594128586\n"
     ]
    },
    {
     "data": {
      "image/png": "[encoded data removed]",
      "text/plain": [
       "<Figure size 432x288 with 2 Axes>"
      ]
     },
     "metadata": {
      "needs_background": "light"
     },
     "output_type": "display_data"
    },
    {
     "name": "stdout",
     "output_type": "stream",
     "text": [
      "\n",
      "BEST PARAMETERS: {'model__penalty': 'l2', 'vec__max_features': None, 'vec__ngram_range': (1, 2), 'vec__stop_words': {'an', \"shouldn't\", 'like', \"wasn't\", 'when', \"haven't\", 'itself', 't', 'while', 'both', 'really', 'during', 'game', 'from', 'its', 'whom', 'is', 'do', \"aren't\", 'yourself', 'does', \"couldn't\", 'o', 'himself', 'or', 'against', 'themselves', 'own', 'weren', 'over', 'because', 'up', 'having', 'but', 'me', 'of', \"shan't\", 's', \"doesn't\", 'should', 'that', 'here', 'down', 'hasn', 'so', \"you're\", 'don', 'into', \"hasn't\", 'the', 'are', \"you'd\", \"didn't\", 'through', 'games', 'being', 'yours', 'mightn', 'needn', 'won', 've', \"needn't\", 'want', 'where', 'between', 'at', 'who', 'about', 'which', 'doing', \"wouldn't\", 'best', 'any', \"weren't\", 'help', 'this', 'shouldn', 'ourselves', 'i', 'for', 'what', 'no', 'and', 'further', 'new', 'wasn', 'only', 'isn', \"don't\", 'am', 'her', 'on', 'each', 'once', 'how', 'didn', 'nor', 'have', 'you', 'by', 'looking', 'after', \"you'll\", 'wouldn', 'hers', 'with', 'ma', 'shan', 'she', \"she's\", 'hadn', 'in', 'all', 'some', 'he', 'm', \"hadn't\", 'yourselves', 'ain', 'until', 'my', 'buy', 'been', 'most', 'such', 'was', 'ours', 'doesn', 'just', \"isn't\", 'above', 'too', 'myself', \"should've\", 'other', 'off', 'will', \"mustn't\", 'haven', 'same', 'if', 'to', 'aren', 'play', 'than', 'couldn', \"won't\", 'those', \"you've\", 'your', 'can', 'not', \"mightn't\", 'then', 'it', 'out', 'under', 'as', 'd', 'before', 'mustn', 'good', 'y', 'time', 'his', 'had', 'their', \"it's\", 'll', 'gaming', 'below', 'them', 're', 'know', 'now', 'our', 'very', 'be', 'again', 'more', 'a', 'why', 'these', 'they', 'did', 'there', \"that'll\", 'theirs', 'were', 'we', 'few', 'him', 'herself', 'has'}}\n",
      "\n",
      "CPU times: user 1min 22s, sys: 568 ms, total: 1min 23s\n",
      "Wall time: 39 s\n"
     ]
    }
   ],
   "source": [
    "%%time\n",
    "# Parameters aligned with the method\n",
    "    # vectorizer as 'vec'\n",
    "    # model as 'model'\n",
    "    \n",
    "params = {\n",
    "    'vec__stop_words':[None, 'english', stops],\n",
    "    'vec__max_features':[None, 2000, 5000],\n",
    "#     'vec__min_df':[None, 0.05, 0.1],\n",
    "#     'vec__max_df':[None, 0.8, 0.9],\n",
    "    'vec__ngram_range':[(1,1), (1,2)],\n",
    "    'model__penalty':['l1', 'l2']\n",
    "}\n",
    "\n",
    "grid(CountVectorizer(), LogisticRegression(solver='liblinear'), params)"
   ]
  },
  {
   "cell_type": "markdown",
   "id": "23a194c2",
   "metadata": {},
   "source": [
    "**TF-IDF Vectorizer + Logistic Regression**"
   ]
  },
  {
   "cell_type": "code",
   "execution_count": 67,
   "id": "fecae143",
   "metadata": {},
   "outputs": [
    {
     "name": "stdout",
     "output_type": "stream",
     "text": [
      "Fitting 3 folds for each of 36 candidates, totalling 108 fits\n",
      "TRAINING:\n",
      "Accuracy: 0.9081166898194086\n",
      "\n",
      "TEST:\n",
      "Accuracy:  0.8974617244157937\n",
      "\n",
      "Recall:  0.9655064283474444\n",
      "Precision:  0.8852788959171938\n",
      "F1:  0.9236538173091345\n",
      "ROC_AUC:  0.8703588479765391\n"
     ]
    },
    {
     "data": {
      "image/png": "[encoded data removed]",
      "text/plain": [
       "<Figure size 432x288 with 2 Axes>"
      ]
     },
     "metadata": {
      "needs_background": "light"
     },
     "output_type": "display_data"
    },
    {
     "name": "stdout",
     "output_type": "stream",
     "text": [
      "\n",
      "BEST PARAMETERS: {'model__penalty': 'l1', 'vec__max_features': 2000, 'vec__ngram_range': (1, 2), 'vec__stop_words': 'english'}\n",
      "\n",
      "CPU times: user 59.2 s, sys: 292 ms, total: 59.5 s\n",
      "Wall time: 30.4 s\n"
     ]
    }
   ],
   "source": [
    "%%time\n",
    "\n",
    "params = {\n",
    "    'vec__stop_words':[None, 'english', stops],\n",
    "    'vec__max_features':[None, 2000, 5000],\n",
    "#     'vec__min_df':[None, 0.05, 0.1],\n",
    "#     'vec__max_df':[None, 0.8,0.9],\n",
    "    'vec__ngram_range':[(1,1), (1,2)],\n",
    "    'model__penalty':['l1', 'l2']\n",
    "}\n",
    "\n",
    "grid(TfidfVectorizer(), LogisticRegression(solver='liblinear'), params)"
   ]
  },
  {
   "cell_type": "markdown",
   "id": "ffc5293b",
   "metadata": {},
   "source": [
    "**Count Vectorizer + Random Forest Classifier**"
   ]
  },
  {
   "cell_type": "code",
   "execution_count": 68,
   "id": "8fc8ff5d",
   "metadata": {},
   "outputs": [
    {
     "name": "stdout",
     "output_type": "stream",
     "text": [
      "Fitting 3 folds for each of 18 candidates, totalling 54 fits\n",
      "TRAINING:\n",
      "Accuracy: 0.9966263147449891\n",
      "\n",
      "TEST:\n",
      "Accuracy:  0.8944399677679291\n",
      "\n",
      "Recall:  0.9354029476324867\n",
      "Precision:  0.9036655558921539\n",
      "F1:  0.9192604006163327\n",
      "ROC_AUC:  0.8781240090275109\n"
     ]
    },
    {
     "data": {
      "image/png": "[encoded data removed]",
      "text/plain": [
       "<Figure size 432x288 with 2 Axes>"
      ]
     },
     "metadata": {
      "needs_background": "light"
     },
     "output_type": "display_data"
    },
    {
     "name": "stdout",
     "output_type": "stream",
     "text": [
      "\n",
      "BEST PARAMETERS: {'model__class_weight': 'balanced_subsample', 'vec__ngram_range': (1, 2), 'vec__stop_words': {'an', \"shouldn't\", 'like', \"wasn't\", 'when', \"haven't\", 'itself', 't', 'while', 'both', 'really', 'during', 'game', 'from', 'its', 'whom', 'is', 'do', \"aren't\", 'yourself', 'does', \"couldn't\", 'o', 'himself', 'or', 'against', 'themselves', 'own', 'weren', 'over', 'because', 'up', 'having', 'but', 'me', 'of', \"shan't\", 's', \"doesn't\", 'should', 'that', 'here', 'down', 'hasn', 'so', \"you're\", 'don', 'into', \"hasn't\", 'the', 'are', \"you'd\", \"didn't\", 'through', 'games', 'being', 'yours', 'mightn', 'needn', 'won', 've', \"needn't\", 'want', 'where', 'between', 'at', 'who', 'about', 'which', 'doing', \"wouldn't\", 'best', 'any', \"weren't\", 'help', 'this', 'shouldn', 'ourselves', 'i', 'for', 'what', 'no', 'and', 'further', 'new', 'wasn', 'only', 'isn', \"don't\", 'am', 'her', 'on', 'each', 'once', 'how', 'didn', 'nor', 'have', 'you', 'by', 'looking', 'after', \"you'll\", 'wouldn', 'hers', 'with', 'ma', 'shan', 'she', \"she's\", 'hadn', 'in', 'all', 'some', 'he', 'm', \"hadn't\", 'yourselves', 'ain', 'until', 'my', 'buy', 'been', 'most', 'such', 'was', 'ours', 'doesn', 'just', \"isn't\", 'above', 'too', 'myself', \"should've\", 'other', 'off', 'will', \"mustn't\", 'haven', 'same', 'if', 'to', 'aren', 'play', 'than', 'couldn', \"won't\", 'those', \"you've\", 'your', 'can', 'not', \"mightn't\", 'then', 'it', 'out', 'under', 'as', 'd', 'before', 'mustn', 'good', 'y', 'time', 'his', 'had', 'their', \"it's\", 'll', 'gaming', 'below', 'them', 're', 'know', 'now', 'our', 'very', 'be', 'again', 'more', 'a', 'why', 'these', 'they', 'did', 'there', \"that'll\", 'theirs', 'were', 'we', 'few', 'him', 'herself', 'has'}}\n",
      "\n",
      "CPU times: user 8min 44s, sys: 23 ms, total: 8min 44s\n",
      "Wall time: 8min 44s\n"
     ]
    }
   ],
   "source": [
    "%%time\n",
    "\n",
    "params = {\n",
    "    'vec__stop_words':[None, 'english',stops],\n",
    "    'vec__ngram_range':[(1,1), (1,2)],\n",
    "#     'model__max_depth': [80, 90, 100, 110],\n",
    "#     'model__min_samples_leaf': [3, 4, 5],\n",
    "#     'model__min_samples_split': [8, 10, 12],\n",
    "#     'model__n_estimators': [100, 200, 300, 1000],\n",
    "    'model__class_weight': [None, 'balanced', 'balanced_subsample']\n",
    "}\n",
    "\n",
    "grid(CountVectorizer(), RandomForestClassifier(n_jobs=-1, random_state=42), params)"
   ]
  },
  {
   "cell_type": "markdown",
   "id": "8766b859",
   "metadata": {},
   "source": [
    "**TF-IDF Vectorizer + Random Forest Classifier**"
   ]
  },
  {
   "cell_type": "code",
   "execution_count": 69,
   "id": "8d3d4f05",
   "metadata": {},
   "outputs": [
    {
     "name": "stdout",
     "output_type": "stream",
     "text": [
      "Fitting 3 folds for each of 18 candidates, totalling 54 fits\n",
      "TRAINING:\n",
      "Accuracy: 0.9963286366342529\n",
      "\n",
      "TEST:\n",
      "Accuracy:  0.9016921837228042\n",
      "\n",
      "Recall:  0.9498275321417372\n",
      "Precision:  0.9022937146261543\n",
      "F1:  0.9254506568897037\n",
      "ROC_AUC:  0.8825193998736856\n"
     ]
    },
    {
     "data": {
      "image/png": "[encoded data removed]",
      "text/plain": [
       "<Figure size 432x288 with 2 Axes>"
      ]
     },
     "metadata": {
      "needs_background": "light"
     },
     "output_type": "display_data"
    },
    {
     "name": "stdout",
     "output_type": "stream",
     "text": [
      "\n",
      "BEST PARAMETERS: {'model__class_weight': None, 'vec__ngram_range': (1, 1), 'vec__stop_words': {'an', \"shouldn't\", 'like', \"wasn't\", 'when', \"haven't\", 'itself', 't', 'while', 'both', 'really', 'during', 'game', 'from', 'its', 'whom', 'is', 'do', \"aren't\", 'yourself', 'does', \"couldn't\", 'o', 'himself', 'or', 'against', 'themselves', 'own', 'weren', 'over', 'because', 'up', 'having', 'but', 'me', 'of', \"shan't\", 's', \"doesn't\", 'should', 'that', 'here', 'down', 'hasn', 'so', \"you're\", 'don', 'into', \"hasn't\", 'the', 'are', \"you'd\", \"didn't\", 'through', 'games', 'being', 'yours', 'mightn', 'needn', 'won', 've', \"needn't\", 'want', 'where', 'between', 'at', 'who', 'about', 'which', 'doing', \"wouldn't\", 'best', 'any', \"weren't\", 'help', 'this', 'shouldn', 'ourselves', 'i', 'for', 'what', 'no', 'and', 'further', 'new', 'wasn', 'only', 'isn', \"don't\", 'am', 'her', 'on', 'each', 'once', 'how', 'didn', 'nor', 'have', 'you', 'by', 'looking', 'after', \"you'll\", 'wouldn', 'hers', 'with', 'ma', 'shan', 'she', \"she's\", 'hadn', 'in', 'all', 'some', 'he', 'm', \"hadn't\", 'yourselves', 'ain', 'until', 'my', 'buy', 'been', 'most', 'such', 'was', 'ours', 'doesn', 'just', \"isn't\", 'above', 'too', 'myself', \"should've\", 'other', 'off', 'will', \"mustn't\", 'haven', 'same', 'if', 'to', 'aren', 'play', 'than', 'couldn', \"won't\", 'those', \"you've\", 'your', 'can', 'not', \"mightn't\", 'then', 'it', 'out', 'under', 'as', 'd', 'before', 'mustn', 'good', 'y', 'time', 'his', 'had', 'their', \"it's\", 'll', 'gaming', 'below', 'them', 're', 'know', 'now', 'our', 'very', 'be', 'again', 'more', 'a', 'why', 'these', 'they', 'did', 'there', \"that'll\", 'theirs', 'were', 'we', 'few', 'him', 'herself', 'has'}}\n",
      "\n",
      "CPU times: user 7min 13s, sys: 79.7 ms, total: 7min 13s\n",
      "Wall time: 7min 13s\n"
     ]
    }
   ],
   "source": [
    "%%time\n",
    "\n",
    "params = {\n",
    "    'vec__stop_words':[None,'english', stops],\n",
    "    'vec__ngram_range':[(1,1), (1,2)],\n",
    "#     'model__max_depth': [80, 90, 100, 110],\n",
    "#     'model__min_samples_leaf': [3, 4, 5],\n",
    "#     'model__min_samples_split': [8, 10, 12],\n",
    "#     'base_estimator__n_estimators': [100, 200, 300, 1000],\n",
    "    'model__class_weight': [None, 'balanced', 'balanced_subsample']\n",
    "}\n",
    "\n",
    "grid(TfidfVectorizer(), RandomForestClassifier(n_jobs=-1, random_state=42), params)"
   ]
  },
  {
   "cell_type": "markdown",
   "id": "53c59f1a",
   "metadata": {},
   "source": [
    "**Count Vectorizer + Support Vector Classifier**"
   ]
  },
  {
   "cell_type": "code",
   "execution_count": 70,
   "id": "59cb3f3d",
   "metadata": {},
   "outputs": [
    {
     "name": "stdout",
     "output_type": "stream",
     "text": [
      "Fitting 3 folds for each of 288 candidates, totalling 864 fits\n",
      "TRAINING:\n",
      "Accuracy: 0.9772772375471324\n",
      "\n",
      "TEST:\n",
      "Accuracy:  0.9037066881547139\n",
      "\n",
      "Recall:  0.9639385387268736\n",
      "Precision:  0.8943846377654932\n",
      "F1:  0.9278599456685783\n",
      "ROC_AUC:  0.8797157482366762\n"
     ]
    },
    {
     "data": {
      "image/png": "[encoded data removed]",
      "text/plain": [
       "<Figure size 432x288 with 2 Axes>"
      ]
     },
     "metadata": {
      "needs_background": "light"
     },
     "output_type": "display_data"
    },
    {
     "name": "stdout",
     "output_type": "stream",
     "text": [
      "\n",
      "BEST PARAMETERS: {'model__C': 100, 'model__gamma': 0.001, 'model__kernel': 'rbf', 'vec__ngram_range': (1, 2), 'vec__stop_words': {'an', \"shouldn't\", 'like', \"wasn't\", 'when', \"haven't\", 'itself', 't', 'while', 'both', 'really', 'during', 'game', 'from', 'its', 'whom', 'is', 'do', \"aren't\", 'yourself', 'does', \"couldn't\", 'o', 'himself', 'or', 'against', 'themselves', 'own', 'weren', 'over', 'because', 'up', 'having', 'but', 'me', 'of', \"shan't\", 's', \"doesn't\", 'should', 'that', 'here', 'down', 'hasn', 'so', \"you're\", 'don', 'into', \"hasn't\", 'the', 'are', \"you'd\", \"didn't\", 'through', 'games', 'being', 'yours', 'mightn', 'needn', 'won', 've', \"needn't\", 'want', 'where', 'between', 'at', 'who', 'about', 'which', 'doing', \"wouldn't\", 'best', 'any', \"weren't\", 'help', 'this', 'shouldn', 'ourselves', 'i', 'for', 'what', 'no', 'and', 'further', 'new', 'wasn', 'only', 'isn', \"don't\", 'am', 'her', 'on', 'each', 'once', 'how', 'didn', 'nor', 'have', 'you', 'by', 'looking', 'after', \"you'll\", 'wouldn', 'hers', 'with', 'ma', 'shan', 'she', \"she's\", 'hadn', 'in', 'all', 'some', 'he', 'm', \"hadn't\", 'yourselves', 'ain', 'until', 'my', 'buy', 'been', 'most', 'such', 'was', 'ours', 'doesn', 'just', \"isn't\", 'above', 'too', 'myself', \"should've\", 'other', 'off', 'will', \"mustn't\", 'haven', 'same', 'if', 'to', 'aren', 'play', 'than', 'couldn', \"won't\", 'those', \"you've\", 'your', 'can', 'not', \"mightn't\", 'then', 'it', 'out', 'under', 'as', 'd', 'before', 'mustn', 'good', 'y', 'time', 'his', 'had', 'their', \"it's\", 'll', 'gaming', 'below', 'them', 're', 'know', 'now', 'our', 'very', 'be', 'again', 'more', 'a', 'why', 'these', 'they', 'did', 'there', \"that'll\", 'theirs', 'were', 'we', 'few', 'him', 'herself', 'has'}}\n",
      "\n",
      "CPU times: user 1h 13min 39s, sys: 14.2 s, total: 1h 13min 53s\n",
      "Wall time: 1h 13min 54s\n"
     ]
    }
   ],
   "source": [
    "%%time\n",
    "\n",
    "params = {\n",
    "    'vec__stop_words':[None, 'english',stops],\n",
    "    'vec__ngram_range':[(1,1), (1,2)],\n",
    "#     'model__max_depth': [80, 90, 100, 110],\n",
    "#     'model__min_samples_leaf': [3, 4, 5],\n",
    "#     'model__min_samples_split': [8, 10, 12],\n",
    "#     'model__n_estimators': [100, 200, 300, 1000],\n",
    "    'model__C':[0.1, 1, 10, 100],\n",
    "    'model__kernel': ['rbf', 'poly', 'sigmoid'],\n",
    "    'model__gamma': [1, 0.1, 0.01, 0.001],\n",
    "}\n",
    "\n",
    "grid(CountVectorizer(), SVC(random_state=42), params)"
   ]
  },
  {
   "cell_type": "code",
   "execution_count": 72,
   "id": "b6ccbae9",
   "metadata": {},
   "outputs": [],
   "source": [
    "## SAVED OUTPUT DUE TO EXCESSIVE TIME TRAINING (Count Vectorizer + Support Vector Classifier)\n",
    "\n",
    "    # Fitting 3 folds for each of 288 candidates, totalling 864 fits\n",
    "    # TRAINING:\n",
    "    # Accuracy: 0.9772772375471324\n",
    "\n",
    "    # TEST:\n",
    "    # Accuracy:  0.9037066881547139\n",
    "\n",
    "    # Recall:  0.9639385387268736\n",
    "    # Precision:  0.8943846377654932\n",
    "    # F1:  0.9278599456685783\n",
    "    # ROC_AUC:  0.8797157482366762\n",
    "\n",
    "\n",
    "    # BEST PARAMETERS: {'model__C': 100, 'model__gamma': 0.001, 'model__kernel': 'rbf', 'vec__ngram_range': (1, 2), 'vec__stop_words': {'an', \"shouldn't\", 'like', \"wasn't\", 'when', \"haven't\", 'itself', 't', 'while', 'both', 'really', 'during', 'game', 'from', 'its', 'whom', 'is', 'do', \"aren't\", 'yourself', 'does', \"couldn't\", 'o', 'himself', 'or', 'against', 'themselves', 'own', 'weren', 'over', 'because', 'up', 'having', 'but', 'me', 'of', \"shan't\", 's', \"doesn't\", 'should', 'that', 'here', 'down', 'hasn', 'so', \"you're\", 'don', 'into', \"hasn't\", 'the', 'are', \"you'd\", \"didn't\", 'through', 'games', 'being', 'yours', 'mightn', 'needn', 'won', 've', \"needn't\", 'want', 'where', 'between', 'at', 'who', 'about', 'which', 'doing', \"wouldn't\", 'best', 'any', \"weren't\", 'help', 'this', 'shouldn', 'ourselves', 'i', 'for', 'what', 'no', 'and', 'further', 'new', 'wasn', 'only', 'isn', \"don't\", 'am', 'her', 'on', 'each', 'once', 'how', 'didn', 'nor', 'have', 'you', 'by', 'looking', 'after', \"you'll\", 'wouldn', 'hers', 'with', 'ma', 'shan', 'she', \"she's\", 'hadn', 'in', 'all', 'some', 'he', 'm', \"hadn't\", 'yourselves', 'ain', 'until', 'my', 'buy', 'been', 'most', 'such', 'was', 'ours', 'doesn', 'just', \"isn't\", 'above', 'too', 'myself', \"should've\", 'other', 'off', 'will', \"mustn't\", 'haven', 'same', 'if', 'to', 'aren', 'play', 'than', 'couldn', \"won't\", 'those', \"you've\", 'your', 'can', 'not', \"mightn't\", 'then', 'it', 'out', 'under', 'as', 'd', 'before', 'mustn', 'good', 'y', 'time', 'his', 'had', 'their', \"it's\", 'll', 'gaming', 'below', 'them', 're', 'know', 'now', 'our', 'very', 'be', 'again', 'more', 'a', 'why', 'these', 'they', 'did', 'there', \"that'll\", 'theirs', 'were', 'we', 'few', 'him', 'herself', 'has'}}\n",
    "\n",
    "    # CPU times: user 1h 13min 39s, sys: 14.2 s, total: 1h 13min 53s\n",
    "    # Wall time: 1h 13min 54s"
   ]
  },
  {
   "cell_type": "markdown",
   "id": "e9c22ea2",
   "metadata": {},
   "source": [
    "**TF-IDF Vectorizer + Support Vector Classifier**"
   ]
  },
  {
   "cell_type": "code",
   "execution_count": 34,
   "id": "eeae78eb",
   "metadata": {},
   "outputs": [
    {
     "name": "stdout",
     "output_type": "stream",
     "text": [
      "Fitting 3 folds for each of 288 candidates, totalling 864 fits\n",
      "TRAINING:\n",
      "Accuracy: 0.983726929946418\n",
      "\n",
      "TEST:\n",
      "Accuracy:  0.911563255439162\n",
      "\n",
      "Recall:  0.9614299153339605\n",
      "Precision:  0.9065641632170314\n",
      "F1:  0.9331912950844621\n",
      "ROC_AUC:  0.8917008731599381\n"
     ]
    },
    {
     "data": {
      "image/png": "[encoded data removed]",
      "text/plain": [
       "<Figure size 432x288 with 2 Axes>"
      ]
     },
     "metadata": {
      "needs_background": "light"
     },
     "output_type": "display_data"
    },
    {
     "name": "stdout",
     "output_type": "stream",
     "text": [
      "\n",
      "BEST PARAMETERS: {'model__C': 10, 'model__gamma': 0.1, 'model__kernel': 'sigmoid', 'vec__ngram_range': (1, 2), 'vec__stop_words': {'then', 'nor', 'so', \"you'll\", 't', \"should've\", 'she', 'all', 'most', 'own', 's', 'any', 'but', \"aren't\", 'myself', 'haven', 'be', 'in', 'being', 'is', 'wouldn', 'their', 'when', 'couldn', 'them', 'her', 'an', 'once', 'at', 'mustn', 'on', 'play', 'll', 'out', 'further', \"you'd\", 'there', 'as', 'time', 'or', 'just', 'should', 'buy', 'want', 'above', 'having', 'are', 'him', 'y', 'hasn', 'yours', 'm', 'now', 'like', 'how', 'yourself', 'wasn', \"doesn't\", \"mustn't\", 'yourselves', \"it's\", \"wouldn't\", 'best', 'during', 'what', \"you're\", 'over', 'shan', \"couldn't\", 'ourselves', 'who', 'theirs', 'was', 'very', 'have', 'for', 'himself', 'after', 'won', 'about', 'by', 'i', 'has', \"haven't\", 'your', 'herself', 'itself', 'these', 'up', 'know', 'until', 'it', 'did', 'other', 'really', 'does', 'this', 'me', 'mightn', \"shouldn't\", \"you've\", 'some', \"hasn't\", 'than', 'had', 'hers', \"don't\", 'both', \"won't\", 'aren', 'its', 'before', 'needn', 'few', 'o', 'they', 'd', \"hadn't\", \"wasn't\", 'he', 'those', 'why', 'again', 'can', 'more', 'doing', 'down', 'below', 'we', 're', 'were', 'whom', 'against', 'am', 'been', 'each', 'ma', 'looking', \"shan't\", 'a', 'into', 'didn', 'not', \"mightn't\", 'ain', 'game', 'same', 'to', 'that', 'here', 'help', 'don', 'and', 'ours', 'hadn', 'shouldn', 'if', \"she's\", 'between', 'weren', 'because', 'through', 'you', 'will', 'games', 'such', 'which', \"didn't\", 'from', \"isn't\", \"needn't\", 'new', 'his', 'the', 'off', 'no', 'isn', 'of', 'do', 'my', 'under', 'doesn', 'with', 'gaming', \"that'll\", 'our', 'good', 'too', 'themselves', 'while', \"weren't\", 'only', 've', 'where'}}\n",
      "\n",
      "CPU times: user 1h 21min 6s, sys: 30 s, total: 1h 21min 36s\n",
      "Wall time: 1h 21min 36s\n"
     ]
    }
   ],
   "source": [
    "%%time\n",
    "\n",
    "params = {\n",
    "    'vec__stop_words':[None, 'english',stops],\n",
    "    'vec__ngram_range':[(1,1), (1,2)],\n",
    "#     'model__max_depth': [80, 90, 100, 110],\n",
    "#     'model__min_samples_leaf': [3, 4, 5],\n",
    "#     'model__min_samples_split': [8, 10, 12],\n",
    "#     'model__n_estimators': [100, 200, 300, 1000],\n",
    "    'model__C':[0.1, 1, 10, 100],\n",
    "    'model__kernel': ['rbf', 'poly', 'sigmoid'],\n",
    "    'model__gamma': [1, 0.1, 0.01, 0.001],\n",
    "}\n",
    "\n",
    "grid(TfidfVectorizer(), SVC(random_state=42), params)"
   ]
  },
  {
   "cell_type": "code",
   "execution_count": 69,
   "id": "546e4b1a",
   "metadata": {},
   "outputs": [],
   "source": [
    "# ## EXTRA CODE TO SAVE CONFUSION MATRIX\n",
    "# tfiddd= TfidfVectorizer(stop_words=stops, ngram_range=(1,2))\n",
    "# adaa = SVC(kernel='sigmoid', gamma=0.1, C=10)\n",
    "\n",
    "# pipeee = Pipeline([\n",
    "#     ('tfiddd', tfiddd),\n",
    "#     ('adaa', adaa)\n",
    "# ])\n",
    "\n",
    "# pipeee.fit(X_train, y_train)\n",
    "# predsss = pipeee.predict(X_test)\n",
    "# cmmm = confusion_matrix(y_test, predsss)\n",
    "\n",
    "# sns.heatmap(cmmm, cmap= 'cividis', annot=True, fmt='g', annot_kws={'size':20})\n",
    "# plt.xlabel('predicted', fontsize=18)\n",
    "# plt.ylabel('actual', fontsize=18)\n",
    "# plt.title('SVC + TFID', fontsize=18)\n",
    "# plt.savefig('../images/svc_tfid_cm.png', dpi=125, facecolor='white')"
   ]
  },
  {
   "cell_type": "code",
   "execution_count": null,
   "id": "02bde6d1",
   "metadata": {},
   "outputs": [],
   "source": [
    "# ## SAVED OUTPUT DUE TO EXCESSIVE TRAINING TIME (TF-IDF Vectorizer + Support Vector Classifier)\n",
    "\n",
    "    # Fitting 3 folds for each of 288 candidates, totalling 864 fits\n",
    "    # TRAINING:\n",
    "    # Accuracy: 0.983726929946418\n",
    "\n",
    "    # TEST:\n",
    "    # Accuracy:  0.911563255439162\n",
    "\n",
    "    # Recall:  0.9614299153339605\n",
    "    # Precision:  0.9065641632170314\n",
    "    # F1:  0.9331912950844621\n",
    "    # ROC_AUC:  0.8917008731599381\n",
    "\n",
    "\n",
    "    # BEST PARAMETERS: {'model__C': 10, 'model__gamma': 0.1, 'model__kernel': 'sigmoid', 'vec__ngram_range': (1, 2), 'vec__stop_words': {'then', 'nor', 'so', \"you'll\", 't', \"should've\", 'she', 'all', 'most', 'own', 's', 'any', 'but', \"aren't\", 'myself', 'haven', 'be', 'in', 'being', 'is', 'wouldn', 'their', 'when', 'couldn', 'them', 'her', 'an', 'once', 'at', 'mustn', 'on', 'play', 'll', 'out', 'further', \"you'd\", 'there', 'as', 'time', 'or', 'just', 'should', 'buy', 'want', 'above', 'having', 'are', 'him', 'y', 'hasn', 'yours', 'm', 'now', 'like', 'how', 'yourself', 'wasn', \"doesn't\", \"mustn't\", 'yourselves', \"it's\", \"wouldn't\", 'best', 'during', 'what', \"you're\", 'over', 'shan', \"couldn't\", 'ourselves', 'who', 'theirs', 'was', 'very', 'have', 'for', 'himself', 'after', 'won', 'about', 'by', 'i', 'has', \"haven't\", 'your', 'herself', 'itself', 'these', 'up', 'know', 'until', 'it', 'did', 'other', 'really', 'does', 'this', 'me', 'mightn', \"shouldn't\", \"you've\", 'some', \"hasn't\", 'than', 'had', 'hers', \"don't\", 'both', \"won't\", 'aren', 'its', 'before', 'needn', 'few', 'o', 'they', 'd', \"hadn't\", \"wasn't\", 'he', 'those', 'why', 'again', 'can', 'more', 'doing', 'down', 'below', 'we', 're', 'were', 'whom', 'against', 'am', 'been', 'each', 'ma', 'looking', \"shan't\", 'a', 'into', 'didn', 'not', \"mightn't\", 'ain', 'game', 'same', 'to', 'that', 'here', 'help', 'don', 'and', 'ours', 'hadn', 'shouldn', 'if', \"she's\", 'between', 'weren', 'because', 'through', 'you', 'will', 'games', 'such', 'which', \"didn't\", 'from', \"isn't\", \"needn't\", 'new', 'his', 'the', 'off', 'no', 'isn', 'of', 'do', 'my', 'under', 'doesn', 'with', 'gaming', \"that'll\", 'our', 'good', 'too', 'themselves', 'while', \"weren't\", 'only', 've', 'where'}}\n",
    "\n",
    "    # CPU times: user 1h 21min 6s, sys: 30 s, total: 1h 21min 36s\n",
    "    # Wall time: 1h 21min 36s"
   ]
  },
  {
   "cell_type": "markdown",
   "id": "b7d55848",
   "metadata": {},
   "source": [
    "**Count Vectorizer + AdaBoost Classifier**"
   ]
  },
  {
   "cell_type": "code",
   "execution_count": 25,
   "id": "61322cce",
   "metadata": {
    "scrolled": false
   },
   "outputs": [
    {
     "name": "stdout",
     "output_type": "stream",
     "text": [
      "Fitting 3 folds for each of 90 candidates, totalling 270 fits\n",
      "TRAINING:\n",
      "Accuracy: 0.9053383607858703\n",
      "\n",
      "TEST:\n",
      "Accuracy:  0.8970588235294118\n",
      "\n",
      "Recall:  0.9702100972091565\n",
      "Precision:  0.8814814814814815\n",
      "F1:  0.9237199582027169\n",
      "ROC_AUC:  0.867921950013029\n"
     ]
    },
    {
     "data": {
      "image/png": "[encoded data removed]",
      "text/plain": [
       "<Figure size 432x288 with 2 Axes>"
      ]
     },
     "metadata": {
      "needs_background": "light"
     },
     "output_type": "display_data"
    },
    {
     "name": "stdout",
     "output_type": "stream",
     "text": [
      "\n",
      "BEST PARAMETERS: {'model__learning_rate': 0.5, 'model__n_estimators': 200, 'vec__ngram_range': (1, 2), 'vec__stop_words': 'english'}\n",
      "\n",
      "CPU times: user 7min 45s, sys: 525 ms, total: 7min 46s\n",
      "Wall time: 7min 46s\n"
     ]
    }
   ],
   "source": [
    "%%time\n",
    "\n",
    "params = {\n",
    "    'vec__stop_words':[None,'english', stops],\n",
    "    'vec__ngram_range':[(1,1), (1,2)],\n",
    "    'model__n_estimators': [50, 100, 200],\n",
    "    'model__learning_rate':[0.001, 0.01, 0.1, 0.5, 1.0]\n",
    "}\n",
    "\n",
    "grid(CountVectorizer(), AdaBoostClassifier(random_state=42), params)"
   ]
  },
  {
   "cell_type": "code",
   "execution_count": 66,
   "id": "98be6554",
   "metadata": {},
   "outputs": [],
   "source": [
    "# ## EXTRA CODE TO SAVE CONFUSION MATRIX\n",
    "# cvecc= CountVectorizer(stop_words='english', ngram_range=(1,2))\n",
    "# adaa = AdaBoostClassifier(learning_rate=0.5, n_estimators=200)\n",
    "\n",
    "# pipeee = Pipeline([\n",
    "#     ('cvec', cvecc),\n",
    "#     ('ada', adaa)\n",
    "# ])\n",
    "\n",
    "# pipeee.fit(X_train, y_train)\n",
    "# predsss = pipeee.predict(X_test)\n",
    "# cmmm = confusion_matrix(y_test, predsss)\n",
    "\n",
    "\n",
    "# sns.heatmap(cmmm, cmap= 'cividis', annot=True, fmt='g', annot_kws={'size':20})\n",
    "# plt.xlabel('predicted', fontsize=18)\n",
    "# plt.ylabel('actual', fontsize=18)\n",
    "# plt.title('ADABOOST + CVEC', fontsize=18)\n",
    "# plt.savefig('../images/ada_cvec_cm.png', dpi=125, facecolor='white')"
   ]
  },
  {
   "cell_type": "markdown",
   "id": "017f642c",
   "metadata": {},
   "source": [
    "**TF-IDF Vectorizer + AdaBoost Classifier**"
   ]
  },
  {
   "cell_type": "code",
   "execution_count": 27,
   "id": "18199a8d",
   "metadata": {},
   "outputs": [
    {
     "name": "stdout",
     "output_type": "stream",
     "text": [
      "Fitting 3 folds for each of 90 candidates, totalling 270 fits\n",
      "TRAINING:\n",
      "Accuracy: 0.9070252034133757\n",
      "\n",
      "TEST:\n",
      "Accuracy:  0.8914182111200645\n",
      "\n",
      "Recall:  0.9642521166509878\n",
      "Precision:  0.8785714285714286\n",
      "F1:  0.9194199431903125\n",
      "ROC_AUC:  0.8624077484663389\n"
     ]
    },
    {
     "data": {
      "image/png": "[encoded data removed]",
      "text/plain": [
       "<Figure size 432x288 with 2 Axes>"
      ]
     },
     "metadata": {
      "needs_background": "light"
     },
     "output_type": "display_data"
    },
    {
     "name": "stdout",
     "output_type": "stream",
     "text": [
      "\n",
      "BEST PARAMETERS: {'model__learning_rate': 0.5, 'model__n_estimators': 200, 'vec__ngram_range': (1, 1), 'vec__stop_words': 'english'}\n",
      "\n",
      "CPU times: user 9min 50s, sys: 1.02 s, total: 9min 51s\n",
      "Wall time: 9min 51s\n"
     ]
    }
   ],
   "source": [
    "%%time\n",
    "\n",
    "params = {\n",
    "    'vec__stop_words':[None,'english', stops],\n",
    "    'vec__ngram_range':[(1,1), (1,2)],\n",
    "    'model__n_estimators': [50, 100, 200],\n",
    "    'model__learning_rate':[0.001, 0.01, 0.1, 0.5, 1.0]\n",
    "}\n",
    "\n",
    "grid(TfidfVectorizer(), AdaBoostClassifier(random_state=42), params)"
   ]
  },
  {
   "cell_type": "markdown",
   "id": "5a35f60c",
   "metadata": {},
   "source": [
    "## BEST SCORES FROM EACH GRIDSEARCHCV\n",
    "|  | Count Vectorizer | Parameters | TD-IDF Vectorizer | Parameters |\n",
    "|---|---:|---:|---:|---:|\n",
    "| **Logistic Regression** | Training: 0.98154<br>Testing: 0.90713<br>ROC_AUC: 0.88226 | {'model__penalty': 'l2',<br>'vec__max_features': None,<br>'vec__ngram_range': (1, 2),<br>'vec__stop_words': stops} | Training: 0.90812<br>Testing:0.89746<br>ROC_AUC: 0.87036 | {'model__penalty': 'l1',<br>'vec__max_features': 2000,<br>'vec__ngram_range': (1, 2),<br>'vec__stop_words': 'english'} |\n",
    "| **Random Forest Classifier** | Training: 0.99661<br>Testing: 0.89443<br>ROC_AUC: 0.87812 | {'model__class_weight':<br>'balanced_subsample',<br>'vec__ngram_range': (1, 2),<br>'vec__stop_words': stops} | Training: 0.99633<br>Testing: 0.90169<br>ROC_AUC: 0.88252 | {'model__class_weight': None,<br>'vec__ngram_range': (1, 1),<br>'vec__stop_words': stops} |\n",
    "| **Support Vector Classifier** | Training: 0.97728<br>Testing: 0.90371<br>ROC_AUC: 0.87972 | {'model__C': 100,<br>'model__gamma': 0.001,<br>'model__kernel': 'rbf',<br>'vec__ngram_range': (1, 2),<br>'vec__stop_words': stops} | Training: 0.98373<br>Testing: 0.91156<br>ROC_AUC: 0.89170 | {'model__C': 10,<br>'model__gamma': 0.1,<br>'model__kernel': 'sigmoid',<br>'vec__ngram_range': (1, 2),<br>'vec__stop_words': stops} |\n",
    "| **Ada Boost Classifier** | Training: 0.90534<br>Testing: 0.89705<br>ROC_AUC: 0.86792 | {'model__learning_rate': 0.5,<br>'model__n_estimators': 200,<br>'vec__ngram_range': (1, 2),<br>'vec__stop_words': 'english'} | Training: 0.90703<br>Testing: 0.89142<br>ROC_AUC: 0.86241 | {'model__learning_rate': 0.5,<br>'model__n_estimators': 200,<br>'vec__ngram_range': (1, 1),<br>'vec__stop_words': 'english'} |"
   ]
  },
  {
   "cell_type": "markdown",
   "id": "266c3c98",
   "metadata": {},
   "source": [
    "### SIMPLIFIED TABLE\n",
    "|  | Count Vectorizer | TD-IDF Vectorizer |\n",
    "|---|---:|---:|\n",
    "| **Logistic Regression** | Training: 0.98154<br>Testing: 0.90713<br>ROC_AUC: 0.88226 | Training: 0.90812<br>Testing:0.89746<br>ROC_AUC: 0.87036 |\n",
    "| **Random Forest Classifier** | Training: 0.99661<br>Testing: 0.89443<br>ROC_AUC: 0.87812 | Training: 0.99633<br>Testing: 0.90169<br>ROC_AUC: 0.88252 |\n",
    "| **Support Vector Classifier** | Training: 0.97728<br>Testing: 0.90371<br>ROC_AUC: 0.87972 | Training: 0.98373<br>Testing: 0.91156<br>ROC_AUC: 0.89170 |\n",
    "| **Ada Boost Classifier** | Training: 0.90534<br>Testing: 0.89705<br>ROC_AUC: 0.86792 | Training: 0.90703<br>Testing: 0.89142<br>ROC_AUC: 0.86241 |"
   ]
  },
  {
   "cell_type": "markdown",
   "id": "ce935841",
   "metadata": {},
   "source": [
    "### OBSERVATIONS\n",
    "The model with the lowest variance:\n",
    "<br>**AdaBoost Classifier with Count Vectorizer**\n",
    "- Training: 0.90534\n",
    "- Testing: 0.89705\n",
    "- ROC_AUC: 0.86792\n",
    "\n",
    "\n",
    "- Parameters:\n",
    "    - stop_words = 'english'\n",
    "    - ngram_range = (1,2)\n",
    "    - DecisionTreeClassifier(max_depth=1)\n",
    "    - n_estimators = 200\n",
    "    - learning_rate = 0.5\n",
    "    \n",
    "The model with the highest ROC_AUC:\n",
    "<br>**Support Vector Classifier with TF-IDF Vectorizer**\n",
    "- Training: 0.98373\n",
    "- Testing: 0.91156\n",
    "- ROC_AUC: 0.89170\n",
    "\n",
    "\n",
    "- Parameters:\n",
    "    - stop_words = stops (custom, extending English list)\n",
    "    - ngram_range = (1,2)\n",
    "    - kernel = sigmoid\n",
    "    - gamma = 0.1\n",
    "    - C = 10\n",
    "\n",
    "### CONCLUSION \n",
    "1. ***The AdaBoost Classifier with Count Vectorization*** would be the safest model for consistent predictions as it can generalize better due to it's low variance and low bias.\n",
    "2. However, despite having higher variance, ***the Support Vector Classifier with TF-IDF Vectorization*** could also yield good results as it's more capable of distinguishing between each subreddit due to it's higher ROC_AUC value -- also, its testing score is higher afterall and it has a very low bias.\n"
   ]
  },
  {
   "cell_type": "markdown",
   "id": "8518e15a",
   "metadata": {},
   "source": [
    "## (BONUS) ADDITIONAL TUNING\n",
    "As an attempt to attain stronger models, some additional tuning was considered:\n",
    "1. Random Forest Classifier\n",
    "    - 'criterion': [\"gini\", \"entropy\"]\n",
    "    - 'n_estimators': [100, 200, 300, 1000]\n",
    "2. AdaBoost Classifier\n",
    "    - 'max_depth':[1, 2, 3]"
   ]
  },
  {
   "cell_type": "markdown",
   "id": "c8b6b1a2",
   "metadata": {},
   "source": [
    "### 1. ADDITIONAL RANDOM FOREST TUNING ON CRITERION & N_ESTIMATORS"
   ]
  },
  {
   "cell_type": "markdown",
   "id": "19bbed2e",
   "metadata": {},
   "source": [
    "**Count Vectorizer + Random Forest Classifier**"
   ]
  },
  {
   "cell_type": "code",
   "execution_count": 39,
   "id": "d8bb8dba",
   "metadata": {},
   "outputs": [
    {
     "name": "stdout",
     "output_type": "stream",
     "text": [
      "Fitting 3 folds for each of 144 candidates, totalling 432 fits\n",
      "TRAINING:\n",
      "Accuracy: 0.997717801151022\n",
      "\n",
      "TEST:\n",
      "Accuracy:  0.9004834810636584\n",
      "\n",
      "Recall:  0.9495139542176231\n",
      "Precision:  0.9009223445403154\n",
      "F1:  0.9245801526717556\n",
      "ROC_AUC:  0.8809541602074031\n"
     ]
    },
    {
     "data": {
      "image/png": "[encoded data removed]",
      "text/plain": [
       "<Figure size 432x288 with 2 Axes>"
      ]
     },
     "metadata": {
      "needs_background": "light"
     },
     "output_type": "display_data"
    },
    {
     "name": "stdout",
     "output_type": "stream",
     "text": [
      "\n",
      "BEST PARAMETERS: {'model__class_weight': None, 'model__criterion': 'entropy', 'model__n_estimators': 300, 'vec__ngram_range': (1, 2), 'vec__stop_words': 'english'}\n",
      "\n",
      "CPU times: user 25min 18s, sys: 1min 14s, total: 26min 33s\n",
      "Wall time: 57min 6s\n"
     ]
    }
   ],
   "source": [
    "%%time\n",
    "\n",
    "params = {\n",
    "    'vec__stop_words':[None, 'english',stops],\n",
    "    'vec__ngram_range':[(1,1), (1,2)],\n",
    "#     'model__max_depth': [80, 90, 100, 110],\n",
    "#     'model__min_samples_leaf': [3, 4, 5],\n",
    "#     'model__min_samples_split': [8, 10, 12],\n",
    "    'model__n_estimators': [100, 200, 300, 1000],\n",
    "    'model__class_weight': [None, 'balanced', 'balanced_subsample'],\n",
    "    'model__criterion': [\"gini\", \"entropy\"]\n",
    "}\n",
    "\n",
    "grid(CountVectorizer(), RandomForestClassifier(n_jobs=-1, random_state=42), params)"
   ]
  },
  {
   "cell_type": "code",
   "execution_count": null,
   "id": "4c935a4b",
   "metadata": {},
   "outputs": [],
   "source": [
    "# ## SAVED RESULTS DUE TO EXCESSIVE TRAINING TIME (Count Vectorizer + Random Forest Classifier)\n",
    "\n",
    "    # Fitting 3 folds for each of 144 candidates, totalling 432 fits\n",
    "    # TRAINING:\n",
    "    # Accuracy: 0.997717801151022\n",
    "\n",
    "    # TEST:\n",
    "    # Accuracy:  0.9004834810636584\n",
    "\n",
    "    # Recall:  0.9495139542176231\n",
    "    # Precision:  0.9009223445403154\n",
    "    # F1:  0.9245801526717556\n",
    "    # ROC_AUC:  0.8809541602074031\n",
    "\n",
    "\n",
    "    # BEST PARAMETERS: {'model__class_weight': None, 'model__criterion': 'entropy', 'model__n_estimators': 300, 'vec__ngram_range': (1, 2), 'vec__stop_words': 'english'}\n",
    "\n",
    "    # CPU times: user 25min 18s, sys: 1min 14s, total: 26min 33s\n",
    "    # Wall time: 57min 6s"
   ]
  },
  {
   "cell_type": "markdown",
   "id": "d76a9f7a",
   "metadata": {},
   "source": [
    "**TF-IDF Vectorizer + Random Forest Classifier**"
   ]
  },
  {
   "cell_type": "code",
   "execution_count": 40,
   "id": "42c8685b",
   "metadata": {},
   "outputs": [
    {
     "name": "stdout",
     "output_type": "stream",
     "text": [
      "Fitting 3 folds for each of 144 candidates, totalling 432 fits\n",
      "TRAINING:\n",
      "Accuracy: 0.9964278626711649\n",
      "\n",
      "TEST:\n",
      "Accuracy:  0.9049153908138597\n",
      "\n",
      "Recall:  0.9529633113828786\n",
      "Precision:  0.9041951800059506\n",
      "F1:  0.9279389312977098\n",
      "ROC_AUC:  0.8857774303393267\n"
     ]
    },
    {
     "data": {
      "image/png": "[encoded data removed]",
      "text/plain": [
       "<Figure size 432x288 with 2 Axes>"
      ]
     },
     "metadata": {
      "needs_background": "light"
     },
     "output_type": "display_data"
    },
    {
     "name": "stdout",
     "output_type": "stream",
     "text": [
      "\n",
      "BEST PARAMETERS: {'model__class_weight': None, 'model__criterion': 'entropy', 'model__n_estimators': 1000, 'vec__ngram_range': (1, 1), 'vec__stop_words': {'then', 'nor', 'so', \"you'll\", 't', \"should've\", 'she', 'all', 'most', 'own', 's', 'any', 'but', \"aren't\", 'myself', 'haven', 'be', 'in', 'being', 'is', 'wouldn', 'their', 'when', 'couldn', 'them', 'her', 'an', 'once', 'at', 'mustn', 'on', 'play', 'll', 'out', 'further', \"you'd\", 'there', 'as', 'time', 'or', 'just', 'should', 'buy', 'want', 'above', 'having', 'are', 'him', 'y', 'hasn', 'yours', 'm', 'now', 'like', 'how', 'yourself', 'wasn', \"doesn't\", \"mustn't\", 'yourselves', \"it's\", \"wouldn't\", 'best', 'during', 'what', \"you're\", 'over', 'shan', \"couldn't\", 'ourselves', 'who', 'theirs', 'was', 'very', 'have', 'for', 'himself', 'after', 'won', 'about', 'by', 'i', 'has', \"haven't\", 'your', 'herself', 'itself', 'these', 'up', 'know', 'until', 'it', 'did', 'other', 'really', 'does', 'this', 'me', 'mightn', \"shouldn't\", \"you've\", 'some', \"hasn't\", 'than', 'had', 'hers', \"don't\", 'both', \"won't\", 'aren', 'its', 'before', 'needn', 'few', 'o', 'they', 'd', \"hadn't\", \"wasn't\", 'he', 'those', 'why', 'again', 'can', 'more', 'doing', 'down', 'below', 'we', 're', 'were', 'whom', 'against', 'am', 'been', 'each', 'ma', 'looking', \"shan't\", 'a', 'into', 'didn', 'not', \"mightn't\", 'ain', 'game', 'same', 'to', 'that', 'here', 'help', 'don', 'and', 'ours', 'hadn', 'shouldn', 'if', \"she's\", 'between', 'weren', 'because', 'through', 'you', 'will', 'games', 'such', 'which', \"didn't\", 'from', \"isn't\", \"needn't\", 'new', 'his', 'the', 'off', 'no', 'isn', 'of', 'do', 'my', 'under', 'doesn', 'with', 'gaming', \"that'll\", 'our', 'good', 'too', 'themselves', 'while', \"weren't\", 'only', 've', 'where'}}\n",
      "\n",
      "CPU times: user 19min 46s, sys: 1min 10s, total: 20min 57s\n",
      "Wall time: 49min 9s\n"
     ]
    }
   ],
   "source": [
    "%%time\n",
    "\n",
    "params = {\n",
    "    'vec__stop_words':[None,'english', stops],\n",
    "    'vec__ngram_range':[(1,1), (1,2)],\n",
    "#     'model__max_depth': [80, 90, 100, 110],\n",
    "#     'model__min_samples_leaf': [3, 4, 5],\n",
    "#     'model__min_samples_split': [8, 10, 12],\n",
    "    'model__n_estimators': [100, 200, 300, 1000],\n",
    "    'model__class_weight': [None, 'balanced', 'balanced_subsample'],\n",
    "    'model__criterion': [\"gini\", \"entropy\"]\n",
    "}\n",
    "\n",
    "grid(TfidfVectorizer(), RandomForestClassifier(n_jobs=-1, random_state=42), params)"
   ]
  },
  {
   "cell_type": "code",
   "execution_count": null,
   "id": "2f7ec3d0",
   "metadata": {},
   "outputs": [],
   "source": [
    "## OUTPUT SAVED DUE TO EXCESSIVE TRAINING TIME\n",
    "\n",
    "    # Fitting 3 folds for each of 144 candidates, totalling 432 fits\n",
    "    # TRAINING:\n",
    "    # Accuracy: 0.9964278626711649\n",
    "\n",
    "    # TEST:\n",
    "    # Accuracy:  0.9049153908138597\n",
    "\n",
    "    # Recall:  0.9529633113828786\n",
    "    # Precision:  0.9041951800059506\n",
    "    # F1:  0.9279389312977098\n",
    "    # ROC_AUC:  0.8857774303393267\n",
    "\n",
    "\n",
    "    # BEST PARAMETERS: {'model__class_weight': None, 'model__criterion': 'entropy', 'model__n_estimators': 1000, 'vec__ngram_range': (1, 1), 'vec__stop_words': {'then', 'nor', 'so', \"you'll\", 't', \"should've\", 'she', 'all', 'most', 'own', 's', 'any', 'but', \"aren't\", 'myself', 'haven', 'be', 'in', 'being', 'is', 'wouldn', 'their', 'when', 'couldn', 'them', 'her', 'an', 'once', 'at', 'mustn', 'on', 'play', 'll', 'out', 'further', \"you'd\", 'there', 'as', 'time', 'or', 'just', 'should', 'buy', 'want', 'above', 'having', 'are', 'him', 'y', 'hasn', 'yours', 'm', 'now', 'like', 'how', 'yourself', 'wasn', \"doesn't\", \"mustn't\", 'yourselves', \"it's\", \"wouldn't\", 'best', 'during', 'what', \"you're\", 'over', 'shan', \"couldn't\", 'ourselves', 'who', 'theirs', 'was', 'very', 'have', 'for', 'himself', 'after', 'won', 'about', 'by', 'i', 'has', \"haven't\", 'your', 'herself', 'itself', 'these', 'up', 'know', 'until', 'it', 'did', 'other', 'really', 'does', 'this', 'me', 'mightn', \"shouldn't\", \"you've\", 'some', \"hasn't\", 'than', 'had', 'hers', \"don't\", 'both', \"won't\", 'aren', 'its', 'before', 'needn', 'few', 'o', 'they', 'd', \"hadn't\", \"wasn't\", 'he', 'those', 'why', 'again', 'can', 'more', 'doing', 'down', 'below', 'we', 're', 'were', 'whom', 'against', 'am', 'been', 'each', 'ma', 'looking', \"shan't\", 'a', 'into', 'didn', 'not', \"mightn't\", 'ain', 'game', 'same', 'to', 'that', 'here', 'help', 'don', 'and', 'ours', 'hadn', 'shouldn', 'if', \"she's\", 'between', 'weren', 'because', 'through', 'you', 'will', 'games', 'such', 'which', \"didn't\", 'from', \"isn't\", \"needn't\", 'new', 'his', 'the', 'off', 'no', 'isn', 'of', 'do', 'my', 'under', 'doesn', 'with', 'gaming', \"that'll\", 'our', 'good', 'too', 'themselves', 'while', \"weren't\", 'only', 've', 'where'}}\n",
    "\n",
    "    # CPU times: user 19min 46s, sys: 1min 10s, total: 20min 57s\n",
    "    # Wall time: 49min 9s"
   ]
  },
  {
   "cell_type": "markdown",
   "id": "c296d2ba",
   "metadata": {},
   "source": [
    "### 2. ADDITIONAL ADABOOST TUNING ON MAX_DEPTH"
   ]
  },
  {
   "cell_type": "markdown",
   "id": "9a2d3e69",
   "metadata": {},
   "source": [
    "**Count Vectorizer + AdaBoost Classifier**"
   ]
  },
  {
   "cell_type": "code",
   "execution_count": 32,
   "id": "e5ed3e77",
   "metadata": {},
   "outputs": [
    {
     "name": "stdout",
     "output_type": "stream",
     "text": [
      "Fitting 3 folds for each of 270 candidates, totalling 810 fits\n",
      "TRAINING:\n",
      "Accuracy: 0.9300456439769795\n",
      "\n",
      "TEST:\n",
      "Accuracy:  0.9002820306204674\n",
      "\n",
      "Recall:  0.9633113828786454\n",
      "Precision:  0.8904347826086957\n",
      "F1:  0.9254405784003614\n",
      "ROC_AUC:  0.8751768181998861\n"
     ]
    },
    {
     "data": {
      "image/png": "[encoded data removed]",
      "text/plain": [
       "<Figure size 432x288 with 2 Axes>"
      ]
     },
     "metadata": {
      "needs_background": "light"
     },
     "output_type": "display_data"
    },
    {
     "name": "stdout",
     "output_type": "stream",
     "text": [
      "\n",
      "BEST PARAMETERS: {'model__base_estimator': DecisionTreeClassifier(max_depth=3), 'model__base_estimator__max_depth': 3, 'model__learning_rate': 0.1, 'model__n_estimators': 200, 'vec__ngram_range': (1, 2), 'vec__stop_words': None}\n",
      "\n",
      "CPU times: user 38min 4s, sys: 188 ms, total: 38min 5s\n",
      "Wall time: 38min 5s\n"
     ]
    }
   ],
   "source": [
    "%%time\n",
    "\n",
    "params = {\n",
    "    'vec__stop_words':[None,'english', stops],\n",
    "    'vec__ngram_range':[(1,1), (1,2)],\n",
    "    'model__base_estimator':[DecisionTreeClassifier()],\n",
    "    'model__base_estimator__max_depth':[1,2,3],\n",
    "    'model__n_estimators': [50, 100, 200],\n",
    "    'model__learning_rate':[0.001, 0.01, 0.1, 0.5, 1.0]\n",
    "}\n",
    "\n",
    "grid(CountVectorizer(), AdaBoostClassifier(random_state=42), params)"
   ]
  },
  {
   "cell_type": "markdown",
   "id": "f22b5ea0",
   "metadata": {},
   "source": [
    "**TF-IDF Vectorizer + AdaBoost Classifier**"
   ]
  },
  {
   "cell_type": "code",
   "execution_count": 33,
   "id": "08012f66",
   "metadata": {
    "scrolled": false
   },
   "outputs": [
    {
     "name": "stdout",
     "output_type": "stream",
     "text": [
      "Fitting 3 folds for each of 270 candidates, totalling 810 fits\n",
      "TRAINING:\n",
      "Accuracy: 0.9305417741615399\n",
      "\n",
      "TEST:\n",
      "Accuracy:  0.8936341659951652\n",
      "\n",
      "Recall:  0.9601756036375039\n",
      "Precision:  0.8842044470112619\n",
      "F1:  0.920625375826819\n",
      "ROC_AUC:  0.8671300553398787\n"
     ]
    },
    {
     "data": {
      "image/png": "[encoded data removed]",
      "text/plain": [
       "<Figure size 432x288 with 2 Axes>"
      ]
     },
     "metadata": {
      "needs_background": "light"
     },
     "output_type": "display_data"
    },
    {
     "name": "stdout",
     "output_type": "stream",
     "text": [
      "\n",
      "BEST PARAMETERS: {'model__base_estimator': DecisionTreeClassifier(max_depth=3), 'model__base_estimator__max_depth': 3, 'model__learning_rate': 0.1, 'model__n_estimators': 200, 'vec__ngram_range': (1, 1), 'vec__stop_words': {'then', 'nor', 'so', \"you'll\", 't', \"should've\", 'she', 'all', 'most', 'own', 's', 'any', 'but', \"aren't\", 'myself', 'haven', 'be', 'in', 'being', 'is', 'wouldn', 'their', 'when', 'couldn', 'them', 'her', 'an', 'once', 'at', 'mustn', 'on', 'play', 'll', 'out', 'further', \"you'd\", 'there', 'as', 'time', 'or', 'just', 'should', 'buy', 'want', 'above', 'having', 'are', 'him', 'y', 'hasn', 'yours', 'm', 'now', 'like', 'how', 'yourself', 'wasn', \"doesn't\", \"mustn't\", 'yourselves', \"it's\", \"wouldn't\", 'best', 'during', 'what', \"you're\", 'over', 'shan', \"couldn't\", 'ourselves', 'who', 'theirs', 'was', 'very', 'have', 'for', 'himself', 'after', 'won', 'about', 'by', 'i', 'has', \"haven't\", 'your', 'herself', 'itself', 'these', 'up', 'know', 'until', 'it', 'did', 'other', 'really', 'does', 'this', 'me', 'mightn', \"shouldn't\", \"you've\", 'some', \"hasn't\", 'than', 'had', 'hers', \"don't\", 'both', \"won't\", 'aren', 'its', 'before', 'needn', 'few', 'o', 'they', 'd', \"hadn't\", \"wasn't\", 'he', 'those', 'why', 'again', 'can', 'more', 'doing', 'down', 'below', 'we', 're', 'were', 'whom', 'against', 'am', 'been', 'each', 'ma', 'looking', \"shan't\", 'a', 'into', 'didn', 'not', \"mightn't\", 'ain', 'game', 'same', 'to', 'that', 'here', 'help', 'don', 'and', 'ours', 'hadn', 'shouldn', 'if', \"she's\", 'between', 'weren', 'because', 'through', 'you', 'will', 'games', 'such', 'which', \"didn't\", 'from', \"isn't\", \"needn't\", 'new', 'his', 'the', 'off', 'no', 'isn', 'of', 'do', 'my', 'under', 'doesn', 'with', 'gaming', \"that'll\", 'our', 'good', 'too', 'themselves', 'while', \"weren't\", 'only', 've', 'where'}}\n",
      "\n",
      "CPU times: user 51min 2s, sys: 344 ms, total: 51min 2s\n",
      "Wall time: 51min 3s\n"
     ]
    }
   ],
   "source": [
    "%%time\n",
    "\n",
    "params = {\n",
    "    'vec__stop_words':[None,'english', stops],\n",
    "    'vec__ngram_range':[(1,1), (1,2)],\n",
    "    'model__base_estimatorAdaBoost Classifier':[DecisionTreeClassifier()],\n",
    "    'model__base_estimator__max_depth':[1, 2, 3],\n",
    "    'model__n_estimators': [50, 100, 200],\n",
    "    'model__learning_rate':[0.001, 0.01, 0.1, 0.5, 1.0]\n",
    "}\n",
    "\n",
    "grid(TfidfVectorizer(), AdaBoostClassifier(random_state=42), params)"
   ]
  },
  {
   "cell_type": "markdown",
   "id": "533cccd1",
   "metadata": {},
   "source": [
    "### ADDITIONAL TUNING RESULTS\n",
    "|  | Count Vectorizer | Parameters | TD-IDF Vectorizer | Parameters |\n",
    "|---|---:|---:|---:|---:|\n",
    "| Random Forest Classifier | Training: 0.99771<br>Testing: 0.90048<br>ROC_AUC: 0.88095 | {'model__class_weight': None,<br>'model__criterion': 'entropy',<br>'model__n_estimators': 300,<br>'vec__ngram_range': (1, 2),<br>'vec__stop_words': 'english'} | Training: 0.99643<br>Testing: 0.90492<br>ROC_AUC: 0.88578 | {'model__class_weight': None,<br>'model__criterion': 'entropy',<br>'model__n_estimators': 1000,<br>'vec__ngram_range': (1, 1),<br>'vec__stop_words': stop} |\n",
    "| Ada Boost Classifier | Training: 0.93005<br>Testing: 0.90028<br>ROC_AUC: 0.87518 | {'model__base_estimator': DecisionTreeClassifier(max_depth=3),<br>'model__base_estimator__max_depth': 3,<br>'model__learning_rate': 0.1,<br>'model__n_estimators': 200,<br>'vec__ngram_range': (1, 2),<br>'vec__stop_words': None} | Training: 0.93054<br>Testing: 0.89363<br>ROC_AUC: 0.86713 | {'model__base_estimator': DecisionTreeClassifier(max_depth=3),<br>'model__base_estimator__max_depth': 3,<br>'model__learning_rate': 0.1,<br>'model__n_estimators': 200,<br>'vec__ngram_range': (1, 1),<br>'vec__stop_words': stops} |\n",
    "\n",
    "### SIMPLIFIED TABLE\n",
    "|  | Count Vectorizer | TD-IDF Vectorizer |\n",
    "|---|---:|---:|\n",
    "| Random Forest Classifier | Training: 0.99771<br>Testing: 0.90048<br>ROC_AUC: 0.88095 | Training: 0.99643<br>Testing: 0.90492<br>ROC_AUC: 0.88578 |\n",
    "| Ada Boost Classifier | Training: 0.93005<br>Testing: 0.90028<br>ROC_AUC: 0.87518 | Training: 0.93054<br>Testing: 0.89363<br>ROC_AUC: 0.86713 |\n",
    "\n",
    "### PREVIOUS SCORES\n",
    "|  | Count Vectorizer | TD-IDF Vectorizer |\n",
    "|---|---:|---:|\n",
    "| **Random Forest Classifier** | Training: 0.99661<br>Testing: 0.89443<br>ROC_AUC: 0.87812 | Training: 0.99633<br>Testing: 0.90169<br>ROC_AUC: 0.88252 |\n",
    "| **Ada Boost Classifier** | Training: 0.90534<br>Testing: 0.89705<br>ROC_AUC: 0.86792 | Training: 0.90703<br>Testing: 0.89142<br>ROC_AUC: 0.86241 |"
   ]
  },
  {
   "cell_type": "markdown",
   "id": "1a50185c",
   "metadata": {},
   "source": [
    "### ADDITIONAL TUNING OBSERVATION & CONCLUSION\n",
    "The additional tuning yielded **slightly higher training & test scores as well as ROC_AUC,** but the ***previous observation & conclusion*** of the lowest variance model and the highest ROC_AUC model still holds true:\n",
    "\n",
    "The model with the lowest variance:\n",
    "<br>**AdaBoost Classifier with Count Vectorizer (before additional tuning)**\n",
    "- Training: 0.90534\n",
    "- Testing: 0.89705\n",
    "- ROC_AUC: 0.86792\n",
    "\n",
    "The model with the highest ROC_AUC:\n",
    "<br>**Support Vector Classifier with TF-IDF Vectorizer**\n",
    "- Training: 0.98373\n",
    "- Testing: 0.91156\n",
    "- ROC_AUC: 0.89170\n",
    "\n",
    "Therefore, the additional tuning was not necessary."
   ]
  },
  {
   "cell_type": "markdown",
   "id": "8913548f",
   "metadata": {},
   "source": [
    "## FEATURE IMPORTANCE\n",
    "Let's observe the feature importances from the 1 of top 2 models selected:\n",
    "- **AdaBoost Classifer + Count Vectorizer**\n",
    "    - SVC + TF-IDF Vectorizer is not linear (kernel='sigmoid')\n",
    "        - cannot extract coefficients to determine feature importance"
   ]
  },
  {
   "cell_type": "markdown",
   "id": "a9b17a26",
   "metadata": {},
   "source": [
    "### 1. ADABOOST + COUNT"
   ]
  },
  {
   "cell_type": "code",
   "execution_count": 23,
   "id": "52b39496",
   "metadata": {},
   "outputs": [
    {
     "data": {
      "text/plain": [
       "Pipeline(steps=[('cvec',\n",
       "                 CountVectorizer(ngram_range=(1, 2), stop_words='english')),\n",
       "                ('abc',\n",
       "                 AdaBoostClassifier(learning_rate=0.5, n_estimators=200,\n",
       "                                    random_state=42))])"
      ]
     },
     "execution_count": 23,
     "metadata": {},
     "output_type": "execute_result"
    }
   ],
   "source": [
    "# Refit based on best estimators\n",
    "\n",
    "# AdaBoost + Count \n",
    "cvec = CountVectorizer(ngram_range=(1,2), stop_words='english')\n",
    "abc = AdaBoostClassifier(random_state=42, learning_rate=0.5, n_estimators=200)\n",
    "\n",
    "pipe1 = Pipeline([('cvec', cvec),\n",
    "                  ('abc', abc)])\n",
    "\n",
    "pipe1.fit(X_train, y_train)"
   ]
  },
  {
   "cell_type": "code",
   "execution_count": 24,
   "id": "f0c30ca9",
   "metadata": {},
   "outputs": [
    {
     "name": "stdout",
     "output_type": "stream",
     "text": [
      "0.9053383607858703\n",
      "0.8970588235294118\n"
     ]
    }
   ],
   "source": [
    "# Scores confirmed\n",
    "print(pipe1.score(X_train, y_train))\n",
    "print(pipe1.score(X_test, y_test))"
   ]
  },
  {
   "cell_type": "code",
   "execution_count": 35,
   "id": "22dc99da",
   "metadata": {},
   "outputs": [
    {
     "data": {
      "text/html": [
       "<div>\n",
       "<style scoped>\n",
       "    .dataframe tbody tr th:only-of-type {\n",
       "        vertical-align: middle;\n",
       "    }\n",
       "\n",
       "    .dataframe tbody tr th {\n",
       "        vertical-align: top;\n",
       "    }\n",
       "\n",
       "    .dataframe thead th {\n",
       "        text-align: right;\n",
       "    }\n",
       "</style>\n",
       "<table border=\"1\" class=\"dataframe\">\n",
       "  <thead>\n",
       "    <tr style=\"text-align: right;\">\n",
       "      <th></th>\n",
       "      <th>feature_importance</th>\n",
       "    </tr>\n",
       "  </thead>\n",
       "  <tbody>\n",
       "    <tr>\n",
       "      <th>youtube damn</th>\n",
       "      <td>127844</td>\n",
       "    </tr>\n",
       "    <tr>\n",
       "      <th>cores radeon</th>\n",
       "      <td>127843</td>\n",
       "    </tr>\n",
       "    <tr>\n",
       "      <th>games gotten</th>\n",
       "      <td>127842</td>\n",
       "    </tr>\n",
       "    <tr>\n",
       "      <th>games grand</th>\n",
       "      <td>127841</td>\n",
       "    </tr>\n",
       "    <tr>\n",
       "      <th>games granted</th>\n",
       "      <td>127840</td>\n",
       "    </tr>\n",
       "    <tr>\n",
       "      <th>...</th>\n",
       "      <td>...</td>\n",
       "    </tr>\n",
       "    <tr>\n",
       "      <th>prevalent snes</th>\n",
       "      <td>4</td>\n",
       "    </tr>\n",
       "    <tr>\n",
       "      <th>prevent</th>\n",
       "      <td>3</td>\n",
       "    </tr>\n",
       "    <tr>\n",
       "      <th>prevent damage</th>\n",
       "      <td>2</td>\n",
       "    </tr>\n",
       "    <tr>\n",
       "      <th>prevent dust</th>\n",
       "      <td>1</td>\n",
       "    </tr>\n",
       "    <tr>\n",
       "      <th>aa</th>\n",
       "      <td>0</td>\n",
       "    </tr>\n",
       "  </tbody>\n",
       "</table>\n",
       "<p>127845 rows × 1 columns</p>\n",
       "</div>"
      ],
      "text/plain": [
       "                feature_importance\n",
       "youtube damn                127844\n",
       "cores radeon                127843\n",
       "games gotten                127842\n",
       "games grand                 127841\n",
       "games granted               127840\n",
       "...                            ...\n",
       "prevalent snes                   4\n",
       "prevent                          3\n",
       "prevent damage                   2\n",
       "prevent dust                     1\n",
       "aa                               0\n",
       "\n",
       "[127845 rows x 1 columns]"
      ]
     },
     "execution_count": 35,
     "metadata": {},
     "output_type": "execute_result"
    }
   ],
   "source": [
    "# Feature names \n",
    "features1 = cvec.get_feature_names()\n",
    "importance1 = abc.feature_importances_.argsort()\n",
    "\n",
    "# To dataframe for visual presentation\n",
    "abc_df = pd.DataFrame(data=importance1, columns=['feature_importance'], index=features1)\n",
    "\n",
    "# Top 5 & bottom 5 feature importances\n",
    "abc_df = abc_df.sort_values('feature_importance', ascending=False)\n",
    "abc_df"
   ]
  },
  {
   "cell_type": "code",
   "execution_count": 72,
   "id": "521c6c98",
   "metadata": {},
   "outputs": [
    {
     "data": {
      "text/html": [
       "<div>\n",
       "<style scoped>\n",
       "    .dataframe tbody tr th:only-of-type {\n",
       "        vertical-align: middle;\n",
       "    }\n",
       "\n",
       "    .dataframe tbody tr th {\n",
       "        vertical-align: top;\n",
       "    }\n",
       "\n",
       "    .dataframe thead th {\n",
       "        text-align: right;\n",
       "    }\n",
       "</style>\n",
       "<table border=\"1\" class=\"dataframe\">\n",
       "  <thead>\n",
       "    <tr style=\"text-align: right;\">\n",
       "      <th></th>\n",
       "      <th>feature_importance</th>\n",
       "    </tr>\n",
       "  </thead>\n",
       "  <tbody>\n",
       "    <tr>\n",
       "      <th>game original</th>\n",
       "      <td>123849</td>\n",
       "    </tr>\n",
       "    <tr>\n",
       "      <th>game originally</th>\n",
       "      <td>123848</td>\n",
       "    </tr>\n",
       "    <tr>\n",
       "      <th>game ostensibly</th>\n",
       "      <td>123847</td>\n",
       "    </tr>\n",
       "    <tr>\n",
       "      <th>game outdated</th>\n",
       "      <td>123846</td>\n",
       "    </tr>\n",
       "    <tr>\n",
       "      <th>game overall</th>\n",
       "      <td>123845</td>\n",
       "    </tr>\n",
       "    <tr>\n",
       "      <th>gaming rise</th>\n",
       "      <td>123844</td>\n",
       "    </tr>\n",
       "    <tr>\n",
       "      <th>gauntlet formula</th>\n",
       "      <td>123843</td>\n",
       "    </tr>\n",
       "    <tr>\n",
       "      <th>grrms qr</th>\n",
       "      <td>123842</td>\n",
       "    </tr>\n",
       "    <tr>\n",
       "      <th>gauntlets</th>\n",
       "      <td>123841</td>\n",
       "    </tr>\n",
       "    <tr>\n",
       "      <th>got million</th>\n",
       "      <td>123840</td>\n",
       "    </tr>\n",
       "    <tr>\n",
       "      <th>got minecraft</th>\n",
       "      <td>123839</td>\n",
       "    </tr>\n",
       "    <tr>\n",
       "      <th>got modded</th>\n",
       "      <td>123838</td>\n",
       "    </tr>\n",
       "    <tr>\n",
       "      <th>got money</th>\n",
       "      <td>123837</td>\n",
       "    </tr>\n",
       "    <tr>\n",
       "      <th>got monkeys</th>\n",
       "      <td>123836</td>\n",
       "    </tr>\n",
       "    <tr>\n",
       "      <th>got months</th>\n",
       "      <td>123835</td>\n",
       "    </tr>\n",
       "  </tbody>\n",
       "</table>\n",
       "</div>"
      ],
      "text/plain": [
       "                  feature_importance\n",
       "game original                 123849\n",
       "game originally               123848\n",
       "game ostensibly               123847\n",
       "game outdated                 123846\n",
       "game overall                  123845\n",
       "gaming rise                   123844\n",
       "gauntlet formula              123843\n",
       "grrms qr                      123842\n",
       "gauntlets                     123841\n",
       "got million                   123840\n",
       "got minecraft                 123839\n",
       "got modded                    123838\n",
       "got money                     123837\n",
       "got monkeys                   123836\n",
       "got months                    123835"
      ]
     },
     "execution_count": 72,
     "metadata": {},
     "output_type": "execute_result"
    }
   ],
   "source": [
    "# About the top 4000 features consisted of combinations of\n",
    "# game/games/gaming\n",
    "abc_df[3995:4010]"
   ]
  },
  {
   "cell_type": "code",
   "execution_count": 41,
   "id": "e45590f2",
   "metadata": {},
   "outputs": [
    {
     "data": {
      "image/png": "[encoded data removed]",
      "text/plain": [
       "<Figure size 576x576 with 1 Axes>"
      ]
     },
     "metadata": {
      "needs_background": "light"
     },
     "output_type": "display_data"
    }
   ],
   "source": [
    "# Horizontal bar chart for visual\n",
    "top_abc = abc_df.head(20)\n",
    "\n",
    "plt.figure(figsize=(8,8))\n",
    "plt.title('FEATURE IMPORTANCE (SVC+TF-IDF)', weight='bold')\n",
    "plt.barh(top_abc.index, top_abc['feature_importance'][:20])\n",
    "plt.gca().invert_yaxis()\n",
    "\n",
    "## Plotting doesn't really make sense since the top features\n",
    "## have a differnce of 1 between each other\n",
    "## starting from the highest value of 127844"
   ]
  },
  {
   "cell_type": "markdown",
   "id": "05c1cd5a",
   "metadata": {},
   "source": [
    "### (ADABOOST+COUNT) FEATURE IMPORTANCE OBSERVATION\n",
    "It seems that many combinations of games + \"word\" had an impact on the models performance in predicting the PC Gaming subreddit.\n",
    "\n",
    "As the model was tuned to only remove the original 'English' stop words instead of the custom one, this was to be expected. "
   ]
  },
  {
   "cell_type": "markdown",
   "id": "b3ff714a",
   "metadata": {},
   "source": [
    "### 2. SVC + TF-IDF\n",
    "Since the best SVC model is non-linear, we'll tune for a linear SVC model and take a look at the coefficients."
   ]
  },
  {
   "cell_type": "code",
   "execution_count": 100,
   "id": "6316fde5",
   "metadata": {},
   "outputs": [
    {
     "name": "stdout",
     "output_type": "stream",
     "text": [
      "Fitting 3 folds for each of 16 candidates, totalling 48 fits\n"
     ]
    }
   ],
   "source": [
    "# Utilizing the same vectorizer parameters\n",
    "# Only tuning gamma and C\n",
    "tfid = TfidfVectorizer(ngram_range=(1,2), stop_words=stops)\n",
    "svc = SVC(random_state=42, kernel='linear')\n",
    "\n",
    "params_svc = {'svc__C':[0.1, 1, 10, 100],\n",
    "          'svc__gamma': [1, 0.1, 0.01, 0.001]}\n",
    "\n",
    "pipe2 = Pipeline([('tfid', tfid),\n",
    "                  ('svc', svc)])\n",
    "\n",
    "gs = GridSearchCV(pipe2,\n",
    "                 params_svc,\n",
    "                 cv=3,\n",
    "                 verbose=1)\n",
    "\n",
    "gs.fit(X_train, y_train)\n",
    "best_gs = gs.best_estimator_"
   ]
  },
  {
   "cell_type": "code",
   "execution_count": 102,
   "id": "346a9644",
   "metadata": {},
   "outputs": [
    {
     "name": "stdout",
     "output_type": "stream",
     "text": [
      "0.9840246080571542\n",
      "0.911563255439162\n",
      "0.8917008731599381\n",
      "\n",
      "{'svc__C': 1, 'svc__gamma': 1}\n"
     ]
    }
   ],
   "source": [
    "# Scores\n",
    "best_gs.fit(X_train, y_train)\n",
    "print(best_gs.score(X_train, y_train))\n",
    "print(best_gs.score(X_test, y_test))\n",
    "print(roc_auc_score(y_test, best_gs.predict(X_test)))\n",
    "print()\n",
    "print(gs.best_params_)\n",
    "\n",
    "    ## Suprisingly comparable to the best SVC model"
   ]
  },
  {
   "cell_type": "markdown",
   "id": "ffd7ab06",
   "metadata": {},
   "source": [
    "### Surpisingly identical (slightly better) than the best SVC model (kernel='sigmoid')\n",
    "Support Vector Classifier with TF-IDF Vectorizer \n",
    "- Training: 0.98373\n",
    "- Testing: 0.91156\n",
    "- ROC_AUC: 0.89170\n",
    "\n",
    "\n",
    "- Parameters:\n",
    "    - kernal='linear'\n",
    "    - C=1\n",
    "    - gamma=1\n",
    "\n",
    "**I should've included 'linear' in the list of kernals during the SVC hypertuning.**"
   ]
  },
  {
   "cell_type": "code",
   "execution_count": 26,
   "id": "f4899648",
   "metadata": {},
   "outputs": [
    {
     "data": {
      "text/plain": [
       "Pipeline(steps=[('tfid',\n",
       "                 TfidfVectorizer(ngram_range=(1, 2),\n",
       "                                 stop_words={'a', 'about', 'above', 'after',\n",
       "                                             'again', 'against', 'ain', 'all',\n",
       "                                             'am', 'an', 'and', 'any', 'are',\n",
       "                                             'aren', \"aren't\", 'as', 'at', 'be',\n",
       "                                             'because', 'been', 'before',\n",
       "                                             'being', 'below', 'best',\n",
       "                                             'between', 'both', 'but', 'buy',\n",
       "                                             'by', 'can', ...})),\n",
       "                ('svc', SVC(C=1, gamma=1, kernel='linear', random_state=42))])"
      ]
     },
     "execution_count": 26,
     "metadata": {},
     "output_type": "execute_result"
    }
   ],
   "source": [
    "# Refit based on best estimators\n",
    "\n",
    "# SCV + TF_IDF \n",
    "tfid = TfidfVectorizer(ngram_range=(1,2), stop_words=stops)\n",
    "svc = SVC(random_state=42, kernel='linear', gamma=1, C=1)\n",
    "\n",
    "pipe2 = Pipeline([('tfid', tfid),\n",
    "                  ('svc', svc)])\n",
    "\n",
    "pipe2.fit(X_train, y_train)"
   ]
  },
  {
   "cell_type": "code",
   "execution_count": 27,
   "id": "5af5bb17",
   "metadata": {},
   "outputs": [
    {
     "name": "stdout",
     "output_type": "stream",
     "text": [
      "0.9840246080571542\n",
      "0.911563255439162\n"
     ]
    }
   ],
   "source": [
    "# Scores confirmed\n",
    "print(pipe2.score(X_train, y_train))\n",
    "print(pipe2.score(X_test, y_test))"
   ]
  },
  {
   "cell_type": "code",
   "execution_count": 33,
   "id": "522665df",
   "metadata": {},
   "outputs": [
    {
     "data": {
      "text/html": [
       "<div>\n",
       "<style scoped>\n",
       "    .dataframe tbody tr th:only-of-type {\n",
       "        vertical-align: middle;\n",
       "    }\n",
       "\n",
       "    .dataframe tbody tr th {\n",
       "        vertical-align: top;\n",
       "    }\n",
       "\n",
       "    .dataframe thead th {\n",
       "        text-align: right;\n",
       "    }\n",
       "</style>\n",
       "<table border=\"1\" class=\"dataframe\">\n",
       "  <thead>\n",
       "    <tr style=\"text-align: right;\">\n",
       "      <th></th>\n",
       "      <th>feature_importance</th>\n",
       "    </tr>\n",
       "  </thead>\n",
       "  <tbody>\n",
       "    <tr>\n",
       "      <th>pc</th>\n",
       "      <td>4.434032</td>\n",
       "    </tr>\n",
       "    <tr>\n",
       "      <th>steam</th>\n",
       "      <td>2.812331</td>\n",
       "    </tr>\n",
       "    <tr>\n",
       "      <th>pc ps</th>\n",
       "      <td>1.720665</td>\n",
       "    </tr>\n",
       "    <tr>\n",
       "      <th>windows</th>\n",
       "      <td>1.527576</td>\n",
       "    </tr>\n",
       "    <tr>\n",
       "      <th>one controller</th>\n",
       "      <td>1.494258</td>\n",
       "    </tr>\n",
       "    <tr>\n",
       "      <th>...</th>\n",
       "      <td>...</td>\n",
       "    </tr>\n",
       "    <tr>\n",
       "      <th>nintendo</th>\n",
       "      <td>-5.000389</td>\n",
       "    </tr>\n",
       "    <tr>\n",
       "      <th>xbox</th>\n",
       "      <td>-5.502925</td>\n",
       "    </tr>\n",
       "    <tr>\n",
       "      <th>consoles</th>\n",
       "      <td>-6.815943</td>\n",
       "    </tr>\n",
       "    <tr>\n",
       "      <th>ps</th>\n",
       "      <td>-7.800251</td>\n",
       "    </tr>\n",
       "    <tr>\n",
       "      <th>console</th>\n",
       "      <td>-8.729208</td>\n",
       "    </tr>\n",
       "  </tbody>\n",
       "</table>\n",
       "<p>133445 rows × 1 columns</p>\n",
       "</div>"
      ],
      "text/plain": [
       "                feature_importance\n",
       "pc                        4.434032\n",
       "steam                     2.812331\n",
       "pc ps                     1.720665\n",
       "windows                   1.527576\n",
       "one controller            1.494258\n",
       "...                            ...\n",
       "nintendo                 -5.000389\n",
       "xbox                     -5.502925\n",
       "consoles                 -6.815943\n",
       "ps                       -7.800251\n",
       "console                  -8.729208\n",
       "\n",
       "[133445 rows x 1 columns]"
      ]
     },
     "execution_count": 33,
     "metadata": {},
     "output_type": "execute_result"
    }
   ],
   "source": [
    "# Feature names \n",
    "features2 = tfid.get_feature_names()\n",
    "importance2 = svc.coef_.toarray().T\n",
    "\n",
    "# Dataframe\n",
    "svc_df = pd.DataFrame(data=importance2, columns=['feature_importance'], index=features2)\n",
    "\n",
    "# Top 5 & bottom 5 feature importances\n",
    "svc_df = svc_df.sort_values('feature_importance', ascending=False)\n",
    "svc_df\n",
    "\n",
    "## Top 5 = best 5 for predicting PC Gaming subreddit\n",
    "## Bottom 5 = best 5 for predicting Console Gaming subreddit "
   ]
  },
  {
   "cell_type": "code",
   "execution_count": 59,
   "id": "3928a620",
   "metadata": {},
   "outputs": [
    {
     "data": {
      "text/html": [
       "<div>\n",
       "<style scoped>\n",
       "    .dataframe tbody tr th:only-of-type {\n",
       "        vertical-align: middle;\n",
       "    }\n",
       "\n",
       "    .dataframe tbody tr th {\n",
       "        vertical-align: top;\n",
       "    }\n",
       "\n",
       "    .dataframe thead th {\n",
       "        text-align: right;\n",
       "    }\n",
       "</style>\n",
       "<table border=\"1\" class=\"dataframe\">\n",
       "  <thead>\n",
       "    <tr style=\"text-align: right;\">\n",
       "      <th></th>\n",
       "      <th>feature_importance</th>\n",
       "    </tr>\n",
       "  </thead>\n",
       "  <tbody>\n",
       "    <tr>\n",
       "      <th>pc</th>\n",
       "      <td>4.434032</td>\n",
       "    </tr>\n",
       "    <tr>\n",
       "      <th>steam</th>\n",
       "      <td>2.812331</td>\n",
       "    </tr>\n",
       "    <tr>\n",
       "      <th>pc ps</th>\n",
       "      <td>1.720665</td>\n",
       "    </tr>\n",
       "    <tr>\n",
       "      <th>windows</th>\n",
       "      <td>1.527576</td>\n",
       "    </tr>\n",
       "    <tr>\n",
       "      <th>one controller</th>\n",
       "      <td>1.494258</td>\n",
       "    </tr>\n",
       "    <tr>\n",
       "      <th>xbox app</th>\n",
       "      <td>1.477866</td>\n",
       "    </tr>\n",
       "    <tr>\n",
       "      <th>console player</th>\n",
       "      <td>1.445478</td>\n",
       "    </tr>\n",
       "    <tr>\n",
       "      <th>player</th>\n",
       "      <td>1.417145</td>\n",
       "    </tr>\n",
       "    <tr>\n",
       "      <th>controller pc</th>\n",
       "      <td>1.384644</td>\n",
       "    </tr>\n",
       "    <tr>\n",
       "      <th>laptop</th>\n",
       "      <td>1.377184</td>\n",
       "    </tr>\n",
       "  </tbody>\n",
       "</table>\n",
       "</div>"
      ],
      "text/plain": [
       "                feature_importance\n",
       "pc                        4.434032\n",
       "steam                     2.812331\n",
       "pc ps                     1.720665\n",
       "windows                   1.527576\n",
       "one controller            1.494258\n",
       "xbox app                  1.477866\n",
       "console player            1.445478\n",
       "player                    1.417145\n",
       "controller pc             1.384644\n",
       "laptop                    1.377184"
      ]
     },
     "execution_count": 59,
     "metadata": {},
     "output_type": "execute_result"
    }
   ],
   "source": [
    "svc_df.head(10)"
   ]
  },
  {
   "cell_type": "code",
   "execution_count": 60,
   "id": "659af436",
   "metadata": {},
   "outputs": [
    {
     "data": {
      "text/html": [
       "<div>\n",
       "<style scoped>\n",
       "    .dataframe tbody tr th:only-of-type {\n",
       "        vertical-align: middle;\n",
       "    }\n",
       "\n",
       "    .dataframe tbody tr th {\n",
       "        vertical-align: top;\n",
       "    }\n",
       "\n",
       "    .dataframe thead th {\n",
       "        text-align: right;\n",
       "    }\n",
       "</style>\n",
       "<table border=\"1\" class=\"dataframe\">\n",
       "  <thead>\n",
       "    <tr style=\"text-align: right;\">\n",
       "      <th></th>\n",
       "      <th>feature_importance</th>\n",
       "    </tr>\n",
       "  </thead>\n",
       "  <tbody>\n",
       "    <tr>\n",
       "      <th>xbox one</th>\n",
       "      <td>-2.948043</td>\n",
       "    </tr>\n",
       "    <tr>\n",
       "      <th>ds</th>\n",
       "      <td>-3.134904</td>\n",
       "    </tr>\n",
       "    <tr>\n",
       "      <th>switch</th>\n",
       "      <td>-3.231107</td>\n",
       "    </tr>\n",
       "    <tr>\n",
       "      <th>wii</th>\n",
       "      <td>-3.640312</td>\n",
       "    </tr>\n",
       "    <tr>\n",
       "      <th>playstation</th>\n",
       "      <td>-4.484609</td>\n",
       "    </tr>\n",
       "    <tr>\n",
       "      <th>nintendo</th>\n",
       "      <td>-5.000389</td>\n",
       "    </tr>\n",
       "    <tr>\n",
       "      <th>xbox</th>\n",
       "      <td>-5.502925</td>\n",
       "    </tr>\n",
       "    <tr>\n",
       "      <th>consoles</th>\n",
       "      <td>-6.815943</td>\n",
       "    </tr>\n",
       "    <tr>\n",
       "      <th>ps</th>\n",
       "      <td>-7.800251</td>\n",
       "    </tr>\n",
       "    <tr>\n",
       "      <th>console</th>\n",
       "      <td>-8.729208</td>\n",
       "    </tr>\n",
       "  </tbody>\n",
       "</table>\n",
       "</div>"
      ],
      "text/plain": [
       "             feature_importance\n",
       "xbox one              -2.948043\n",
       "ds                    -3.134904\n",
       "switch                -3.231107\n",
       "wii                   -3.640312\n",
       "playstation           -4.484609\n",
       "nintendo              -5.000389\n",
       "xbox                  -5.502925\n",
       "consoles              -6.815943\n",
       "ps                    -7.800251\n",
       "console               -8.729208"
      ]
     },
     "execution_count": 60,
     "metadata": {},
     "output_type": "execute_result"
    }
   ],
   "source": [
    "svc_df.tail(10)"
   ]
  },
  {
   "cell_type": "code",
   "execution_count": 55,
   "id": "189c7497",
   "metadata": {},
   "outputs": [
    {
     "data": {
      "image/png": "[encoded data removed]",
      "text/plain": [
       "<Figure size 576x576 with 1 Axes>"
      ]
     },
     "metadata": {
      "needs_background": "light"
     },
     "output_type": "display_data"
    }
   ],
   "source": [
    "# Horizontal bar chart for visual\n",
    "top_svc = pd.concat([svc_df.head(),svc_df.tail()])\n",
    "\n",
    "plt.figure(figsize=(8,8))\n",
    "plt.title('FEATURE IMPORTANCE (SVC+TF-IDF)', weight='bold')\n",
    "plt.barh(top_svc.index, top_svc['feature_importance'][:20])\n",
    "plt.gca().invert_yaxis()\n",
    "plt.savefig(fname='../images/svc_importance.png', dpi=75)"
   ]
  },
  {
   "cell_type": "markdown",
   "id": "b2cb3fc6",
   "metadata": {},
   "source": [
    "### (SVC+TF-IDF) FEATURE IMPORTANCE OBSERVATION\n",
    "Since the custom stop words list was used for removal, we no longer see combinations of \"games\" + \"words\" compared to the previous list.\n",
    "<br>Instead more distinctive single words have a heavier level of importance (along with some two word combinations that consist of the listed single words).\n",
    "\n",
    "Examples:\n",
    "- pc\n",
    "- steam\n",
    "- windows\n",
    "- laptop\n",
    "- player\n",
    "- controller\n",
    "- console/consoles\n",
    "- ps/playstation\n",
    "- xbox\n",
    "\n",
    "**This further supports that fact that this model has a strong performance with separability (higher ROC_AUC).**"
   ]
  },
  {
   "cell_type": "markdown",
   "id": "0ae5e9b9",
   "metadata": {},
   "source": [
    "# FINAL CONCLUSION\n",
    "To achieve the goal of correctly predicting whether a post belongs to subreddit r/pcgaming or r/consoles, one of the two models can be utilized:\n",
    "1. **ADABOOST CLASSIFIER with COUNT VECTORIZATION**\n",
    "    - lowest variance for consistent predictions and best generalization\n",
    "    \n",
    "    \n",
    "2. **SUPPORT VECTOR CLASSIFER with TF-IDF VECTORIZATION**\n",
    "    - highest roc_auc for strong separability performance (and lowest bias)\n",
    "    \n",
    "### RECOMENDATIONS\n",
    "1. Implement lemmatization or stemming. Looking in retrospect, tuning between lemmatizing, stemming, or neither may potentially yield better results.\n",
    "2. Repeat the analysis once the console gaming community has expanded by a lot and has at least 10000 posts.\n",
    "3. As a large portion of posts were image-only posts, incorporating an image processing method could provide more information and potentially useful features."
   ]
  }
 ],
 "metadata": {
  "kernelspec": {
   "display_name": "Python 3 (ipykernel)",
   "language": "python",
   "name": "python3"
  },
  "language_info": {
   "codemirror_mode": {
    "name": "ipython",
    "version": 3
   },
   "file_extension": ".py",
   "mimetype": "text/x-python",
   "name": "python",
   "nbconvert_exporter": "python",
   "pygments_lexer": "ipython3",
   "version": "3.9.7"
  }
 },
 "nbformat": 4,
 "nbformat_minor": 5
}
