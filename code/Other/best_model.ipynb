{
 "cells": [
  {
   "cell_type": "code",
   "execution_count": 1,
   "id": "1944491b",
   "metadata": {},
   "outputs": [
    {
     "name": "stderr",
     "output_type": "stream",
     "text": [
      "2022-02-21 02:34:54.041687: W tensorflow/stream_executor/platform/default/dso_loader.cc:64] Could not load dynamic library 'libcudart.so.11.0'; dlerror: libcudart.so.11.0: cannot open shared object file: No such file or directory\n",
      "2022-02-21 02:34:54.041706: I tensorflow/stream_executor/cuda/cudart_stub.cc:29] Ignore above cudart dlerror if you do not have a GPU set up on your machine.\n"
     ]
    }
   ],
   "source": [
    "import pandas as pd, numpy as np\n",
    "\n",
    "from sklearn.preprocessing import LabelBinarizer\n",
    "from sklearn.model_selection import train_test_split\n",
    "\n",
    "from tensorflow.keras.utils import to_categorical\n",
    "from tensorflow.keras.models import Sequential\n",
    "from tensorflow.keras.layers import Dense, Dropout, Flatten, BatchNormalization, Conv1D, AveragePooling1D\n",
    "from tensorflow.keras.callbacks import EarlyStopping"
   ]
  },
  {
   "cell_type": "code",
   "execution_count": 2,
   "id": "be397400",
   "metadata": {},
   "outputs": [
    {
     "data": {
      "text/html": [
       "<div>\n",
       "<style scoped>\n",
       "    .dataframe tbody tr th:only-of-type {\n",
       "        vertical-align: middle;\n",
       "    }\n",
       "\n",
       "    .dataframe tbody tr th {\n",
       "        vertical-align: top;\n",
       "    }\n",
       "\n",
       "    .dataframe thead th {\n",
       "        text-align: right;\n",
       "    }\n",
       "</style>\n",
       "<table border=\"1\" class=\"dataframe\">\n",
       "  <thead>\n",
       "    <tr style=\"text-align: right;\">\n",
       "      <th></th>\n",
       "      <th>sequence</th>\n",
       "      <th>is_promoter</th>\n",
       "    </tr>\n",
       "  </thead>\n",
       "  <tbody>\n",
       "    <tr>\n",
       "      <th>0</th>\n",
       "      <td>TTAATTTGTCCTTATTTGATTAAGAAGAATAAATCTTATATATAGA...</td>\n",
       "      <td>1</td>\n",
       "    </tr>\n",
       "    <tr>\n",
       "      <th>1</th>\n",
       "      <td>ATAGCTCAAATTGCTTTATTAGTATTAGAATCAGCTGTAGCTATAA...</td>\n",
       "      <td>1</td>\n",
       "    </tr>\n",
       "    <tr>\n",
       "      <th>2</th>\n",
       "      <td>AAGCTTCCCTTTAATGTGCTCCTTGTGAATACAGCATTACAATGCC...</td>\n",
       "      <td>1</td>\n",
       "    </tr>\n",
       "    <tr>\n",
       "      <th>3</th>\n",
       "      <td>TATGTAGAATCTGTACAAGTATCTGTGTTTGGACAATGGCATGTGT...</td>\n",
       "      <td>1</td>\n",
       "    </tr>\n",
       "    <tr>\n",
       "      <th>4</th>\n",
       "      <td>ACATATTACTGCATACAGGTCTCAAATTATAAAATGACACTCGTGG...</td>\n",
       "      <td>1</td>\n",
       "    </tr>\n",
       "  </tbody>\n",
       "</table>\n",
       "</div>"
      ],
      "text/plain": [
       "                                            sequence  is_promoter\n",
       "0  TTAATTTGTCCTTATTTGATTAAGAAGAATAAATCTTATATATAGA...            1\n",
       "1  ATAGCTCAAATTGCTTTATTAGTATTAGAATCAGCTGTAGCTATAA...            1\n",
       "2  AAGCTTCCCTTTAATGTGCTCCTTGTGAATACAGCATTACAATGCC...            1\n",
       "3  TATGTAGAATCTGTACAAGTATCTGTGTTTGGACAATGGCATGTGT...            1\n",
       "4  ACATATTACTGCATACAGGTCTCAAATTATAAAATGACACTCGTGG...            1"
      ]
     },
     "execution_count": 2,
     "metadata": {},
     "output_type": "execute_result"
    }
   ],
   "source": [
    "# Read data\n",
    "df = pd.read_csv('train.csv')\n",
    "df.head()"
   ]
  },
  {
   "cell_type": "code",
   "execution_count": 3,
   "id": "0f327f54",
   "metadata": {},
   "outputs": [
    {
     "data": {
      "text/plain": [
       "(22600, 2)"
      ]
     },
     "execution_count": 3,
     "metadata": {},
     "output_type": "execute_result"
    }
   ],
   "source": [
    "# Shape\n",
    "df.shape"
   ]
  },
  {
   "cell_type": "code",
   "execution_count": 4,
   "id": "36247aac",
   "metadata": {
    "scrolled": false
   },
   "outputs": [
    {
     "name": "stdout",
     "output_type": "stream",
     "text": [
      "13122: NNNNNNNNNNNNNNNNNNNNNNNNNNNNNNNNNNNNNNNNGAATTCTCTCTTGTTGTAGTCTCTTGACAAAATGCAATGGTCAGGTAGCGTTGTTCTAAACTCAAGATTTAAAGGTGAATAGTCCTGTAAGCCCTATAAACATATGTACATAGGTAGGCCAGTACTTAGTACTGGCACATGCCGCTGATCTGTTAGTAGATTATCCATTTCCCTTCAGCGCCTACCTGCGTCACCAATGATGAGGTCGAGACAGAATCCTACTAGTACCTGCCTCGAGTCGATCGGGCAGAGAGCGAGAAA\n"
     ]
    }
   ],
   "source": [
    "# As per papers, there may be sequences with N\n",
    "# Located 1 sequence\n",
    "for index, text  in enumerate(df['sequence']):\n",
    "    if 'N' in set(text):\n",
    "        print(f'{index}: {text}')"
   ]
  },
  {
   "cell_type": "code",
   "execution_count": 5,
   "id": "ebd62acc",
   "metadata": {},
   "outputs": [],
   "source": [
    "# Dropped as it's a one-off out of 22600\n",
    "df.drop(index=13122, axis=0, inplace=True)"
   ]
  },
  {
   "cell_type": "code",
   "execution_count": 6,
   "id": "001765a5",
   "metadata": {},
   "outputs": [],
   "source": [
    "# Defined predictor/target\n",
    "X = df['sequence']\n",
    "y = df['is_promoter']\n",
    "\n",
    "# OneHotEncoded y --> 2x2 matrix\n",
    "y = to_categorical(y, num_classes=2)\n",
    "\n",
    "# Tokenized X\n",
    "X_tokens = df['sequence'].apply(list)"
   ]
  },
  {
   "cell_type": "markdown",
   "id": "705dbfa5",
   "metadata": {},
   "source": [
    "## LABEL BINARIZER\n",
    "- (ONE HOT ENCODING -> 2-D MATRIX)\n",
    "- feeds neural networks"
   ]
  },
  {
   "cell_type": "code",
   "execution_count": 7,
   "id": "2dbe6bc9",
   "metadata": {
    "scrolled": true
   },
   "outputs": [
    {
     "name": "stdout",
     "output_type": "stream",
     "text": [
      "(22599, 301, 4)\n"
     ]
    },
    {
     "data": {
      "text/plain": [
       "array([[0, 0, 0, 1],\n",
       "       [0, 0, 0, 1],\n",
       "       [1, 0, 0, 0],\n",
       "       ...,\n",
       "       [0, 0, 0, 1],\n",
       "       [0, 0, 0, 1],\n",
       "       [1, 0, 0, 0]])"
      ]
     },
     "execution_count": 7,
     "metadata": {},
     "output_type": "execute_result"
    }
   ],
   "source": [
    "    # Label encoding\n",
    "bases = ['A','C','G','T']\n",
    "\n",
    "lb = LabelBinarizer()\n",
    "lb.fit(bases)\n",
    "\n",
    "# Iterate each sequence > transform & store into a list\n",
    "encoded_list = [lb.transform(i) for i in X_tokens]\n",
    "\n",
    "# Convert to 2-D array --> 301x4\n",
    "X_1 = np.array(encoded_list)\n",
    "\n",
    "# Confirmed \n",
    "print(X_1.shape)\n",
    "X_1[0]\n",
    "\n",
    "# Encoding\n",
    "    # A = [1,0,0,0]\n",
    "    # C = [0,1,0,0]\n",
    "    # G = [0,0,1,0]\n",
    "    # T = [0,0,0,1]"
   ]
  },
  {
   "cell_type": "markdown",
   "id": "4e93ac4e",
   "metadata": {},
   "source": [
    "## CNN w/ SGD optimizer"
   ]
  },
  {
   "cell_type": "code",
   "execution_count": 8,
   "id": "f59cf966",
   "metadata": {},
   "outputs": [
    {
     "name": "stdout",
     "output_type": "stream",
     "text": [
      "Model: \"sequential\"\n",
      "_________________________________________________________________\n",
      " Layer (type)                Output Shape              Param #   \n",
      "=================================================================\n",
      " conv1d (Conv1D)             (None, 299, 128)          1664      \n",
      "                                                                 \n",
      " batch_normalization (BatchN  (None, 299, 128)         512       \n",
      " ormalization)                                                   \n",
      "                                                                 \n",
      " average_pooling1d (AverageP  (None, 149, 128)         0         \n",
      " ooling1D)                                                       \n",
      "                                                                 \n",
      " dropout (Dropout)           (None, 149, 128)          0         \n",
      "                                                                 \n",
      " conv1d_1 (Conv1D)           (None, 147, 256)          98560     \n",
      "                                                                 \n",
      " batch_normalization_1 (Batc  (None, 147, 256)         1024      \n",
      " hNormalization)                                                 \n",
      "                                                                 \n",
      " average_pooling1d_1 (Averag  (None, 73, 256)          0         \n",
      " ePooling1D)                                                     \n",
      "                                                                 \n",
      " dropout_1 (Dropout)         (None, 73, 256)           0         \n",
      "                                                                 \n",
      " conv1d_2 (Conv1D)           (None, 71, 128)           98432     \n",
      "                                                                 \n",
      " batch_normalization_2 (Batc  (None, 71, 128)          512       \n",
      " hNormalization)                                                 \n",
      "                                                                 \n",
      " average_pooling1d_2 (Averag  (None, 35, 128)          0         \n",
      " ePooling1D)                                                     \n",
      "                                                                 \n",
      " dropout_2 (Dropout)         (None, 35, 128)           0         \n",
      "                                                                 \n",
      " flatten (Flatten)           (None, 4480)              0         \n",
      "                                                                 \n",
      " dense (Dense)               (None, 128)               573568    \n",
      "                                                                 \n",
      " batch_normalization_3 (Batc  (None, 128)              512       \n",
      " hNormalization)                                                 \n",
      "                                                                 \n",
      " dropout_3 (Dropout)         (None, 128)               0         \n",
      "                                                                 \n",
      " dense_1 (Dense)             (None, 64)                8256      \n",
      "                                                                 \n",
      " batch_normalization_4 (Batc  (None, 64)               256       \n",
      " hNormalization)                                                 \n",
      "                                                                 \n",
      " dropout_4 (Dropout)         (None, 64)                0         \n",
      "                                                                 \n",
      " dense_2 (Dense)             (None, 2)                 130       \n",
      "                                                                 \n",
      "=================================================================\n",
      "Total params: 783,426\n",
      "Trainable params: 782,018\n",
      "Non-trainable params: 1,408\n",
      "_________________________________________________________________\n"
     ]
    },
    {
     "name": "stderr",
     "output_type": "stream",
     "text": [
      "2022-02-21 02:35:54.923169: I tensorflow/stream_executor/cuda/cuda_gpu_executor.cc:936] successful NUMA node read from SysFS had negative value (-1), but there must be at least one NUMA node, so returning NUMA node zero\n",
      "2022-02-21 02:35:54.923336: W tensorflow/stream_executor/platform/default/dso_loader.cc:64] Could not load dynamic library 'libcudart.so.11.0'; dlerror: libcudart.so.11.0: cannot open shared object file: No such file or directory\n",
      "2022-02-21 02:35:54.923396: W tensorflow/stream_executor/platform/default/dso_loader.cc:64] Could not load dynamic library 'libcublas.so.11'; dlerror: libcublas.so.11: cannot open shared object file: No such file or directory\n",
      "2022-02-21 02:35:54.923448: W tensorflow/stream_executor/platform/default/dso_loader.cc:64] Could not load dynamic library 'libcublasLt.so.11'; dlerror: libcublasLt.so.11: cannot open shared object file: No such file or directory\n",
      "2022-02-21 02:35:54.923498: W tensorflow/stream_executor/platform/default/dso_loader.cc:64] Could not load dynamic library 'libcufft.so.10'; dlerror: libcufft.so.10: cannot open shared object file: No such file or directory\n",
      "2022-02-21 02:35:54.923549: W tensorflow/stream_executor/platform/default/dso_loader.cc:64] Could not load dynamic library 'libcurand.so.10'; dlerror: libcurand.so.10: cannot open shared object file: No such file or directory\n",
      "2022-02-21 02:35:54.923599: W tensorflow/stream_executor/platform/default/dso_loader.cc:64] Could not load dynamic library 'libcusolver.so.11'; dlerror: libcusolver.so.11: cannot open shared object file: No such file or directory\n",
      "2022-02-21 02:35:54.923647: W tensorflow/stream_executor/platform/default/dso_loader.cc:64] Could not load dynamic library 'libcusparse.so.11'; dlerror: libcusparse.so.11: cannot open shared object file: No such file or directory\n",
      "2022-02-21 02:35:54.924100: W tensorflow/core/common_runtime/gpu/gpu_device.cc:1850] Cannot dlopen some GPU libraries. Please make sure the missing libraries mentioned above are installed properly if you would like to use GPU. Follow the guide at https://www.tensorflow.org/install/gpu for how to download and setup the required libraries for your platform.\n",
      "Skipping registering GPU devices...\n",
      "2022-02-21 02:35:54.924802: I tensorflow/core/platform/cpu_feature_guard.cc:151] This TensorFlow binary is optimized with oneAPI Deep Neural Network Library (oneDNN) to use the following CPU instructions in performance-critical operations:  AVX2 FMA\n",
      "To enable them in other operations, rebuild TensorFlow with the appropriate compiler flags.\n"
     ]
    }
   ],
   "source": [
    "model = Sequential()\n",
    "\n",
    "# CNN input\n",
    "model.add(Conv1D(filters=128, kernel_size=3, activation='relu', input_shape=(301,4)))\n",
    "model.add(BatchNormalization())\n",
    "model.add(AveragePooling1D())\n",
    "model.add(Dropout(0.25))\n",
    "\n",
    "# 2 more CNN layers\n",
    "model.add(Conv1D(filters=256, kernel_size=3, activation='relu'))\n",
    "model.add(BatchNormalization())\n",
    "model.add(AveragePooling1D())\n",
    "model.add(Dropout(0.25))\n",
    "\n",
    "model.add(Conv1D(filters=128, kernel_size=3, activation='relu'))\n",
    "model.add(BatchNormalization())\n",
    "model.add(AveragePooling1D())\n",
    "model.add(Dropout(0.25))\n",
    "\n",
    "model.add(Flatten())\n",
    "\n",
    "# 2 Dense layers\n",
    "model.add(Dense(128, activation='relu'))\n",
    "model.add(BatchNormalization())\n",
    "model.add(Dropout(0.4))\n",
    "\n",
    "model.add(Dense(64, activation='relu'))\n",
    "model.add(BatchNormalization())\n",
    "model.add(Dropout(0.25))\n",
    "\n",
    "# Sigmoid output\n",
    "model.add(Dense(2, activation='sigmoid'))\n",
    "\n",
    "\n",
    "# Model Compiled\n",
    "model.compile(loss='binary_crossentropy',\n",
    "             optimizer='SGD',\n",
    "             metrics=['acc'])\n",
    "\n",
    "# Summary\n",
    "model.summary()"
   ]
  },
  {
   "cell_type": "code",
   "execution_count": 9,
   "id": "6a019cfc",
   "metadata": {},
   "outputs": [
    {
     "name": "stdout",
     "output_type": "stream",
     "text": [
      "Epoch 1/100\n",
      "105/265 [==========>...................] - ETA: 10s - loss: 0.6975 - acc: 0.6774"
     ]
    },
    {
     "ename": "KeyboardInterrupt",
     "evalue": "",
     "output_type": "error",
     "traceback": [
      "\u001b[0;31m---------------------------------------------------------------------------\u001b[0m",
      "\u001b[0;31mKeyboardInterrupt\u001b[0m                         Traceback (most recent call last)",
      "\u001b[0;32m/tmp/ipykernel_4952/3659434707.py\u001b[0m in \u001b[0;36m<module>\u001b[0;34m\u001b[0m\n\u001b[1;32m      1\u001b[0m \u001b[0mX_train\u001b[0m\u001b[0;34m,\u001b[0m \u001b[0mX_test\u001b[0m\u001b[0;34m,\u001b[0m \u001b[0my_train\u001b[0m\u001b[0;34m,\u001b[0m \u001b[0my_test\u001b[0m \u001b[0;34m=\u001b[0m \u001b[0mtrain_test_split\u001b[0m\u001b[0;34m(\u001b[0m\u001b[0mX_1\u001b[0m\u001b[0;34m,\u001b[0m \u001b[0my\u001b[0m\u001b[0;34m,\u001b[0m \u001b[0mrandom_state\u001b[0m\u001b[0;34m=\u001b[0m\u001b[0;36m42\u001b[0m\u001b[0;34m,\u001b[0m \u001b[0mstratify\u001b[0m\u001b[0;34m=\u001b[0m\u001b[0my\u001b[0m\u001b[0;34m)\u001b[0m\u001b[0;34m\u001b[0m\u001b[0;34m\u001b[0m\u001b[0m\n\u001b[1;32m      2\u001b[0m \u001b[0;34m\u001b[0m\u001b[0m\n\u001b[0;32m----> 3\u001b[0;31m history = model.fit(X_train, y_train,\n\u001b[0m\u001b[1;32m      4\u001b[0m                     \u001b[0mvalidation_data\u001b[0m\u001b[0;34m=\u001b[0m\u001b[0;34m(\u001b[0m\u001b[0mX_test\u001b[0m\u001b[0;34m,\u001b[0m \u001b[0my_test\u001b[0m\u001b[0;34m)\u001b[0m\u001b[0;34m,\u001b[0m\u001b[0;34m\u001b[0m\u001b[0;34m\u001b[0m\u001b[0m\n\u001b[1;32m      5\u001b[0m                     \u001b[0mbatch_size\u001b[0m\u001b[0;34m=\u001b[0m\u001b[0;36m64\u001b[0m\u001b[0;34m,\u001b[0m\u001b[0;34m\u001b[0m\u001b[0;34m\u001b[0m\u001b[0m\n",
      "\u001b[0;32m~/anaconda3/lib/python3.9/site-packages/keras/utils/traceback_utils.py\u001b[0m in \u001b[0;36merror_handler\u001b[0;34m(*args, **kwargs)\u001b[0m\n\u001b[1;32m     62\u001b[0m     \u001b[0mfiltered_tb\u001b[0m \u001b[0;34m=\u001b[0m \u001b[0;32mNone\u001b[0m\u001b[0;34m\u001b[0m\u001b[0;34m\u001b[0m\u001b[0m\n\u001b[1;32m     63\u001b[0m     \u001b[0;32mtry\u001b[0m\u001b[0;34m:\u001b[0m\u001b[0;34m\u001b[0m\u001b[0;34m\u001b[0m\u001b[0m\n\u001b[0;32m---> 64\u001b[0;31m       \u001b[0;32mreturn\u001b[0m \u001b[0mfn\u001b[0m\u001b[0;34m(\u001b[0m\u001b[0;34m*\u001b[0m\u001b[0margs\u001b[0m\u001b[0;34m,\u001b[0m \u001b[0;34m**\u001b[0m\u001b[0mkwargs\u001b[0m\u001b[0;34m)\u001b[0m\u001b[0;34m\u001b[0m\u001b[0;34m\u001b[0m\u001b[0m\n\u001b[0m\u001b[1;32m     65\u001b[0m     \u001b[0;32mexcept\u001b[0m \u001b[0mException\u001b[0m \u001b[0;32mas\u001b[0m \u001b[0me\u001b[0m\u001b[0;34m:\u001b[0m  \u001b[0;31m# pylint: disable=broad-except\u001b[0m\u001b[0;34m\u001b[0m\u001b[0;34m\u001b[0m\u001b[0m\n\u001b[1;32m     66\u001b[0m       \u001b[0mfiltered_tb\u001b[0m \u001b[0;34m=\u001b[0m \u001b[0m_process_traceback_frames\u001b[0m\u001b[0;34m(\u001b[0m\u001b[0me\u001b[0m\u001b[0;34m.\u001b[0m\u001b[0m__traceback__\u001b[0m\u001b[0;34m)\u001b[0m\u001b[0;34m\u001b[0m\u001b[0;34m\u001b[0m\u001b[0m\n",
      "\u001b[0;32m~/anaconda3/lib/python3.9/site-packages/keras/engine/training.py\u001b[0m in \u001b[0;36mfit\u001b[0;34m(self, x, y, batch_size, epochs, verbose, callbacks, validation_split, validation_data, shuffle, class_weight, sample_weight, initial_epoch, steps_per_epoch, validation_steps, validation_batch_size, validation_freq, max_queue_size, workers, use_multiprocessing)\u001b[0m\n\u001b[1;32m   1382\u001b[0m                 _r=1):\n\u001b[1;32m   1383\u001b[0m               \u001b[0mcallbacks\u001b[0m\u001b[0;34m.\u001b[0m\u001b[0mon_train_batch_begin\u001b[0m\u001b[0;34m(\u001b[0m\u001b[0mstep\u001b[0m\u001b[0;34m)\u001b[0m\u001b[0;34m\u001b[0m\u001b[0;34m\u001b[0m\u001b[0m\n\u001b[0;32m-> 1384\u001b[0;31m               \u001b[0mtmp_logs\u001b[0m \u001b[0;34m=\u001b[0m \u001b[0mself\u001b[0m\u001b[0;34m.\u001b[0m\u001b[0mtrain_function\u001b[0m\u001b[0;34m(\u001b[0m\u001b[0miterator\u001b[0m\u001b[0;34m)\u001b[0m\u001b[0;34m\u001b[0m\u001b[0;34m\u001b[0m\u001b[0m\n\u001b[0m\u001b[1;32m   1385\u001b[0m               \u001b[0;32mif\u001b[0m \u001b[0mdata_handler\u001b[0m\u001b[0;34m.\u001b[0m\u001b[0mshould_sync\u001b[0m\u001b[0;34m:\u001b[0m\u001b[0;34m\u001b[0m\u001b[0;34m\u001b[0m\u001b[0m\n\u001b[1;32m   1386\u001b[0m                 \u001b[0mcontext\u001b[0m\u001b[0;34m.\u001b[0m\u001b[0masync_wait\u001b[0m\u001b[0;34m(\u001b[0m\u001b[0;34m)\u001b[0m\u001b[0;34m\u001b[0m\u001b[0;34m\u001b[0m\u001b[0m\n",
      "\u001b[0;32m~/anaconda3/lib/python3.9/site-packages/tensorflow/python/util/traceback_utils.py\u001b[0m in \u001b[0;36merror_handler\u001b[0;34m(*args, **kwargs)\u001b[0m\n\u001b[1;32m    148\u001b[0m     \u001b[0mfiltered_tb\u001b[0m \u001b[0;34m=\u001b[0m \u001b[0;32mNone\u001b[0m\u001b[0;34m\u001b[0m\u001b[0;34m\u001b[0m\u001b[0m\n\u001b[1;32m    149\u001b[0m     \u001b[0;32mtry\u001b[0m\u001b[0;34m:\u001b[0m\u001b[0;34m\u001b[0m\u001b[0;34m\u001b[0m\u001b[0m\n\u001b[0;32m--> 150\u001b[0;31m       \u001b[0;32mreturn\u001b[0m \u001b[0mfn\u001b[0m\u001b[0;34m(\u001b[0m\u001b[0;34m*\u001b[0m\u001b[0margs\u001b[0m\u001b[0;34m,\u001b[0m \u001b[0;34m**\u001b[0m\u001b[0mkwargs\u001b[0m\u001b[0;34m)\u001b[0m\u001b[0;34m\u001b[0m\u001b[0;34m\u001b[0m\u001b[0m\n\u001b[0m\u001b[1;32m    151\u001b[0m     \u001b[0;32mexcept\u001b[0m \u001b[0mException\u001b[0m \u001b[0;32mas\u001b[0m \u001b[0me\u001b[0m\u001b[0;34m:\u001b[0m\u001b[0;34m\u001b[0m\u001b[0;34m\u001b[0m\u001b[0m\n\u001b[1;32m    152\u001b[0m       \u001b[0mfiltered_tb\u001b[0m \u001b[0;34m=\u001b[0m \u001b[0m_process_traceback_frames\u001b[0m\u001b[0;34m(\u001b[0m\u001b[0me\u001b[0m\u001b[0;34m.\u001b[0m\u001b[0m__traceback__\u001b[0m\u001b[0;34m)\u001b[0m\u001b[0;34m\u001b[0m\u001b[0;34m\u001b[0m\u001b[0m\n",
      "\u001b[0;32m~/anaconda3/lib/python3.9/site-packages/tensorflow/python/eager/def_function.py\u001b[0m in \u001b[0;36m__call__\u001b[0;34m(self, *args, **kwds)\u001b[0m\n\u001b[1;32m    913\u001b[0m \u001b[0;34m\u001b[0m\u001b[0m\n\u001b[1;32m    914\u001b[0m       \u001b[0;32mwith\u001b[0m \u001b[0mOptionalXlaContext\u001b[0m\u001b[0;34m(\u001b[0m\u001b[0mself\u001b[0m\u001b[0;34m.\u001b[0m\u001b[0m_jit_compile\u001b[0m\u001b[0;34m)\u001b[0m\u001b[0;34m:\u001b[0m\u001b[0;34m\u001b[0m\u001b[0;34m\u001b[0m\u001b[0m\n\u001b[0;32m--> 915\u001b[0;31m         \u001b[0mresult\u001b[0m \u001b[0;34m=\u001b[0m \u001b[0mself\u001b[0m\u001b[0;34m.\u001b[0m\u001b[0m_call\u001b[0m\u001b[0;34m(\u001b[0m\u001b[0;34m*\u001b[0m\u001b[0margs\u001b[0m\u001b[0;34m,\u001b[0m \u001b[0;34m**\u001b[0m\u001b[0mkwds\u001b[0m\u001b[0;34m)\u001b[0m\u001b[0;34m\u001b[0m\u001b[0;34m\u001b[0m\u001b[0m\n\u001b[0m\u001b[1;32m    916\u001b[0m \u001b[0;34m\u001b[0m\u001b[0m\n\u001b[1;32m    917\u001b[0m       \u001b[0mnew_tracing_count\u001b[0m \u001b[0;34m=\u001b[0m \u001b[0mself\u001b[0m\u001b[0;34m.\u001b[0m\u001b[0mexperimental_get_tracing_count\u001b[0m\u001b[0;34m(\u001b[0m\u001b[0;34m)\u001b[0m\u001b[0;34m\u001b[0m\u001b[0;34m\u001b[0m\u001b[0m\n",
      "\u001b[0;32m~/anaconda3/lib/python3.9/site-packages/tensorflow/python/eager/def_function.py\u001b[0m in \u001b[0;36m_call\u001b[0;34m(self, *args, **kwds)\u001b[0m\n\u001b[1;32m    945\u001b[0m       \u001b[0;31m# In this case we have created variables on the first call, so we run the\u001b[0m\u001b[0;34m\u001b[0m\u001b[0;34m\u001b[0m\u001b[0m\n\u001b[1;32m    946\u001b[0m       \u001b[0;31m# defunned version which is guaranteed to never create variables.\u001b[0m\u001b[0;34m\u001b[0m\u001b[0;34m\u001b[0m\u001b[0m\n\u001b[0;32m--> 947\u001b[0;31m       \u001b[0;32mreturn\u001b[0m \u001b[0mself\u001b[0m\u001b[0;34m.\u001b[0m\u001b[0m_stateless_fn\u001b[0m\u001b[0;34m(\u001b[0m\u001b[0;34m*\u001b[0m\u001b[0margs\u001b[0m\u001b[0;34m,\u001b[0m \u001b[0;34m**\u001b[0m\u001b[0mkwds\u001b[0m\u001b[0;34m)\u001b[0m  \u001b[0;31m# pylint: disable=not-callable\u001b[0m\u001b[0;34m\u001b[0m\u001b[0;34m\u001b[0m\u001b[0m\n\u001b[0m\u001b[1;32m    948\u001b[0m     \u001b[0;32melif\u001b[0m \u001b[0mself\u001b[0m\u001b[0;34m.\u001b[0m\u001b[0m_stateful_fn\u001b[0m \u001b[0;32mis\u001b[0m \u001b[0;32mnot\u001b[0m \u001b[0;32mNone\u001b[0m\u001b[0;34m:\u001b[0m\u001b[0;34m\u001b[0m\u001b[0;34m\u001b[0m\u001b[0m\n\u001b[1;32m    949\u001b[0m       \u001b[0;31m# Release the lock early so that multiple threads can perform the call\u001b[0m\u001b[0;34m\u001b[0m\u001b[0;34m\u001b[0m\u001b[0m\n",
      "\u001b[0;32m~/anaconda3/lib/python3.9/site-packages/tensorflow/python/eager/function.py\u001b[0m in \u001b[0;36m__call__\u001b[0;34m(self, *args, **kwargs)\u001b[0m\n\u001b[1;32m   2954\u001b[0m       (graph_function,\n\u001b[1;32m   2955\u001b[0m        filtered_flat_args) = self._maybe_define_function(args, kwargs)\n\u001b[0;32m-> 2956\u001b[0;31m     return graph_function._call_flat(\n\u001b[0m\u001b[1;32m   2957\u001b[0m         filtered_flat_args, captured_inputs=graph_function.captured_inputs)  # pylint: disable=protected-access\n\u001b[1;32m   2958\u001b[0m \u001b[0;34m\u001b[0m\u001b[0m\n",
      "\u001b[0;32m~/anaconda3/lib/python3.9/site-packages/tensorflow/python/eager/function.py\u001b[0m in \u001b[0;36m_call_flat\u001b[0;34m(self, args, captured_inputs, cancellation_manager)\u001b[0m\n\u001b[1;32m   1851\u001b[0m         and executing_eagerly):\n\u001b[1;32m   1852\u001b[0m       \u001b[0;31m# No tape is watching; skip to running the function.\u001b[0m\u001b[0;34m\u001b[0m\u001b[0;34m\u001b[0m\u001b[0m\n\u001b[0;32m-> 1853\u001b[0;31m       return self._build_call_outputs(self._inference_function.call(\n\u001b[0m\u001b[1;32m   1854\u001b[0m           ctx, args, cancellation_manager=cancellation_manager))\n\u001b[1;32m   1855\u001b[0m     forward_backward = self._select_forward_and_backward_functions(\n",
      "\u001b[0;32m~/anaconda3/lib/python3.9/site-packages/tensorflow/python/eager/function.py\u001b[0m in \u001b[0;36mcall\u001b[0;34m(self, ctx, args, cancellation_manager)\u001b[0m\n\u001b[1;32m    497\u001b[0m       \u001b[0;32mwith\u001b[0m \u001b[0m_InterpolateFunctionError\u001b[0m\u001b[0;34m(\u001b[0m\u001b[0mself\u001b[0m\u001b[0;34m)\u001b[0m\u001b[0;34m:\u001b[0m\u001b[0;34m\u001b[0m\u001b[0;34m\u001b[0m\u001b[0m\n\u001b[1;32m    498\u001b[0m         \u001b[0;32mif\u001b[0m \u001b[0mcancellation_manager\u001b[0m \u001b[0;32mis\u001b[0m \u001b[0;32mNone\u001b[0m\u001b[0;34m:\u001b[0m\u001b[0;34m\u001b[0m\u001b[0;34m\u001b[0m\u001b[0m\n\u001b[0;32m--> 499\u001b[0;31m           outputs = execute.execute(\n\u001b[0m\u001b[1;32m    500\u001b[0m               \u001b[0mstr\u001b[0m\u001b[0;34m(\u001b[0m\u001b[0mself\u001b[0m\u001b[0;34m.\u001b[0m\u001b[0msignature\u001b[0m\u001b[0;34m.\u001b[0m\u001b[0mname\u001b[0m\u001b[0;34m)\u001b[0m\u001b[0;34m,\u001b[0m\u001b[0;34m\u001b[0m\u001b[0;34m\u001b[0m\u001b[0m\n\u001b[1;32m    501\u001b[0m               \u001b[0mnum_outputs\u001b[0m\u001b[0;34m=\u001b[0m\u001b[0mself\u001b[0m\u001b[0;34m.\u001b[0m\u001b[0m_num_outputs\u001b[0m\u001b[0;34m,\u001b[0m\u001b[0;34m\u001b[0m\u001b[0;34m\u001b[0m\u001b[0m\n",
      "\u001b[0;32m~/anaconda3/lib/python3.9/site-packages/tensorflow/python/eager/execute.py\u001b[0m in \u001b[0;36mquick_execute\u001b[0;34m(op_name, num_outputs, inputs, attrs, ctx, name)\u001b[0m\n\u001b[1;32m     52\u001b[0m   \u001b[0;32mtry\u001b[0m\u001b[0;34m:\u001b[0m\u001b[0;34m\u001b[0m\u001b[0;34m\u001b[0m\u001b[0m\n\u001b[1;32m     53\u001b[0m     \u001b[0mctx\u001b[0m\u001b[0;34m.\u001b[0m\u001b[0mensure_initialized\u001b[0m\u001b[0;34m(\u001b[0m\u001b[0;34m)\u001b[0m\u001b[0;34m\u001b[0m\u001b[0;34m\u001b[0m\u001b[0m\n\u001b[0;32m---> 54\u001b[0;31m     tensors = pywrap_tfe.TFE_Py_Execute(ctx._handle, device_name, op_name,\n\u001b[0m\u001b[1;32m     55\u001b[0m                                         inputs, attrs, num_outputs)\n\u001b[1;32m     56\u001b[0m   \u001b[0;32mexcept\u001b[0m \u001b[0mcore\u001b[0m\u001b[0;34m.\u001b[0m\u001b[0m_NotOkStatusException\u001b[0m \u001b[0;32mas\u001b[0m \u001b[0me\u001b[0m\u001b[0;34m:\u001b[0m\u001b[0;34m\u001b[0m\u001b[0;34m\u001b[0m\u001b[0m\n",
      "\u001b[0;31mKeyboardInterrupt\u001b[0m: "
     ]
    }
   ],
   "source": [
    "X_train, X_test, y_train, y_test = train_test_split(X_1, y, random_state=42, stratify=y)\n",
    "\n",
    "history = model.fit(X_train, y_train,\n",
    "                    validation_data=(X_test, y_test),\n",
    "                    batch_size=64,\n",
    "                    epochs=100,\n",
    "                    verbose=1)"
   ]
  },
  {
   "cell_type": "markdown",
   "id": "f56e371d",
   "metadata": {},
   "source": [
    "## CNN RESULTS (w/ SGD)\n",
    "- LAST EPOCH: loss: 0.0980 - acc: 0.9624 - val_loss: 0.3090 - val_acc: 0.9025\n",
    "    - **Optimizing with SGD reduced loss and variance**"
   ]
  },
  {
   "cell_type": "markdown",
   "id": "d17be54a",
   "metadata": {},
   "source": [
    "## TEST DATA > PREDICTIONS"
   ]
  },
  {
   "cell_type": "code",
   "execution_count": 111,
   "id": "14832810",
   "metadata": {},
   "outputs": [
    {
     "name": "stdout",
     "output_type": "stream",
     "text": [
      "Epoch 1/100\n",
      "530/530 [==============================] - 8s 15ms/step - loss: 0.5787 - acc: 0.7349 - val_loss: 0.4599 - val_acc: 0.7827\n",
      "Epoch 2/100\n",
      "530/530 [==============================] - 7s 14ms/step - loss: 0.4579 - acc: 0.7952 - val_loss: 0.3659 - val_acc: 0.8396\n",
      "Epoch 3/100\n",
      "530/530 [==============================] - 7s 13ms/step - loss: 0.3956 - acc: 0.8249 - val_loss: 0.3501 - val_acc: 0.8453\n",
      "Epoch 4/100\n",
      "530/530 [==============================] - 8s 15ms/step - loss: 0.3520 - acc: 0.8491 - val_loss: 0.3100 - val_acc: 0.8678\n",
      "Epoch 5/100\n",
      "530/530 [==============================] - 7s 13ms/step - loss: 0.3383 - acc: 0.8543 - val_loss: 0.2998 - val_acc: 0.8720\n",
      "Epoch 6/100\n",
      "530/530 [==============================] - 7s 14ms/step - loss: 0.3202 - acc: 0.8642 - val_loss: 0.2971 - val_acc: 0.8736\n",
      "Epoch 7/100\n",
      "530/530 [==============================] - 7s 13ms/step - loss: 0.3051 - acc: 0.8711 - val_loss: 0.2827 - val_acc: 0.8807\n",
      "Epoch 8/100\n",
      "530/530 [==============================] - 5s 10ms/step - loss: 0.3002 - acc: 0.8746 - val_loss: 0.2839 - val_acc: 0.8812\n",
      "Epoch 9/100\n",
      "530/530 [==============================] - 7s 13ms/step - loss: 0.2868 - acc: 0.8812 - val_loss: 0.2751 - val_acc: 0.8857\n",
      "Epoch 10/100\n",
      "530/530 [==============================] - 7s 13ms/step - loss: 0.2811 - acc: 0.8847 - val_loss: 0.2649 - val_acc: 0.8894\n",
      "Epoch 11/100\n",
      "530/530 [==============================] - 8s 14ms/step - loss: 0.2711 - acc: 0.8900 - val_loss: 0.2717 - val_acc: 0.8869\n",
      "Epoch 12/100\n",
      "530/530 [==============================] - 5s 9ms/step - loss: 0.2666 - acc: 0.8904 - val_loss: 0.2623 - val_acc: 0.8924\n",
      "Epoch 13/100\n",
      "530/530 [==============================] - 7s 14ms/step - loss: 0.2667 - acc: 0.8904 - val_loss: 0.2482 - val_acc: 0.9004\n",
      "Epoch 14/100\n",
      "530/530 [==============================] - 8s 15ms/step - loss: 0.2562 - acc: 0.8971 - val_loss: 0.2510 - val_acc: 0.8989\n",
      "Epoch 15/100\n",
      "530/530 [==============================] - 6s 11ms/step - loss: 0.2546 - acc: 0.8950 - val_loss: 0.2624 - val_acc: 0.8885\n",
      "Epoch 16/100\n",
      "530/530 [==============================] - 6s 10ms/step - loss: 0.2439 - acc: 0.8996 - val_loss: 0.2457 - val_acc: 0.9030\n",
      "Epoch 17/100\n",
      "530/530 [==============================] - 8s 14ms/step - loss: 0.2431 - acc: 0.9003 - val_loss: 0.2553 - val_acc: 0.8924\n",
      "Epoch 18/100\n",
      "530/530 [==============================] - 6s 11ms/step - loss: 0.2401 - acc: 0.9011 - val_loss: 0.2520 - val_acc: 0.8966\n",
      "Epoch 19/100\n",
      "530/530 [==============================] - 4s 7ms/step - loss: 0.2387 - acc: 0.9012 - val_loss: 0.2427 - val_acc: 0.9041\n",
      "Epoch 20/100\n",
      "530/530 [==============================] - 4s 7ms/step - loss: 0.2316 - acc: 0.9056 - val_loss: 0.2474 - val_acc: 0.9005\n",
      "Epoch 21/100\n",
      "530/530 [==============================] - 4s 8ms/step - loss: 0.2246 - acc: 0.9096 - val_loss: 0.2571 - val_acc: 0.8975\n",
      "Epoch 22/100\n",
      "530/530 [==============================] - 6s 12ms/step - loss: 0.2238 - acc: 0.9096 - val_loss: 0.2443 - val_acc: 0.9048\n",
      "Epoch 23/100\n",
      "530/530 [==============================] - 5s 10ms/step - loss: 0.2187 - acc: 0.9106 - val_loss: 0.2465 - val_acc: 0.9053\n",
      "Epoch 24/100\n",
      "530/530 [==============================] - 8s 14ms/step - loss: 0.2128 - acc: 0.9107 - val_loss: 0.2560 - val_acc: 0.8991\n",
      "Epoch 25/100\n",
      "530/530 [==============================] - 7s 13ms/step - loss: 0.2127 - acc: 0.9139 - val_loss: 0.2397 - val_acc: 0.9085\n",
      "Epoch 26/100\n",
      "530/530 [==============================] - 6s 10ms/step - loss: 0.2052 - acc: 0.9176 - val_loss: 0.2475 - val_acc: 0.9067\n",
      "Epoch 27/100\n",
      "530/530 [==============================] - 5s 10ms/step - loss: 0.2025 - acc: 0.9191 - val_loss: 0.2484 - val_acc: 0.9034\n",
      "Epoch 28/100\n",
      "530/530 [==============================] - 5s 10ms/step - loss: 0.2002 - acc: 0.9185 - val_loss: 0.2538 - val_acc: 0.9027\n",
      "Epoch 29/100\n",
      "530/530 [==============================] - 5s 10ms/step - loss: 0.2023 - acc: 0.9196 - val_loss: 0.2533 - val_acc: 0.9023\n",
      "Epoch 30/100\n",
      "530/530 [==============================] - 6s 12ms/step - loss: 0.1938 - acc: 0.9244 - val_loss: 0.2435 - val_acc: 0.9092\n",
      "Epoch 31/100\n",
      "530/530 [==============================] - 6s 12ms/step - loss: 0.1937 - acc: 0.9227 - val_loss: 0.2469 - val_acc: 0.9057\n",
      "Epoch 32/100\n",
      "530/530 [==============================] - 7s 14ms/step - loss: 0.1957 - acc: 0.9202 - val_loss: 0.2436 - val_acc: 0.9094\n",
      "Epoch 33/100\n",
      "530/530 [==============================] - 7s 13ms/step - loss: 0.1867 - acc: 0.9244 - val_loss: 0.2442 - val_acc: 0.9074\n",
      "Epoch 34/100\n",
      "530/530 [==============================] - 7s 13ms/step - loss: 0.1801 - acc: 0.9267 - val_loss: 0.2482 - val_acc: 0.9069\n",
      "Epoch 35/100\n",
      "530/530 [==============================] - 6s 11ms/step - loss: 0.1816 - acc: 0.9265 - val_loss: 0.2564 - val_acc: 0.9055\n",
      "Epoch 36/100\n",
      "530/530 [==============================] - 5s 9ms/step - loss: 0.1763 - acc: 0.9294 - val_loss: 0.2562 - val_acc: 0.9035\n",
      "Epoch 37/100\n",
      "530/530 [==============================] - 5s 9ms/step - loss: 0.1717 - acc: 0.9324 - val_loss: 0.2525 - val_acc: 0.9062\n",
      "Epoch 38/100\n",
      "530/530 [==============================] - 4s 8ms/step - loss: 0.1715 - acc: 0.9316 - val_loss: 0.2489 - val_acc: 0.9106\n",
      "Epoch 39/100\n",
      "530/530 [==============================] - 4s 7ms/step - loss: 0.1679 - acc: 0.9321 - val_loss: 0.2534 - val_acc: 0.9090\n",
      "Epoch 40/100\n",
      "530/530 [==============================] - 4s 7ms/step - loss: 0.1710 - acc: 0.9311 - val_loss: 0.2539 - val_acc: 0.9087\n",
      "Epoch 41/100\n",
      "530/530 [==============================] - 5s 10ms/step - loss: 0.1649 - acc: 0.9338 - val_loss: 0.2537 - val_acc: 0.9057\n",
      "Epoch 42/100\n",
      "530/530 [==============================] - 4s 8ms/step - loss: 0.1646 - acc: 0.9329 - val_loss: 0.2616 - val_acc: 0.9016\n",
      "Epoch 43/100\n",
      "530/530 [==============================] - 5s 9ms/step - loss: 0.1558 - acc: 0.9382 - val_loss: 0.2658 - val_acc: 0.9058\n",
      "Epoch 44/100\n",
      "530/530 [==============================] - 5s 9ms/step - loss: 0.1549 - acc: 0.9368 - val_loss: 0.2588 - val_acc: 0.9080\n",
      "Epoch 45/100\n",
      "530/530 [==============================] - 4s 8ms/step - loss: 0.1487 - acc: 0.9407 - val_loss: 0.2591 - val_acc: 0.9076\n",
      "Epoch 46/100\n",
      "530/530 [==============================] - 5s 9ms/step - loss: 0.1466 - acc: 0.9432 - val_loss: 0.2615 - val_acc: 0.9050\n",
      "Epoch 47/100\n",
      "530/530 [==============================] - 4s 8ms/step - loss: 0.1513 - acc: 0.9391 - val_loss: 0.2599 - val_acc: 0.9074\n",
      "Epoch 48/100\n",
      "530/530 [==============================] - 6s 11ms/step - loss: 0.1404 - acc: 0.9447 - val_loss: 0.2692 - val_acc: 0.9074\n",
      "Epoch 49/100\n",
      "530/530 [==============================] - 5s 9ms/step - loss: 0.1386 - acc: 0.9460 - val_loss: 0.2660 - val_acc: 0.9112\n",
      "Epoch 50/100\n",
      "530/530 [==============================] - 4s 7ms/step - loss: 0.1458 - acc: 0.9450 - val_loss: 0.2666 - val_acc: 0.9119\n"
     ]
    }
   ],
   "source": [
    "# EARLY STOPPING ON LOWEST LOSS\n",
    "early1 = EarlyStopping(monitor='val_loss', patience=25, min_delta = 0.0001, restore_best_weights=True)\n",
    "\n",
    "history_best1 = model.fit(X_train, y_train,\n",
    "                    validation_data=(X_test, y_test),\n",
    "                    batch_size=32,\n",
    "                    epochs=100,\n",
    "                    callbacks=[early1],\n",
    "                    verbose=1)"
   ]
  },
  {
   "cell_type": "markdown",
   "id": "f1ea2880",
   "metadata": {},
   "source": [
    "## RESULTS (CNN w/ SGD optimizer)\n",
    "- EPOCH 25/100: loss: 0.2127 - acc: 0.9139 - val_loss: 0.2397 - val_acc: 0.9085\n",
    "- **LOWEST LOSS AND LOWEST VARIANCE**"
   ]
  },
  {
   "cell_type": "code",
   "execution_count": 112,
   "id": "27f68df1",
   "metadata": {},
   "outputs": [],
   "source": [
    "test = pd.read_csv('test.csv')\n",
    "\n",
    "# Label encoding test sequences\n",
    "tokens = test['Sequence'].apply(list)\n",
    "tokens_list = [lb.transform(i) for i in tokens]\n",
    "\n",
    "# No sequences with \"N\" in it\n",
    "for index, text  in enumerate(test['Sequence']):\n",
    "    if 'N' in set(text):\n",
    "        print(f'{index}: {text}')\n",
    "\n",
    "# Convert to 2-D array\n",
    "X_pred = np.array(tokens_list)"
   ]
  },
  {
   "cell_type": "code",
   "execution_count": 113,
   "id": "83f2db03",
   "metadata": {},
   "outputs": [],
   "source": [
    "# Stored and exported predictions\n",
    "pred = model.predict(X_pred)\n",
    "test['predictions'] = [np.argmax(p) for p in pred]\n",
    "\n",
    "test.to_csv('submission_best.csv', index=False)"
   ]
  }
 ],
 "metadata": {
  "kernelspec": {
   "display_name": "Python 3 (ipykernel)",
   "language": "python",
   "name": "python3"
  },
  "language_info": {
   "codemirror_mode": {
    "name": "ipython",
    "version": 3
   },
   "file_extension": ".py",
   "mimetype": "text/x-python",
   "name": "python",
   "nbconvert_exporter": "python",
   "pygments_lexer": "ipython3",
   "version": "3.9.7"
  }
 },
 "nbformat": 4,
 "nbformat_minor": 5
}
